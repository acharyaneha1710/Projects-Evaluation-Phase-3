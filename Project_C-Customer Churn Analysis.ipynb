{
 "cells": [
  {
   "cell_type": "markdown",
   "id": "cfb44738",
   "metadata": {},
   "source": [
    "# Customer Churn Analysis\n",
    "\n",
    "## Project Description\n",
    "\n",
    "Customer churn is when a company’s customers stop doing business with that company. Businesses are very keen on measuring churn because keeping an existing customer is far less expensive than acquiring a new customer. New business involves working leads through a sales funnel, using marketing and sales budgets to gain additional customers. Existing customers will often have a higher volume of service consumption and can generate additional customer referrals.\n",
    "Customer retention can be achieved with good customer service and products. But the most effective way for a company to prevent attrition of customers is to truly know them. The vast volumes of data collected about customers can be used to build churn prediction models. Knowing who is most likely to defect means that a company can priorities focused marketing efforts on that subset of their customer base.\n",
    "Preventing customer churn is critically important to the telecommunications sector, as the barriers to entry for switching services are so low. \n"
   ]
  },
  {
   "cell_type": "code",
   "execution_count": 1,
   "id": "cf3f4d2a",
   "metadata": {},
   "outputs": [],
   "source": [
    "import pandas as pd\n",
    "import numpy as np\n",
    "\n",
    "import matplotlib.pyplot as plt\n",
    "import seaborn as sns\n",
    "%matplotlib inline\n",
    "\n",
    "import warnings\n",
    "warnings.filterwarnings('ignore')"
   ]
  },
  {
   "cell_type": "code",
   "execution_count": 2,
   "id": "ac884822",
   "metadata": {},
   "outputs": [
    {
     "data": {
      "text/html": [
       "<div>\n",
       "<style scoped>\n",
       "    .dataframe tbody tr th:only-of-type {\n",
       "        vertical-align: middle;\n",
       "    }\n",
       "\n",
       "    .dataframe tbody tr th {\n",
       "        vertical-align: top;\n",
       "    }\n",
       "\n",
       "    .dataframe thead th {\n",
       "        text-align: right;\n",
       "    }\n",
       "</style>\n",
       "<table border=\"1\" class=\"dataframe\">\n",
       "  <thead>\n",
       "    <tr style=\"text-align: right;\">\n",
       "      <th></th>\n",
       "      <th>customerID</th>\n",
       "      <th>gender</th>\n",
       "      <th>SeniorCitizen</th>\n",
       "      <th>Partner</th>\n",
       "      <th>Dependents</th>\n",
       "      <th>tenure</th>\n",
       "      <th>PhoneService</th>\n",
       "      <th>MultipleLines</th>\n",
       "      <th>InternetService</th>\n",
       "      <th>OnlineSecurity</th>\n",
       "      <th>...</th>\n",
       "      <th>DeviceProtection</th>\n",
       "      <th>TechSupport</th>\n",
       "      <th>StreamingTV</th>\n",
       "      <th>StreamingMovies</th>\n",
       "      <th>Contract</th>\n",
       "      <th>PaperlessBilling</th>\n",
       "      <th>PaymentMethod</th>\n",
       "      <th>MonthlyCharges</th>\n",
       "      <th>TotalCharges</th>\n",
       "      <th>Churn</th>\n",
       "    </tr>\n",
       "  </thead>\n",
       "  <tbody>\n",
       "    <tr>\n",
       "      <th>0</th>\n",
       "      <td>7590-VHVEG</td>\n",
       "      <td>Female</td>\n",
       "      <td>0</td>\n",
       "      <td>Yes</td>\n",
       "      <td>No</td>\n",
       "      <td>1</td>\n",
       "      <td>No</td>\n",
       "      <td>No phone service</td>\n",
       "      <td>DSL</td>\n",
       "      <td>No</td>\n",
       "      <td>...</td>\n",
       "      <td>No</td>\n",
       "      <td>No</td>\n",
       "      <td>No</td>\n",
       "      <td>No</td>\n",
       "      <td>Month-to-month</td>\n",
       "      <td>Yes</td>\n",
       "      <td>Electronic check</td>\n",
       "      <td>29.85</td>\n",
       "      <td>29.85</td>\n",
       "      <td>No</td>\n",
       "    </tr>\n",
       "    <tr>\n",
       "      <th>1</th>\n",
       "      <td>5575-GNVDE</td>\n",
       "      <td>Male</td>\n",
       "      <td>0</td>\n",
       "      <td>No</td>\n",
       "      <td>No</td>\n",
       "      <td>34</td>\n",
       "      <td>Yes</td>\n",
       "      <td>No</td>\n",
       "      <td>DSL</td>\n",
       "      <td>Yes</td>\n",
       "      <td>...</td>\n",
       "      <td>Yes</td>\n",
       "      <td>No</td>\n",
       "      <td>No</td>\n",
       "      <td>No</td>\n",
       "      <td>One year</td>\n",
       "      <td>No</td>\n",
       "      <td>Mailed check</td>\n",
       "      <td>56.95</td>\n",
       "      <td>1889.5</td>\n",
       "      <td>No</td>\n",
       "    </tr>\n",
       "    <tr>\n",
       "      <th>2</th>\n",
       "      <td>3668-QPYBK</td>\n",
       "      <td>Male</td>\n",
       "      <td>0</td>\n",
       "      <td>No</td>\n",
       "      <td>No</td>\n",
       "      <td>2</td>\n",
       "      <td>Yes</td>\n",
       "      <td>No</td>\n",
       "      <td>DSL</td>\n",
       "      <td>Yes</td>\n",
       "      <td>...</td>\n",
       "      <td>No</td>\n",
       "      <td>No</td>\n",
       "      <td>No</td>\n",
       "      <td>No</td>\n",
       "      <td>Month-to-month</td>\n",
       "      <td>Yes</td>\n",
       "      <td>Mailed check</td>\n",
       "      <td>53.85</td>\n",
       "      <td>108.15</td>\n",
       "      <td>Yes</td>\n",
       "    </tr>\n",
       "    <tr>\n",
       "      <th>3</th>\n",
       "      <td>7795-CFOCW</td>\n",
       "      <td>Male</td>\n",
       "      <td>0</td>\n",
       "      <td>No</td>\n",
       "      <td>No</td>\n",
       "      <td>45</td>\n",
       "      <td>No</td>\n",
       "      <td>No phone service</td>\n",
       "      <td>DSL</td>\n",
       "      <td>Yes</td>\n",
       "      <td>...</td>\n",
       "      <td>Yes</td>\n",
       "      <td>Yes</td>\n",
       "      <td>No</td>\n",
       "      <td>No</td>\n",
       "      <td>One year</td>\n",
       "      <td>No</td>\n",
       "      <td>Bank transfer (automatic)</td>\n",
       "      <td>42.30</td>\n",
       "      <td>1840.75</td>\n",
       "      <td>No</td>\n",
       "    </tr>\n",
       "    <tr>\n",
       "      <th>4</th>\n",
       "      <td>9237-HQITU</td>\n",
       "      <td>Female</td>\n",
       "      <td>0</td>\n",
       "      <td>No</td>\n",
       "      <td>No</td>\n",
       "      <td>2</td>\n",
       "      <td>Yes</td>\n",
       "      <td>No</td>\n",
       "      <td>Fiber optic</td>\n",
       "      <td>No</td>\n",
       "      <td>...</td>\n",
       "      <td>No</td>\n",
       "      <td>No</td>\n",
       "      <td>No</td>\n",
       "      <td>No</td>\n",
       "      <td>Month-to-month</td>\n",
       "      <td>Yes</td>\n",
       "      <td>Electronic check</td>\n",
       "      <td>70.70</td>\n",
       "      <td>151.65</td>\n",
       "      <td>Yes</td>\n",
       "    </tr>\n",
       "    <tr>\n",
       "      <th>...</th>\n",
       "      <td>...</td>\n",
       "      <td>...</td>\n",
       "      <td>...</td>\n",
       "      <td>...</td>\n",
       "      <td>...</td>\n",
       "      <td>...</td>\n",
       "      <td>...</td>\n",
       "      <td>...</td>\n",
       "      <td>...</td>\n",
       "      <td>...</td>\n",
       "      <td>...</td>\n",
       "      <td>...</td>\n",
       "      <td>...</td>\n",
       "      <td>...</td>\n",
       "      <td>...</td>\n",
       "      <td>...</td>\n",
       "      <td>...</td>\n",
       "      <td>...</td>\n",
       "      <td>...</td>\n",
       "      <td>...</td>\n",
       "      <td>...</td>\n",
       "    </tr>\n",
       "    <tr>\n",
       "      <th>7038</th>\n",
       "      <td>6840-RESVB</td>\n",
       "      <td>Male</td>\n",
       "      <td>0</td>\n",
       "      <td>Yes</td>\n",
       "      <td>Yes</td>\n",
       "      <td>24</td>\n",
       "      <td>Yes</td>\n",
       "      <td>Yes</td>\n",
       "      <td>DSL</td>\n",
       "      <td>Yes</td>\n",
       "      <td>...</td>\n",
       "      <td>Yes</td>\n",
       "      <td>Yes</td>\n",
       "      <td>Yes</td>\n",
       "      <td>Yes</td>\n",
       "      <td>One year</td>\n",
       "      <td>Yes</td>\n",
       "      <td>Mailed check</td>\n",
       "      <td>84.80</td>\n",
       "      <td>1990.5</td>\n",
       "      <td>No</td>\n",
       "    </tr>\n",
       "    <tr>\n",
       "      <th>7039</th>\n",
       "      <td>2234-XADUH</td>\n",
       "      <td>Female</td>\n",
       "      <td>0</td>\n",
       "      <td>Yes</td>\n",
       "      <td>Yes</td>\n",
       "      <td>72</td>\n",
       "      <td>Yes</td>\n",
       "      <td>Yes</td>\n",
       "      <td>Fiber optic</td>\n",
       "      <td>No</td>\n",
       "      <td>...</td>\n",
       "      <td>Yes</td>\n",
       "      <td>No</td>\n",
       "      <td>Yes</td>\n",
       "      <td>Yes</td>\n",
       "      <td>One year</td>\n",
       "      <td>Yes</td>\n",
       "      <td>Credit card (automatic)</td>\n",
       "      <td>103.20</td>\n",
       "      <td>7362.9</td>\n",
       "      <td>No</td>\n",
       "    </tr>\n",
       "    <tr>\n",
       "      <th>7040</th>\n",
       "      <td>4801-JZAZL</td>\n",
       "      <td>Female</td>\n",
       "      <td>0</td>\n",
       "      <td>Yes</td>\n",
       "      <td>Yes</td>\n",
       "      <td>11</td>\n",
       "      <td>No</td>\n",
       "      <td>No phone service</td>\n",
       "      <td>DSL</td>\n",
       "      <td>Yes</td>\n",
       "      <td>...</td>\n",
       "      <td>No</td>\n",
       "      <td>No</td>\n",
       "      <td>No</td>\n",
       "      <td>No</td>\n",
       "      <td>Month-to-month</td>\n",
       "      <td>Yes</td>\n",
       "      <td>Electronic check</td>\n",
       "      <td>29.60</td>\n",
       "      <td>346.45</td>\n",
       "      <td>No</td>\n",
       "    </tr>\n",
       "    <tr>\n",
       "      <th>7041</th>\n",
       "      <td>8361-LTMKD</td>\n",
       "      <td>Male</td>\n",
       "      <td>1</td>\n",
       "      <td>Yes</td>\n",
       "      <td>No</td>\n",
       "      <td>4</td>\n",
       "      <td>Yes</td>\n",
       "      <td>Yes</td>\n",
       "      <td>Fiber optic</td>\n",
       "      <td>No</td>\n",
       "      <td>...</td>\n",
       "      <td>No</td>\n",
       "      <td>No</td>\n",
       "      <td>No</td>\n",
       "      <td>No</td>\n",
       "      <td>Month-to-month</td>\n",
       "      <td>Yes</td>\n",
       "      <td>Mailed check</td>\n",
       "      <td>74.40</td>\n",
       "      <td>306.6</td>\n",
       "      <td>Yes</td>\n",
       "    </tr>\n",
       "    <tr>\n",
       "      <th>7042</th>\n",
       "      <td>3186-AJIEK</td>\n",
       "      <td>Male</td>\n",
       "      <td>0</td>\n",
       "      <td>No</td>\n",
       "      <td>No</td>\n",
       "      <td>66</td>\n",
       "      <td>Yes</td>\n",
       "      <td>No</td>\n",
       "      <td>Fiber optic</td>\n",
       "      <td>Yes</td>\n",
       "      <td>...</td>\n",
       "      <td>Yes</td>\n",
       "      <td>Yes</td>\n",
       "      <td>Yes</td>\n",
       "      <td>Yes</td>\n",
       "      <td>Two year</td>\n",
       "      <td>Yes</td>\n",
       "      <td>Bank transfer (automatic)</td>\n",
       "      <td>105.65</td>\n",
       "      <td>6844.5</td>\n",
       "      <td>No</td>\n",
       "    </tr>\n",
       "  </tbody>\n",
       "</table>\n",
       "<p>7043 rows × 21 columns</p>\n",
       "</div>"
      ],
      "text/plain": [
       "      customerID  gender  SeniorCitizen Partner Dependents  tenure  \\\n",
       "0     7590-VHVEG  Female              0     Yes         No       1   \n",
       "1     5575-GNVDE    Male              0      No         No      34   \n",
       "2     3668-QPYBK    Male              0      No         No       2   \n",
       "3     7795-CFOCW    Male              0      No         No      45   \n",
       "4     9237-HQITU  Female              0      No         No       2   \n",
       "...          ...     ...            ...     ...        ...     ...   \n",
       "7038  6840-RESVB    Male              0     Yes        Yes      24   \n",
       "7039  2234-XADUH  Female              0     Yes        Yes      72   \n",
       "7040  4801-JZAZL  Female              0     Yes        Yes      11   \n",
       "7041  8361-LTMKD    Male              1     Yes         No       4   \n",
       "7042  3186-AJIEK    Male              0      No         No      66   \n",
       "\n",
       "     PhoneService     MultipleLines InternetService OnlineSecurity  ...  \\\n",
       "0              No  No phone service             DSL             No  ...   \n",
       "1             Yes                No             DSL            Yes  ...   \n",
       "2             Yes                No             DSL            Yes  ...   \n",
       "3              No  No phone service             DSL            Yes  ...   \n",
       "4             Yes                No     Fiber optic             No  ...   \n",
       "...           ...               ...             ...            ...  ...   \n",
       "7038          Yes               Yes             DSL            Yes  ...   \n",
       "7039          Yes               Yes     Fiber optic             No  ...   \n",
       "7040           No  No phone service             DSL            Yes  ...   \n",
       "7041          Yes               Yes     Fiber optic             No  ...   \n",
       "7042          Yes                No     Fiber optic            Yes  ...   \n",
       "\n",
       "     DeviceProtection TechSupport StreamingTV StreamingMovies        Contract  \\\n",
       "0                  No          No          No              No  Month-to-month   \n",
       "1                 Yes          No          No              No        One year   \n",
       "2                  No          No          No              No  Month-to-month   \n",
       "3                 Yes         Yes          No              No        One year   \n",
       "4                  No          No          No              No  Month-to-month   \n",
       "...               ...         ...         ...             ...             ...   \n",
       "7038              Yes         Yes         Yes             Yes        One year   \n",
       "7039              Yes          No         Yes             Yes        One year   \n",
       "7040               No          No          No              No  Month-to-month   \n",
       "7041               No          No          No              No  Month-to-month   \n",
       "7042              Yes         Yes         Yes             Yes        Two year   \n",
       "\n",
       "     PaperlessBilling              PaymentMethod MonthlyCharges  TotalCharges  \\\n",
       "0                 Yes           Electronic check          29.85         29.85   \n",
       "1                  No               Mailed check          56.95        1889.5   \n",
       "2                 Yes               Mailed check          53.85        108.15   \n",
       "3                  No  Bank transfer (automatic)          42.30       1840.75   \n",
       "4                 Yes           Electronic check          70.70        151.65   \n",
       "...               ...                        ...            ...           ...   \n",
       "7038              Yes               Mailed check          84.80        1990.5   \n",
       "7039              Yes    Credit card (automatic)         103.20        7362.9   \n",
       "7040              Yes           Electronic check          29.60        346.45   \n",
       "7041              Yes               Mailed check          74.40         306.6   \n",
       "7042              Yes  Bank transfer (automatic)         105.65        6844.5   \n",
       "\n",
       "     Churn  \n",
       "0       No  \n",
       "1       No  \n",
       "2      Yes  \n",
       "3       No  \n",
       "4      Yes  \n",
       "...    ...  \n",
       "7038    No  \n",
       "7039    No  \n",
       "7040    No  \n",
       "7041   Yes  \n",
       "7042    No  \n",
       "\n",
       "[7043 rows x 21 columns]"
      ]
     },
     "execution_count": 2,
     "metadata": {},
     "output_type": "execute_result"
    }
   ],
   "source": [
    "df=pd.read_csv('Telecom_customer_churn.csv')\n",
    "df"
   ]
  },
  {
   "cell_type": "markdown",
   "id": "26d92777",
   "metadata": {},
   "source": [
    "# Checking Null values in the dataframe\n",
    "\n",
    "#like np.nan, None, nan, null like others"
   ]
  },
  {
   "cell_type": "code",
   "execution_count": 3,
   "id": "c1ebd475",
   "metadata": {},
   "outputs": [
    {
     "data": {
      "text/plain": [
       "customerID          0\n",
       "gender              0\n",
       "SeniorCitizen       0\n",
       "Partner             0\n",
       "Dependents          0\n",
       "tenure              0\n",
       "PhoneService        0\n",
       "MultipleLines       0\n",
       "InternetService     0\n",
       "OnlineSecurity      0\n",
       "OnlineBackup        0\n",
       "DeviceProtection    0\n",
       "TechSupport         0\n",
       "StreamingTV         0\n",
       "StreamingMovies     0\n",
       "Contract            0\n",
       "PaperlessBilling    0\n",
       "PaymentMethod       0\n",
       "MonthlyCharges      0\n",
       "TotalCharges        0\n",
       "Churn               0\n",
       "dtype: int64"
      ]
     },
     "execution_count": 3,
     "metadata": {},
     "output_type": "execute_result"
    }
   ],
   "source": [
    "df.isnull().sum()"
   ]
  },
  {
   "cell_type": "markdown",
   "id": "ea6b4520",
   "metadata": {},
   "source": [
    "# Checking the data types of the columns"
   ]
  },
  {
   "cell_type": "code",
   "execution_count": 4,
   "id": "de83a081",
   "metadata": {},
   "outputs": [
    {
     "name": "stdout",
     "output_type": "stream",
     "text": [
      "<class 'pandas.core.frame.DataFrame'>\n",
      "RangeIndex: 7043 entries, 0 to 7042\n",
      "Data columns (total 21 columns):\n",
      " #   Column            Non-Null Count  Dtype  \n",
      "---  ------            --------------  -----  \n",
      " 0   customerID        7043 non-null   object \n",
      " 1   gender            7043 non-null   object \n",
      " 2   SeniorCitizen     7043 non-null   int64  \n",
      " 3   Partner           7043 non-null   object \n",
      " 4   Dependents        7043 non-null   object \n",
      " 5   tenure            7043 non-null   int64  \n",
      " 6   PhoneService      7043 non-null   object \n",
      " 7   MultipleLines     7043 non-null   object \n",
      " 8   InternetService   7043 non-null   object \n",
      " 9   OnlineSecurity    7043 non-null   object \n",
      " 10  OnlineBackup      7043 non-null   object \n",
      " 11  DeviceProtection  7043 non-null   object \n",
      " 12  TechSupport       7043 non-null   object \n",
      " 13  StreamingTV       7043 non-null   object \n",
      " 14  StreamingMovies   7043 non-null   object \n",
      " 15  Contract          7043 non-null   object \n",
      " 16  PaperlessBilling  7043 non-null   object \n",
      " 17  PaymentMethod     7043 non-null   object \n",
      " 18  MonthlyCharges    7043 non-null   float64\n",
      " 19  TotalCharges      7043 non-null   object \n",
      " 20  Churn             7043 non-null   object \n",
      "dtypes: float64(1), int64(2), object(18)\n",
      "memory usage: 1.1+ MB\n"
     ]
    }
   ],
   "source": [
    "df.info()"
   ]
  },
  {
   "cell_type": "markdown",
   "id": "d4b49671",
   "metadata": {},
   "source": [
    "As per observation:\n",
    "\n",
    "1. The dataset has 7043 rows and 21 columns.\n",
    "2. No null values in any column of dataset.\n",
    "3. 'customerID' column is unwanted column,which has no any corelation with target, now drop it."
   ]
  },
  {
   "cell_type": "code",
   "execution_count": 5,
   "id": "e2897478",
   "metadata": {},
   "outputs": [],
   "source": [
    "df.drop(columns='customerID',inplace=True)"
   ]
  },
  {
   "cell_type": "code",
   "execution_count": 6,
   "id": "457f2880",
   "metadata": {},
   "outputs": [],
   "source": [
    "df.drop_duplicates(inplace=True)"
   ]
  },
  {
   "cell_type": "code",
   "execution_count": 7,
   "id": "75f4ee80",
   "metadata": {},
   "outputs": [
    {
     "data": {
      "text/plain": [
       "(7021, 20)"
      ]
     },
     "execution_count": 7,
     "metadata": {},
     "output_type": "execute_result"
    }
   ],
   "source": [
    "df.shape"
   ]
  },
  {
   "cell_type": "markdown",
   "id": "65f35b3f",
   "metadata": {},
   "source": [
    "After droping duplicate entries, our dataset has 7021 rows and 20 columns"
   ]
  },
  {
   "cell_type": "markdown",
   "id": "98967c11",
   "metadata": {},
   "source": [
    "# EDA (Exploratory Data Analysis) & Now Seperate Object and Numeric datatypes."
   ]
  },
  {
   "cell_type": "code",
   "execution_count": 8,
   "id": "7dfdba71",
   "metadata": {},
   "outputs": [
    {
     "name": "stdout",
     "output_type": "stream",
     "text": [
      "17\n"
     ]
    },
    {
     "data": {
      "text/plain": [
       "['gender',\n",
       " 'Partner',\n",
       " 'Dependents',\n",
       " 'PhoneService',\n",
       " 'MultipleLines',\n",
       " 'InternetService',\n",
       " 'OnlineSecurity',\n",
       " 'OnlineBackup',\n",
       " 'DeviceProtection',\n",
       " 'TechSupport',\n",
       " 'StreamingTV',\n",
       " 'StreamingMovies',\n",
       " 'Contract',\n",
       " 'PaperlessBilling',\n",
       " 'PaymentMethod',\n",
       " 'TotalCharges',\n",
       " 'Churn']"
      ]
     },
     "execution_count": 8,
     "metadata": {},
     "output_type": "execute_result"
    }
   ],
   "source": [
    "object_datatypes=[]\n",
    "for i in df.dtypes.index:\n",
    "    if df.dtypes[i]=='object':\n",
    "        object_datatypes.append(i)\n",
    "print(len(object_datatypes))\n",
    "object_datatypes  "
   ]
  },
  {
   "cell_type": "code",
   "execution_count": 9,
   "id": "6add785d",
   "metadata": {},
   "outputs": [
    {
     "name": "stdout",
     "output_type": "stream",
     "text": [
      "gender : \n",
      " Male      3541\n",
      "Female    3480\n",
      "Name: gender, dtype: int64 \t:Total Categories: 2 \n",
      "\n",
      "Partner : \n",
      " No     3619\n",
      "Yes    3402\n",
      "Name: Partner, dtype: int64 \t:Total Categories: 2 \n",
      "\n",
      "Dependents : \n",
      " No     4911\n",
      "Yes    2110\n",
      "Name: Dependents, dtype: int64 \t:Total Categories: 2 \n",
      "\n",
      "PhoneService : \n",
      " Yes    6339\n",
      "No      682\n",
      "Name: PhoneService, dtype: int64 \t:Total Categories: 2 \n",
      "\n",
      "MultipleLines : \n",
      " No                  3368\n",
      "Yes                 2971\n",
      "No phone service     682\n",
      "Name: MultipleLines, dtype: int64 \t:Total Categories: 3 \n",
      "\n",
      "InternetService : \n",
      " Fiber optic    3090\n",
      "DSL            2419\n",
      "No             1512\n",
      "Name: InternetService, dtype: int64 \t:Total Categories: 3 \n",
      "\n",
      "OnlineSecurity : \n",
      " No                     3490\n",
      "Yes                    2019\n",
      "No internet service    1512\n",
      "Name: OnlineSecurity, dtype: int64 \t:Total Categories: 3 \n",
      "\n",
      "OnlineBackup : \n",
      " No                     3080\n",
      "Yes                    2429\n",
      "No internet service    1512\n",
      "Name: OnlineBackup, dtype: int64 \t:Total Categories: 3 \n",
      "\n",
      "DeviceProtection : \n",
      " No                     3087\n",
      "Yes                    2422\n",
      "No internet service    1512\n",
      "Name: DeviceProtection, dtype: int64 \t:Total Categories: 3 \n",
      "\n",
      "TechSupport : \n",
      " No                     3465\n",
      "Yes                    2044\n",
      "No internet service    1512\n",
      "Name: TechSupport, dtype: int64 \t:Total Categories: 3 \n",
      "\n",
      "StreamingTV : \n",
      " No                     2802\n",
      "Yes                    2707\n",
      "No internet service    1512\n",
      "Name: StreamingTV, dtype: int64 \t:Total Categories: 3 \n",
      "\n",
      "StreamingMovies : \n",
      " No                     2777\n",
      "Yes                    2732\n",
      "No internet service    1512\n",
      "Name: StreamingMovies, dtype: int64 \t:Total Categories: 3 \n",
      "\n",
      "Contract : \n",
      " Month-to-month    3853\n",
      "Two year          1695\n",
      "One year          1473\n",
      "Name: Contract, dtype: int64 \t:Total Categories: 3 \n",
      "\n",
      "PaperlessBilling : \n",
      " Yes    4161\n",
      "No     2860\n",
      "Name: PaperlessBilling, dtype: int64 \t:Total Categories: 2 \n",
      "\n",
      "PaymentMethod : \n",
      " Electronic check             2359\n",
      "Mailed check                 1596\n",
      "Bank transfer (automatic)    1544\n",
      "Credit card (automatic)      1522\n",
      "Name: PaymentMethod, dtype: int64 \t:Total Categories: 4 \n",
      "\n",
      "TotalCharges : \n",
      "           11\n",
      "19.75      9\n",
      "20.2       8\n",
      "19.9       7\n",
      "19.65      7\n",
      "          ..\n",
      "6849.4     1\n",
      "692.35     1\n",
      "130.15     1\n",
      "3211.9     1\n",
      "6844.5     1\n",
      "Name: TotalCharges, Length: 6531, dtype: int64 \t:Total Categories: 6531 \n",
      "\n",
      "Churn : \n",
      " No     5164\n",
      "Yes    1857\n",
      "Name: Churn, dtype: int64 \t:Total Categories: 2 \n",
      "\n"
     ]
    }
   ],
   "source": [
    "for i in df.columns:\n",
    "    if df[i].dtypes == 'object':\n",
    "        val=df[i].value_counts()\n",
    "        nval=df[i].nunique()\n",
    "        print(i ,':','\\n',val, '\\t:Total Categories:', nval, '\\n')"
   ]
  },
  {
   "cell_type": "markdown",
   "id": "7459ecb9",
   "metadata": {},
   "source": [
    "1. The TotalCharges column contain numeric data but it shows data type as object means it has 'string' or 'white-space' value. White space means not a null value. \n",
    "2. Dataset has no any null values as we had observed earlier, but it's a space value. \n",
    "3. So we have to find out how many space values in the TotalCharges column with loc[] method, which gives us the index number."
   ]
  },
  {
   "cell_type": "code",
   "execution_count": 10,
   "id": "49480d29",
   "metadata": {},
   "outputs": [
    {
     "data": {
      "text/html": [
       "<div>\n",
       "<style scoped>\n",
       "    .dataframe tbody tr th:only-of-type {\n",
       "        vertical-align: middle;\n",
       "    }\n",
       "\n",
       "    .dataframe tbody tr th {\n",
       "        vertical-align: top;\n",
       "    }\n",
       "\n",
       "    .dataframe thead th {\n",
       "        text-align: right;\n",
       "    }\n",
       "</style>\n",
       "<table border=\"1\" class=\"dataframe\">\n",
       "  <thead>\n",
       "    <tr style=\"text-align: right;\">\n",
       "      <th></th>\n",
       "      <th>gender</th>\n",
       "      <th>SeniorCitizen</th>\n",
       "      <th>Partner</th>\n",
       "      <th>Dependents</th>\n",
       "      <th>tenure</th>\n",
       "      <th>PhoneService</th>\n",
       "      <th>MultipleLines</th>\n",
       "      <th>InternetService</th>\n",
       "      <th>OnlineSecurity</th>\n",
       "      <th>OnlineBackup</th>\n",
       "      <th>DeviceProtection</th>\n",
       "      <th>TechSupport</th>\n",
       "      <th>StreamingTV</th>\n",
       "      <th>StreamingMovies</th>\n",
       "      <th>Contract</th>\n",
       "      <th>PaperlessBilling</th>\n",
       "      <th>PaymentMethod</th>\n",
       "      <th>MonthlyCharges</th>\n",
       "      <th>TotalCharges</th>\n",
       "      <th>Churn</th>\n",
       "    </tr>\n",
       "  </thead>\n",
       "  <tbody>\n",
       "    <tr>\n",
       "      <th>488</th>\n",
       "      <td>Female</td>\n",
       "      <td>0</td>\n",
       "      <td>Yes</td>\n",
       "      <td>Yes</td>\n",
       "      <td>0</td>\n",
       "      <td>No</td>\n",
       "      <td>No phone service</td>\n",
       "      <td>DSL</td>\n",
       "      <td>Yes</td>\n",
       "      <td>No</td>\n",
       "      <td>Yes</td>\n",
       "      <td>Yes</td>\n",
       "      <td>Yes</td>\n",
       "      <td>No</td>\n",
       "      <td>Two year</td>\n",
       "      <td>Yes</td>\n",
       "      <td>Bank transfer (automatic)</td>\n",
       "      <td>52.55</td>\n",
       "      <td></td>\n",
       "      <td>No</td>\n",
       "    </tr>\n",
       "    <tr>\n",
       "      <th>753</th>\n",
       "      <td>Male</td>\n",
       "      <td>0</td>\n",
       "      <td>No</td>\n",
       "      <td>Yes</td>\n",
       "      <td>0</td>\n",
       "      <td>Yes</td>\n",
       "      <td>No</td>\n",
       "      <td>No</td>\n",
       "      <td>No internet service</td>\n",
       "      <td>No internet service</td>\n",
       "      <td>No internet service</td>\n",
       "      <td>No internet service</td>\n",
       "      <td>No internet service</td>\n",
       "      <td>No internet service</td>\n",
       "      <td>Two year</td>\n",
       "      <td>No</td>\n",
       "      <td>Mailed check</td>\n",
       "      <td>20.25</td>\n",
       "      <td></td>\n",
       "      <td>No</td>\n",
       "    </tr>\n",
       "    <tr>\n",
       "      <th>936</th>\n",
       "      <td>Female</td>\n",
       "      <td>0</td>\n",
       "      <td>Yes</td>\n",
       "      <td>Yes</td>\n",
       "      <td>0</td>\n",
       "      <td>Yes</td>\n",
       "      <td>No</td>\n",
       "      <td>DSL</td>\n",
       "      <td>Yes</td>\n",
       "      <td>Yes</td>\n",
       "      <td>Yes</td>\n",
       "      <td>No</td>\n",
       "      <td>Yes</td>\n",
       "      <td>Yes</td>\n",
       "      <td>Two year</td>\n",
       "      <td>No</td>\n",
       "      <td>Mailed check</td>\n",
       "      <td>80.85</td>\n",
       "      <td></td>\n",
       "      <td>No</td>\n",
       "    </tr>\n",
       "    <tr>\n",
       "      <th>1082</th>\n",
       "      <td>Male</td>\n",
       "      <td>0</td>\n",
       "      <td>Yes</td>\n",
       "      <td>Yes</td>\n",
       "      <td>0</td>\n",
       "      <td>Yes</td>\n",
       "      <td>Yes</td>\n",
       "      <td>No</td>\n",
       "      <td>No internet service</td>\n",
       "      <td>No internet service</td>\n",
       "      <td>No internet service</td>\n",
       "      <td>No internet service</td>\n",
       "      <td>No internet service</td>\n",
       "      <td>No internet service</td>\n",
       "      <td>Two year</td>\n",
       "      <td>No</td>\n",
       "      <td>Mailed check</td>\n",
       "      <td>25.75</td>\n",
       "      <td></td>\n",
       "      <td>No</td>\n",
       "    </tr>\n",
       "    <tr>\n",
       "      <th>1340</th>\n",
       "      <td>Female</td>\n",
       "      <td>0</td>\n",
       "      <td>Yes</td>\n",
       "      <td>Yes</td>\n",
       "      <td>0</td>\n",
       "      <td>No</td>\n",
       "      <td>No phone service</td>\n",
       "      <td>DSL</td>\n",
       "      <td>Yes</td>\n",
       "      <td>Yes</td>\n",
       "      <td>Yes</td>\n",
       "      <td>Yes</td>\n",
       "      <td>Yes</td>\n",
       "      <td>No</td>\n",
       "      <td>Two year</td>\n",
       "      <td>No</td>\n",
       "      <td>Credit card (automatic)</td>\n",
       "      <td>56.05</td>\n",
       "      <td></td>\n",
       "      <td>No</td>\n",
       "    </tr>\n",
       "    <tr>\n",
       "      <th>3331</th>\n",
       "      <td>Male</td>\n",
       "      <td>0</td>\n",
       "      <td>Yes</td>\n",
       "      <td>Yes</td>\n",
       "      <td>0</td>\n",
       "      <td>Yes</td>\n",
       "      <td>No</td>\n",
       "      <td>No</td>\n",
       "      <td>No internet service</td>\n",
       "      <td>No internet service</td>\n",
       "      <td>No internet service</td>\n",
       "      <td>No internet service</td>\n",
       "      <td>No internet service</td>\n",
       "      <td>No internet service</td>\n",
       "      <td>Two year</td>\n",
       "      <td>No</td>\n",
       "      <td>Mailed check</td>\n",
       "      <td>19.85</td>\n",
       "      <td></td>\n",
       "      <td>No</td>\n",
       "    </tr>\n",
       "    <tr>\n",
       "      <th>3826</th>\n",
       "      <td>Male</td>\n",
       "      <td>0</td>\n",
       "      <td>Yes</td>\n",
       "      <td>Yes</td>\n",
       "      <td>0</td>\n",
       "      <td>Yes</td>\n",
       "      <td>Yes</td>\n",
       "      <td>No</td>\n",
       "      <td>No internet service</td>\n",
       "      <td>No internet service</td>\n",
       "      <td>No internet service</td>\n",
       "      <td>No internet service</td>\n",
       "      <td>No internet service</td>\n",
       "      <td>No internet service</td>\n",
       "      <td>Two year</td>\n",
       "      <td>No</td>\n",
       "      <td>Mailed check</td>\n",
       "      <td>25.35</td>\n",
       "      <td></td>\n",
       "      <td>No</td>\n",
       "    </tr>\n",
       "    <tr>\n",
       "      <th>4380</th>\n",
       "      <td>Female</td>\n",
       "      <td>0</td>\n",
       "      <td>Yes</td>\n",
       "      <td>Yes</td>\n",
       "      <td>0</td>\n",
       "      <td>Yes</td>\n",
       "      <td>No</td>\n",
       "      <td>No</td>\n",
       "      <td>No internet service</td>\n",
       "      <td>No internet service</td>\n",
       "      <td>No internet service</td>\n",
       "      <td>No internet service</td>\n",
       "      <td>No internet service</td>\n",
       "      <td>No internet service</td>\n",
       "      <td>Two year</td>\n",
       "      <td>No</td>\n",
       "      <td>Mailed check</td>\n",
       "      <td>20.00</td>\n",
       "      <td></td>\n",
       "      <td>No</td>\n",
       "    </tr>\n",
       "    <tr>\n",
       "      <th>5218</th>\n",
       "      <td>Male</td>\n",
       "      <td>0</td>\n",
       "      <td>Yes</td>\n",
       "      <td>Yes</td>\n",
       "      <td>0</td>\n",
       "      <td>Yes</td>\n",
       "      <td>No</td>\n",
       "      <td>No</td>\n",
       "      <td>No internet service</td>\n",
       "      <td>No internet service</td>\n",
       "      <td>No internet service</td>\n",
       "      <td>No internet service</td>\n",
       "      <td>No internet service</td>\n",
       "      <td>No internet service</td>\n",
       "      <td>One year</td>\n",
       "      <td>Yes</td>\n",
       "      <td>Mailed check</td>\n",
       "      <td>19.70</td>\n",
       "      <td></td>\n",
       "      <td>No</td>\n",
       "    </tr>\n",
       "    <tr>\n",
       "      <th>6670</th>\n",
       "      <td>Female</td>\n",
       "      <td>0</td>\n",
       "      <td>Yes</td>\n",
       "      <td>Yes</td>\n",
       "      <td>0</td>\n",
       "      <td>Yes</td>\n",
       "      <td>Yes</td>\n",
       "      <td>DSL</td>\n",
       "      <td>No</td>\n",
       "      <td>Yes</td>\n",
       "      <td>Yes</td>\n",
       "      <td>Yes</td>\n",
       "      <td>Yes</td>\n",
       "      <td>No</td>\n",
       "      <td>Two year</td>\n",
       "      <td>No</td>\n",
       "      <td>Mailed check</td>\n",
       "      <td>73.35</td>\n",
       "      <td></td>\n",
       "      <td>No</td>\n",
       "    </tr>\n",
       "    <tr>\n",
       "      <th>6754</th>\n",
       "      <td>Male</td>\n",
       "      <td>0</td>\n",
       "      <td>No</td>\n",
       "      <td>Yes</td>\n",
       "      <td>0</td>\n",
       "      <td>Yes</td>\n",
       "      <td>Yes</td>\n",
       "      <td>DSL</td>\n",
       "      <td>Yes</td>\n",
       "      <td>Yes</td>\n",
       "      <td>No</td>\n",
       "      <td>Yes</td>\n",
       "      <td>No</td>\n",
       "      <td>No</td>\n",
       "      <td>Two year</td>\n",
       "      <td>Yes</td>\n",
       "      <td>Bank transfer (automatic)</td>\n",
       "      <td>61.90</td>\n",
       "      <td></td>\n",
       "      <td>No</td>\n",
       "    </tr>\n",
       "  </tbody>\n",
       "</table>\n",
       "</div>"
      ],
      "text/plain": [
       "      gender  SeniorCitizen Partner Dependents  tenure PhoneService  \\\n",
       "488   Female              0     Yes        Yes       0           No   \n",
       "753     Male              0      No        Yes       0          Yes   \n",
       "936   Female              0     Yes        Yes       0          Yes   \n",
       "1082    Male              0     Yes        Yes       0          Yes   \n",
       "1340  Female              0     Yes        Yes       0           No   \n",
       "3331    Male              0     Yes        Yes       0          Yes   \n",
       "3826    Male              0     Yes        Yes       0          Yes   \n",
       "4380  Female              0     Yes        Yes       0          Yes   \n",
       "5218    Male              0     Yes        Yes       0          Yes   \n",
       "6670  Female              0     Yes        Yes       0          Yes   \n",
       "6754    Male              0      No        Yes       0          Yes   \n",
       "\n",
       "         MultipleLines InternetService       OnlineSecurity  \\\n",
       "488   No phone service             DSL                  Yes   \n",
       "753                 No              No  No internet service   \n",
       "936                 No             DSL                  Yes   \n",
       "1082               Yes              No  No internet service   \n",
       "1340  No phone service             DSL                  Yes   \n",
       "3331                No              No  No internet service   \n",
       "3826               Yes              No  No internet service   \n",
       "4380                No              No  No internet service   \n",
       "5218                No              No  No internet service   \n",
       "6670               Yes             DSL                   No   \n",
       "6754               Yes             DSL                  Yes   \n",
       "\n",
       "             OnlineBackup     DeviceProtection          TechSupport  \\\n",
       "488                    No                  Yes                  Yes   \n",
       "753   No internet service  No internet service  No internet service   \n",
       "936                   Yes                  Yes                   No   \n",
       "1082  No internet service  No internet service  No internet service   \n",
       "1340                  Yes                  Yes                  Yes   \n",
       "3331  No internet service  No internet service  No internet service   \n",
       "3826  No internet service  No internet service  No internet service   \n",
       "4380  No internet service  No internet service  No internet service   \n",
       "5218  No internet service  No internet service  No internet service   \n",
       "6670                  Yes                  Yes                  Yes   \n",
       "6754                  Yes                   No                  Yes   \n",
       "\n",
       "              StreamingTV      StreamingMovies  Contract PaperlessBilling  \\\n",
       "488                   Yes                   No  Two year              Yes   \n",
       "753   No internet service  No internet service  Two year               No   \n",
       "936                   Yes                  Yes  Two year               No   \n",
       "1082  No internet service  No internet service  Two year               No   \n",
       "1340                  Yes                   No  Two year               No   \n",
       "3331  No internet service  No internet service  Two year               No   \n",
       "3826  No internet service  No internet service  Two year               No   \n",
       "4380  No internet service  No internet service  Two year               No   \n",
       "5218  No internet service  No internet service  One year              Yes   \n",
       "6670                  Yes                   No  Two year               No   \n",
       "6754                   No                   No  Two year              Yes   \n",
       "\n",
       "                  PaymentMethod  MonthlyCharges TotalCharges Churn  \n",
       "488   Bank transfer (automatic)           52.55                 No  \n",
       "753                Mailed check           20.25                 No  \n",
       "936                Mailed check           80.85                 No  \n",
       "1082               Mailed check           25.75                 No  \n",
       "1340    Credit card (automatic)           56.05                 No  \n",
       "3331               Mailed check           19.85                 No  \n",
       "3826               Mailed check           25.35                 No  \n",
       "4380               Mailed check           20.00                 No  \n",
       "5218               Mailed check           19.70                 No  \n",
       "6670               Mailed check           73.35                 No  \n",
       "6754  Bank transfer (automatic)           61.90                 No  "
      ]
     },
     "execution_count": 10,
     "metadata": {},
     "output_type": "execute_result"
    }
   ],
   "source": [
    "df.loc[df.TotalCharges==' ']"
   ]
  },
  {
   "cell_type": "markdown",
   "id": "9a985f8d",
   "metadata": {},
   "source": [
    "After some observation, we saw that some rows have space, so we have to replace with null value."
   ]
  },
  {
   "cell_type": "code",
   "execution_count": 11,
   "id": "ea925fd6",
   "metadata": {},
   "outputs": [],
   "source": [
    "df['TotalCharges']=df['TotalCharges'].replace(' ',np.nan)"
   ]
  },
  {
   "cell_type": "code",
   "execution_count": 12,
   "id": "88e9788c",
   "metadata": {},
   "outputs": [
    {
     "data": {
      "text/plain": [
       "11"
      ]
     },
     "execution_count": 12,
     "metadata": {},
     "output_type": "execute_result"
    }
   ],
   "source": [
    "df.TotalCharges.isnull().sum()"
   ]
  },
  {
   "cell_type": "code",
   "execution_count": 13,
   "id": "05b388b8",
   "metadata": {},
   "outputs": [],
   "source": [
    "# now converting TotalCharges type form object type to float type means typecasting, using astype()method\n",
    "df.TotalCharges= df.TotalCharges.astype(float)"
   ]
  },
  {
   "cell_type": "code",
   "execution_count": 14,
   "id": "c2231259",
   "metadata": {},
   "outputs": [
    {
     "data": {
      "text/plain": [
       "dtype('float64')"
      ]
     },
     "execution_count": 14,
     "metadata": {},
     "output_type": "execute_result"
    }
   ],
   "source": [
    "df.TotalCharges.dtype"
   ]
  },
  {
   "cell_type": "markdown",
   "id": "8970a489",
   "metadata": {},
   "source": [
    "# Handle the Null values"
   ]
  },
  {
   "cell_type": "code",
   "execution_count": 15,
   "id": "b5c2a059",
   "metadata": {},
   "outputs": [
    {
     "name": "stdout",
     "output_type": "stream",
     "text": [
      "<class 'pandas.core.frame.DataFrame'>\n",
      "Int64Index: 7021 entries, 0 to 7042\n",
      "Data columns (total 20 columns):\n",
      " #   Column            Non-Null Count  Dtype  \n",
      "---  ------            --------------  -----  \n",
      " 0   gender            7021 non-null   object \n",
      " 1   SeniorCitizen     7021 non-null   int64  \n",
      " 2   Partner           7021 non-null   object \n",
      " 3   Dependents        7021 non-null   object \n",
      " 4   tenure            7021 non-null   int64  \n",
      " 5   PhoneService      7021 non-null   object \n",
      " 6   MultipleLines     7021 non-null   object \n",
      " 7   InternetService   7021 non-null   object \n",
      " 8   OnlineSecurity    7021 non-null   object \n",
      " 9   OnlineBackup      7021 non-null   object \n",
      " 10  DeviceProtection  7021 non-null   object \n",
      " 11  TechSupport       7021 non-null   object \n",
      " 12  StreamingTV       7021 non-null   object \n",
      " 13  StreamingMovies   7021 non-null   object \n",
      " 14  Contract          7021 non-null   object \n",
      " 15  PaperlessBilling  7021 non-null   object \n",
      " 16  PaymentMethod     7021 non-null   object \n",
      " 17  MonthlyCharges    7021 non-null   float64\n",
      " 18  TotalCharges      7021 non-null   float64\n",
      " 19  Churn             7021 non-null   object \n",
      "dtypes: float64(2), int64(2), object(16)\n",
      "memory usage: 1.1+ MB\n"
     ]
    }
   ],
   "source": [
    "#Here the column is continous in nature, so we are using mean() method\n",
    "df.TotalCharges.fillna(df.TotalCharges.mean(),inplace=True)\n",
    "df.info()"
   ]
  },
  {
   "cell_type": "code",
   "execution_count": 16,
   "id": "cfc13cc5",
   "metadata": {},
   "outputs": [
    {
     "name": "stdout",
     "output_type": "stream",
     "text": [
      "Total: 4\n"
     ]
    },
    {
     "data": {
      "text/plain": [
       "['SeniorCitizen', 'tenure', 'MonthlyCharges', 'TotalCharges']"
      ]
     },
     "execution_count": 16,
     "metadata": {},
     "output_type": "execute_result"
    }
   ],
   "source": [
    "numeric_datatypes=[]\n",
    "for i in df.dtypes.index:\n",
    "    if df.dtypes[i]!='object':\n",
    "        numeric_datatypes.append(i) \n",
    "print('Total:', len(numeric_datatypes))\n",
    "numeric_datatypes"
   ]
  },
  {
   "cell_type": "code",
   "execution_count": 17,
   "id": "12e8c80b",
   "metadata": {},
   "outputs": [
    {
     "name": "stdout",
     "output_type": "stream",
     "text": [
      "16\n"
     ]
    },
    {
     "data": {
      "text/plain": [
       "['gender',\n",
       " 'Partner',\n",
       " 'Dependents',\n",
       " 'PhoneService',\n",
       " 'MultipleLines',\n",
       " 'InternetService',\n",
       " 'OnlineSecurity',\n",
       " 'OnlineBackup',\n",
       " 'DeviceProtection',\n",
       " 'TechSupport',\n",
       " 'StreamingTV',\n",
       " 'StreamingMovies',\n",
       " 'Contract',\n",
       " 'PaperlessBilling',\n",
       " 'PaymentMethod',\n",
       " 'Churn']"
      ]
     },
     "execution_count": 17,
     "metadata": {},
     "output_type": "execute_result"
    }
   ],
   "source": [
    "# Now updated object type column list\n",
    "Object_Datatypes=[]\n",
    "for i in df.dtypes.index:\n",
    "    if df.dtypes[i]=='object':\n",
    "        Object_Datatypes.append(i)\n",
    "print(len(Object_Datatypes))\n",
    "Object_Datatypes  "
   ]
  },
  {
   "cell_type": "markdown",
   "id": "9a6c91db",
   "metadata": {},
   "source": [
    "# Data Visualization"
   ]
  },
  {
   "cell_type": "code",
   "execution_count": 18,
   "id": "133c3c23",
   "metadata": {},
   "outputs": [
    {
     "data": {
      "text/plain": [
       "<Figure size 1080x576 with 0 Axes>"
      ]
     },
     "metadata": {},
     "output_type": "display_data"
    },
    {
     "data": {
      "image/png": "[encoded data removed]",
      "text/plain": [
       "<Figure size 412x360 with 1 Axes>"
      ]
     },
     "metadata": {
      "needs_background": "light"
     },
     "output_type": "display_data"
    }
   ],
   "source": [
    "plt.figure(figsize=(15,8))\n",
    "sns.factorplot(x='gender',data=df,kind='count',hue='Churn',height=5, aspect=1)\n",
    "locs, labels = plt.xticks()\n",
    "plt.show()"
   ]
  },
  {
   "cell_type": "code",
   "execution_count": 19,
   "id": "52575e37",
   "metadata": {},
   "outputs": [
    {
     "data": {
      "text/plain": [
       "<Figure size 1080x576 with 0 Axes>"
      ]
     },
     "metadata": {},
     "output_type": "display_data"
    },
    {
     "data": {
      "image/png": "[encoded data removed]",
      "text/plain": [
       "<Figure size 412x360 with 1 Axes>"
      ]
     },
     "metadata": {
      "needs_background": "light"
     },
     "output_type": "display_data"
    }
   ],
   "source": [
    "plt.figure(figsize=(15,8))\n",
    "sns.factorplot(x='MultipleLines',data=df,kind='count',hue='Churn',height=5, aspect=1)\n",
    "locs, labels = plt.xticks()\n",
    "plt.show()"
   ]
  },
  {
   "cell_type": "code",
   "execution_count": 20,
   "id": "de16b02b",
   "metadata": {},
   "outputs": [
    {
     "data": {
      "text/plain": [
       "<Figure size 1080x576 with 0 Axes>"
      ]
     },
     "metadata": {},
     "output_type": "display_data"
    },
    {
     "data": {
      "image/png": "[encoded data removed]",
      "text/plain": [
       "<Figure size 412x360 with 1 Axes>"
      ]
     },
     "metadata": {
      "needs_background": "light"
     },
     "output_type": "display_data"
    }
   ],
   "source": [
    "plt.figure(figsize=(15,8))\n",
    "sns.factorplot(x='InternetService',data=df,kind='count',hue='Churn',height=5, aspect=1)\n",
    "locs, labels = plt.xticks()\n",
    "plt.show()"
   ]
  },
  {
   "cell_type": "markdown",
   "id": "cafb9d92",
   "metadata": {},
   "source": [
    "From above observation, Fiber optic InternetService has high level of churn."
   ]
  },
  {
   "cell_type": "code",
   "execution_count": 21,
   "id": "247b5d48",
   "metadata": {},
   "outputs": [
    {
     "data": {
      "text/plain": [
       "<Figure size 1080x576 with 0 Axes>"
      ]
     },
     "metadata": {},
     "output_type": "display_data"
    },
    {
     "data": {
      "image/png": "[encoded data removed]",
      "text/plain": [
       "<Figure size 412x360 with 1 Axes>"
      ]
     },
     "metadata": {
      "needs_background": "light"
     },
     "output_type": "display_data"
    }
   ],
   "source": [
    "plt.figure(figsize=(15,8))\n",
    "sns.factorplot(x='Contract',data=df,kind='count',hue='Churn',height=5, aspect=1)\n",
    "locs, labels = plt.xticks()\n",
    "plt.show()"
   ]
  },
  {
   "cell_type": "markdown",
   "id": "401f7af5",
   "metadata": {},
   "source": [
    "As observed month-to-month contract customer has more number of churn."
   ]
  },
  {
   "cell_type": "code",
   "execution_count": 22,
   "id": "c56e7fe4",
   "metadata": {},
   "outputs": [
    {
     "data": {
      "text/plain": [
       "<Figure size 1080x576 with 0 Axes>"
      ]
     },
     "metadata": {},
     "output_type": "display_data"
    },
    {
     "data": {
      "image/png": "[encoded data removed]",
      "text/plain": [
       "<Figure size 772x360 with 1 Axes>"
      ]
     },
     "metadata": {
      "needs_background": "light"
     },
     "output_type": "display_data"
    }
   ],
   "source": [
    "plt.figure(figsize=(15,8))\n",
    "sns.factorplot(x='PaymentMethod',data=df,kind='count',hue='Churn',height=5, aspect=2)\n",
    "locs, labels = plt.xticks()\n",
    "plt.show()"
   ]
  },
  {
   "cell_type": "markdown",
   "id": "3f6073d0",
   "metadata": {},
   "source": [
    "As observed, Electronic check based customers have more number of churn."
   ]
  },
  {
   "cell_type": "code",
   "execution_count": 23,
   "id": "f21be388",
   "metadata": {},
   "outputs": [
    {
     "data": {
      "text/plain": [
       "<seaborn.axisgrid.FacetGrid at 0x1b90eb28af0>"
      ]
     },
     "execution_count": 23,
     "metadata": {},
     "output_type": "execute_result"
    },
    {
     "data": {
      "image/png": "[encoded data removed]",
      "text/plain": [
       "<Figure size 1132x360 with 3 Axes>"
      ]
     },
     "metadata": {
      "needs_background": "light"
     },
     "output_type": "display_data"
    }
   ],
   "source": [
    "sns.factorplot(col='InternetService',hue='Churn',data=df,x='Contract',kind='count')"
   ]
  },
  {
   "cell_type": "code",
   "execution_count": 24,
   "id": "19ec7609",
   "metadata": {},
   "outputs": [
    {
     "data": {
      "text/plain": [
       "<seaborn.axisgrid.FacetGrid at 0x1b90ee83b20>"
      ]
     },
     "execution_count": 24,
     "metadata": {},
     "output_type": "execute_result"
    },
    {
     "data": {
      "image/png": "[encoded data removed]",
      "text/plain": [
       "<Figure size 1492x360 with 4 Axes>"
      ]
     },
     "metadata": {
      "needs_background": "light"
     },
     "output_type": "display_data"
    }
   ],
   "source": [
    "sns.factorplot(col='PaymentMethod',hue='Churn',data=df,x='Contract',kind='count')"
   ]
  },
  {
   "cell_type": "markdown",
   "id": "1685d685",
   "metadata": {},
   "source": [
    "As we observed earlier, the month-to-month contract based, Elctronic-check PaymentMethod based, and Fiber-Optic InternetService based cutomers have more number of churn."
   ]
  },
  {
   "cell_type": "code",
   "execution_count": 25,
   "id": "cb760faf",
   "metadata": {},
   "outputs": [
    {
     "data": {
      "image/png": "[encoded data removed]",
      "text/plain": [
       "<Figure size 1440x504 with 3 Axes>"
      ]
     },
     "metadata": {
      "needs_background": "light"
     },
     "output_type": "display_data"
    }
   ],
   "source": [
    "plt.figure (figsize=(20,7))\n",
    "plotnumber = 1\n",
    "\n",
    "numeric_featues=['tenure', 'MonthlyCharges', 'TotalCharges']\n",
    "for column in numeric_featues:\n",
    "    if plotnumber<=3:\n",
    "        ax=plt.subplot(1,3,plotnumber)\n",
    "        sns.distplot(df[column])\n",
    "        plt.xlabel(column,fontsize=20)          \n",
    "    plotnumber+=1\n",
    "                     \n",
    "plt.show()"
   ]
  },
  {
   "cell_type": "code",
   "execution_count": 26,
   "id": "ab3bdae1",
   "metadata": {},
   "outputs": [
    {
     "data": {
      "image/png": "[encoded data removed]",
      "text/plain": [
       "<Figure size 1080x504 with 3 Axes>"
      ]
     },
     "metadata": {
      "needs_background": "light"
     },
     "output_type": "display_data"
    }
   ],
   "source": [
    "plt.figure (figsize=(15,7))\n",
    "plotnumber = 1\n",
    "\n",
    "numeric_featues=['tenure', 'MonthlyCharges', 'TotalCharges']\n",
    "\n",
    "for column in numeric_featues:\n",
    "    if plotnumber<=3:\n",
    "        ax=plt.subplot(1,3,plotnumber)\n",
    "        sns.boxplot(df[column])\n",
    "        plt.xlabel(column,fontsize=20)          \n",
    "    plotnumber+=1\n",
    "                     \n",
    "plt.show()"
   ]
  },
  {
   "cell_type": "markdown",
   "id": "37895f70",
   "metadata": {},
   "source": [
    "From boxplot and scatterplot, as observed it shows no any outliers in dataset."
   ]
  },
  {
   "cell_type": "code",
   "execution_count": 27,
   "id": "f5ebda3c",
   "metadata": {},
   "outputs": [
    {
     "data": {
      "text/html": [
       "<div>\n",
       "<style scoped>\n",
       "    .dataframe tbody tr th:only-of-type {\n",
       "        vertical-align: middle;\n",
       "    }\n",
       "\n",
       "    .dataframe tbody tr th {\n",
       "        vertical-align: top;\n",
       "    }\n",
       "\n",
       "    .dataframe thead th {\n",
       "        text-align: right;\n",
       "    }\n",
       "</style>\n",
       "<table border=\"1\" class=\"dataframe\">\n",
       "  <thead>\n",
       "    <tr style=\"text-align: right;\">\n",
       "      <th></th>\n",
       "      <th>SeniorCitizen</th>\n",
       "      <th>tenure</th>\n",
       "      <th>MonthlyCharges</th>\n",
       "      <th>TotalCharges</th>\n",
       "    </tr>\n",
       "  </thead>\n",
       "  <tbody>\n",
       "    <tr>\n",
       "      <th>count</th>\n",
       "      <td>7021.000000</td>\n",
       "      <td>7021.000000</td>\n",
       "      <td>7021.000000</td>\n",
       "      <td>7021.000000</td>\n",
       "    </tr>\n",
       "    <tr>\n",
       "      <th>mean</th>\n",
       "      <td>0.162512</td>\n",
       "      <td>32.469449</td>\n",
       "      <td>64.851894</td>\n",
       "      <td>2290.353388</td>\n",
       "    </tr>\n",
       "    <tr>\n",
       "      <th>std</th>\n",
       "      <td>0.368947</td>\n",
       "      <td>24.534965</td>\n",
       "      <td>30.069001</td>\n",
       "      <td>2265.044136</td>\n",
       "    </tr>\n",
       "    <tr>\n",
       "      <th>min</th>\n",
       "      <td>0.000000</td>\n",
       "      <td>0.000000</td>\n",
       "      <td>18.250000</td>\n",
       "      <td>18.800000</td>\n",
       "    </tr>\n",
       "    <tr>\n",
       "      <th>25%</th>\n",
       "      <td>0.000000</td>\n",
       "      <td>9.000000</td>\n",
       "      <td>35.750000</td>\n",
       "      <td>411.150000</td>\n",
       "    </tr>\n",
       "    <tr>\n",
       "      <th>50%</th>\n",
       "      <td>0.000000</td>\n",
       "      <td>29.000000</td>\n",
       "      <td>70.400000</td>\n",
       "      <td>1410.250000</td>\n",
       "    </tr>\n",
       "    <tr>\n",
       "      <th>75%</th>\n",
       "      <td>0.000000</td>\n",
       "      <td>55.000000</td>\n",
       "      <td>89.900000</td>\n",
       "      <td>3801.700000</td>\n",
       "    </tr>\n",
       "    <tr>\n",
       "      <th>max</th>\n",
       "      <td>1.000000</td>\n",
       "      <td>72.000000</td>\n",
       "      <td>118.750000</td>\n",
       "      <td>8684.800000</td>\n",
       "    </tr>\n",
       "  </tbody>\n",
       "</table>\n",
       "</div>"
      ],
      "text/plain": [
       "       SeniorCitizen       tenure  MonthlyCharges  TotalCharges\n",
       "count    7021.000000  7021.000000     7021.000000   7021.000000\n",
       "mean        0.162512    32.469449       64.851894   2290.353388\n",
       "std         0.368947    24.534965       30.069001   2265.044136\n",
       "min         0.000000     0.000000       18.250000     18.800000\n",
       "25%         0.000000     9.000000       35.750000    411.150000\n",
       "50%         0.000000    29.000000       70.400000   1410.250000\n",
       "75%         0.000000    55.000000       89.900000   3801.700000\n",
       "max         1.000000    72.000000      118.750000   8684.800000"
      ]
     },
     "execution_count": 27,
     "metadata": {},
     "output_type": "execute_result"
    }
   ],
   "source": [
    "df.describe()"
   ]
  },
  {
   "cell_type": "markdown",
   "id": "eb655b64",
   "metadata": {},
   "source": [
    "# Since the dataset has a lot of string vales. We will use the encoding techniques to convert the sring data to numerical data."
   ]
  },
  {
   "cell_type": "code",
   "execution_count": 28,
   "id": "e52e7c86",
   "metadata": {},
   "outputs": [],
   "source": [
    "from sklearn.preprocessing import OrdinalEncoder\n",
    "enc = OrdinalEncoder()"
   ]
  },
  {
   "cell_type": "code",
   "execution_count": 29,
   "id": "d743a41c",
   "metadata": {},
   "outputs": [],
   "source": [
    "for i in df.columns:\n",
    "    if df[i].dtypes == 'object':\n",
    "        df[i]= enc.fit_transform(df[i].values.reshape(-1,1))"
   ]
  },
  {
   "cell_type": "code",
   "execution_count": 30,
   "id": "192009dd",
   "metadata": {},
   "outputs": [
    {
     "data": {
      "text/html": [
       "<div>\n",
       "<style scoped>\n",
       "    .dataframe tbody tr th:only-of-type {\n",
       "        vertical-align: middle;\n",
       "    }\n",
       "\n",
       "    .dataframe tbody tr th {\n",
       "        vertical-align: top;\n",
       "    }\n",
       "\n",
       "    .dataframe thead th {\n",
       "        text-align: right;\n",
       "    }\n",
       "</style>\n",
       "<table border=\"1\" class=\"dataframe\">\n",
       "  <thead>\n",
       "    <tr style=\"text-align: right;\">\n",
       "      <th></th>\n",
       "      <th>gender</th>\n",
       "      <th>SeniorCitizen</th>\n",
       "      <th>Partner</th>\n",
       "      <th>Dependents</th>\n",
       "      <th>tenure</th>\n",
       "      <th>PhoneService</th>\n",
       "      <th>MultipleLines</th>\n",
       "      <th>InternetService</th>\n",
       "      <th>OnlineSecurity</th>\n",
       "      <th>OnlineBackup</th>\n",
       "      <th>DeviceProtection</th>\n",
       "      <th>TechSupport</th>\n",
       "      <th>StreamingTV</th>\n",
       "      <th>StreamingMovies</th>\n",
       "      <th>Contract</th>\n",
       "      <th>PaperlessBilling</th>\n",
       "      <th>PaymentMethod</th>\n",
       "      <th>MonthlyCharges</th>\n",
       "      <th>TotalCharges</th>\n",
       "      <th>Churn</th>\n",
       "    </tr>\n",
       "  </thead>\n",
       "  <tbody>\n",
       "    <tr>\n",
       "      <th>0</th>\n",
       "      <td>0.0</td>\n",
       "      <td>0</td>\n",
       "      <td>1.0</td>\n",
       "      <td>0.0</td>\n",
       "      <td>1</td>\n",
       "      <td>0.0</td>\n",
       "      <td>1.0</td>\n",
       "      <td>0.0</td>\n",
       "      <td>0.0</td>\n",
       "      <td>2.0</td>\n",
       "      <td>0.0</td>\n",
       "      <td>0.0</td>\n",
       "      <td>0.0</td>\n",
       "      <td>0.0</td>\n",
       "      <td>0.0</td>\n",
       "      <td>1.0</td>\n",
       "      <td>2.0</td>\n",
       "      <td>29.85</td>\n",
       "      <td>29.85</td>\n",
       "      <td>0.0</td>\n",
       "    </tr>\n",
       "    <tr>\n",
       "      <th>1</th>\n",
       "      <td>1.0</td>\n",
       "      <td>0</td>\n",
       "      <td>0.0</td>\n",
       "      <td>0.0</td>\n",
       "      <td>34</td>\n",
       "      <td>1.0</td>\n",
       "      <td>0.0</td>\n",
       "      <td>0.0</td>\n",
       "      <td>2.0</td>\n",
       "      <td>0.0</td>\n",
       "      <td>2.0</td>\n",
       "      <td>0.0</td>\n",
       "      <td>0.0</td>\n",
       "      <td>0.0</td>\n",
       "      <td>1.0</td>\n",
       "      <td>0.0</td>\n",
       "      <td>3.0</td>\n",
       "      <td>56.95</td>\n",
       "      <td>1889.50</td>\n",
       "      <td>0.0</td>\n",
       "    </tr>\n",
       "    <tr>\n",
       "      <th>2</th>\n",
       "      <td>1.0</td>\n",
       "      <td>0</td>\n",
       "      <td>0.0</td>\n",
       "      <td>0.0</td>\n",
       "      <td>2</td>\n",
       "      <td>1.0</td>\n",
       "      <td>0.0</td>\n",
       "      <td>0.0</td>\n",
       "      <td>2.0</td>\n",
       "      <td>2.0</td>\n",
       "      <td>0.0</td>\n",
       "      <td>0.0</td>\n",
       "      <td>0.0</td>\n",
       "      <td>0.0</td>\n",
       "      <td>0.0</td>\n",
       "      <td>1.0</td>\n",
       "      <td>3.0</td>\n",
       "      <td>53.85</td>\n",
       "      <td>108.15</td>\n",
       "      <td>1.0</td>\n",
       "    </tr>\n",
       "    <tr>\n",
       "      <th>3</th>\n",
       "      <td>1.0</td>\n",
       "      <td>0</td>\n",
       "      <td>0.0</td>\n",
       "      <td>0.0</td>\n",
       "      <td>45</td>\n",
       "      <td>0.0</td>\n",
       "      <td>1.0</td>\n",
       "      <td>0.0</td>\n",
       "      <td>2.0</td>\n",
       "      <td>0.0</td>\n",
       "      <td>2.0</td>\n",
       "      <td>2.0</td>\n",
       "      <td>0.0</td>\n",
       "      <td>0.0</td>\n",
       "      <td>1.0</td>\n",
       "      <td>0.0</td>\n",
       "      <td>0.0</td>\n",
       "      <td>42.30</td>\n",
       "      <td>1840.75</td>\n",
       "      <td>0.0</td>\n",
       "    </tr>\n",
       "    <tr>\n",
       "      <th>4</th>\n",
       "      <td>0.0</td>\n",
       "      <td>0</td>\n",
       "      <td>0.0</td>\n",
       "      <td>0.0</td>\n",
       "      <td>2</td>\n",
       "      <td>1.0</td>\n",
       "      <td>0.0</td>\n",
       "      <td>1.0</td>\n",
       "      <td>0.0</td>\n",
       "      <td>0.0</td>\n",
       "      <td>0.0</td>\n",
       "      <td>0.0</td>\n",
       "      <td>0.0</td>\n",
       "      <td>0.0</td>\n",
       "      <td>0.0</td>\n",
       "      <td>1.0</td>\n",
       "      <td>2.0</td>\n",
       "      <td>70.70</td>\n",
       "      <td>151.65</td>\n",
       "      <td>1.0</td>\n",
       "    </tr>\n",
       "    <tr>\n",
       "      <th>...</th>\n",
       "      <td>...</td>\n",
       "      <td>...</td>\n",
       "      <td>...</td>\n",
       "      <td>...</td>\n",
       "      <td>...</td>\n",
       "      <td>...</td>\n",
       "      <td>...</td>\n",
       "      <td>...</td>\n",
       "      <td>...</td>\n",
       "      <td>...</td>\n",
       "      <td>...</td>\n",
       "      <td>...</td>\n",
       "      <td>...</td>\n",
       "      <td>...</td>\n",
       "      <td>...</td>\n",
       "      <td>...</td>\n",
       "      <td>...</td>\n",
       "      <td>...</td>\n",
       "      <td>...</td>\n",
       "      <td>...</td>\n",
       "    </tr>\n",
       "    <tr>\n",
       "      <th>7038</th>\n",
       "      <td>1.0</td>\n",
       "      <td>0</td>\n",
       "      <td>1.0</td>\n",
       "      <td>1.0</td>\n",
       "      <td>24</td>\n",
       "      <td>1.0</td>\n",
       "      <td>2.0</td>\n",
       "      <td>0.0</td>\n",
       "      <td>2.0</td>\n",
       "      <td>0.0</td>\n",
       "      <td>2.0</td>\n",
       "      <td>2.0</td>\n",
       "      <td>2.0</td>\n",
       "      <td>2.0</td>\n",
       "      <td>1.0</td>\n",
       "      <td>1.0</td>\n",
       "      <td>3.0</td>\n",
       "      <td>84.80</td>\n",
       "      <td>1990.50</td>\n",
       "      <td>0.0</td>\n",
       "    </tr>\n",
       "    <tr>\n",
       "      <th>7039</th>\n",
       "      <td>0.0</td>\n",
       "      <td>0</td>\n",
       "      <td>1.0</td>\n",
       "      <td>1.0</td>\n",
       "      <td>72</td>\n",
       "      <td>1.0</td>\n",
       "      <td>2.0</td>\n",
       "      <td>1.0</td>\n",
       "      <td>0.0</td>\n",
       "      <td>2.0</td>\n",
       "      <td>2.0</td>\n",
       "      <td>0.0</td>\n",
       "      <td>2.0</td>\n",
       "      <td>2.0</td>\n",
       "      <td>1.0</td>\n",
       "      <td>1.0</td>\n",
       "      <td>1.0</td>\n",
       "      <td>103.20</td>\n",
       "      <td>7362.90</td>\n",
       "      <td>0.0</td>\n",
       "    </tr>\n",
       "    <tr>\n",
       "      <th>7040</th>\n",
       "      <td>0.0</td>\n",
       "      <td>0</td>\n",
       "      <td>1.0</td>\n",
       "      <td>1.0</td>\n",
       "      <td>11</td>\n",
       "      <td>0.0</td>\n",
       "      <td>1.0</td>\n",
       "      <td>0.0</td>\n",
       "      <td>2.0</td>\n",
       "      <td>0.0</td>\n",
       "      <td>0.0</td>\n",
       "      <td>0.0</td>\n",
       "      <td>0.0</td>\n",
       "      <td>0.0</td>\n",
       "      <td>0.0</td>\n",
       "      <td>1.0</td>\n",
       "      <td>2.0</td>\n",
       "      <td>29.60</td>\n",
       "      <td>346.45</td>\n",
       "      <td>0.0</td>\n",
       "    </tr>\n",
       "    <tr>\n",
       "      <th>7041</th>\n",
       "      <td>1.0</td>\n",
       "      <td>1</td>\n",
       "      <td>1.0</td>\n",
       "      <td>0.0</td>\n",
       "      <td>4</td>\n",
       "      <td>1.0</td>\n",
       "      <td>2.0</td>\n",
       "      <td>1.0</td>\n",
       "      <td>0.0</td>\n",
       "      <td>0.0</td>\n",
       "      <td>0.0</td>\n",
       "      <td>0.0</td>\n",
       "      <td>0.0</td>\n",
       "      <td>0.0</td>\n",
       "      <td>0.0</td>\n",
       "      <td>1.0</td>\n",
       "      <td>3.0</td>\n",
       "      <td>74.40</td>\n",
       "      <td>306.60</td>\n",
       "      <td>1.0</td>\n",
       "    </tr>\n",
       "    <tr>\n",
       "      <th>7042</th>\n",
       "      <td>1.0</td>\n",
       "      <td>0</td>\n",
       "      <td>0.0</td>\n",
       "      <td>0.0</td>\n",
       "      <td>66</td>\n",
       "      <td>1.0</td>\n",
       "      <td>0.0</td>\n",
       "      <td>1.0</td>\n",
       "      <td>2.0</td>\n",
       "      <td>0.0</td>\n",
       "      <td>2.0</td>\n",
       "      <td>2.0</td>\n",
       "      <td>2.0</td>\n",
       "      <td>2.0</td>\n",
       "      <td>2.0</td>\n",
       "      <td>1.0</td>\n",
       "      <td>0.0</td>\n",
       "      <td>105.65</td>\n",
       "      <td>6844.50</td>\n",
       "      <td>0.0</td>\n",
       "    </tr>\n",
       "  </tbody>\n",
       "</table>\n",
       "<p>7021 rows × 20 columns</p>\n",
       "</div>"
      ],
      "text/plain": [
       "      gender  SeniorCitizen  Partner  Dependents  tenure  PhoneService  \\\n",
       "0        0.0              0      1.0         0.0       1           0.0   \n",
       "1        1.0              0      0.0         0.0      34           1.0   \n",
       "2        1.0              0      0.0         0.0       2           1.0   \n",
       "3        1.0              0      0.0         0.0      45           0.0   \n",
       "4        0.0              0      0.0         0.0       2           1.0   \n",
       "...      ...            ...      ...         ...     ...           ...   \n",
       "7038     1.0              0      1.0         1.0      24           1.0   \n",
       "7039     0.0              0      1.0         1.0      72           1.0   \n",
       "7040     0.0              0      1.0         1.0      11           0.0   \n",
       "7041     1.0              1      1.0         0.0       4           1.0   \n",
       "7042     1.0              0      0.0         0.0      66           1.0   \n",
       "\n",
       "      MultipleLines  InternetService  OnlineSecurity  OnlineBackup  \\\n",
       "0               1.0              0.0             0.0           2.0   \n",
       "1               0.0              0.0             2.0           0.0   \n",
       "2               0.0              0.0             2.0           2.0   \n",
       "3               1.0              0.0             2.0           0.0   \n",
       "4               0.0              1.0             0.0           0.0   \n",
       "...             ...              ...             ...           ...   \n",
       "7038            2.0              0.0             2.0           0.0   \n",
       "7039            2.0              1.0             0.0           2.0   \n",
       "7040            1.0              0.0             2.0           0.0   \n",
       "7041            2.0              1.0             0.0           0.0   \n",
       "7042            0.0              1.0             2.0           0.0   \n",
       "\n",
       "      DeviceProtection  TechSupport  StreamingTV  StreamingMovies  Contract  \\\n",
       "0                  0.0          0.0          0.0              0.0       0.0   \n",
       "1                  2.0          0.0          0.0              0.0       1.0   \n",
       "2                  0.0          0.0          0.0              0.0       0.0   \n",
       "3                  2.0          2.0          0.0              0.0       1.0   \n",
       "4                  0.0          0.0          0.0              0.0       0.0   \n",
       "...                ...          ...          ...              ...       ...   \n",
       "7038               2.0          2.0          2.0              2.0       1.0   \n",
       "7039               2.0          0.0          2.0              2.0       1.0   \n",
       "7040               0.0          0.0          0.0              0.0       0.0   \n",
       "7041               0.0          0.0          0.0              0.0       0.0   \n",
       "7042               2.0          2.0          2.0              2.0       2.0   \n",
       "\n",
       "      PaperlessBilling  PaymentMethod  MonthlyCharges  TotalCharges  Churn  \n",
       "0                  1.0            2.0           29.85         29.85    0.0  \n",
       "1                  0.0            3.0           56.95       1889.50    0.0  \n",
       "2                  1.0            3.0           53.85        108.15    1.0  \n",
       "3                  0.0            0.0           42.30       1840.75    0.0  \n",
       "4                  1.0            2.0           70.70        151.65    1.0  \n",
       "...                ...            ...             ...           ...    ...  \n",
       "7038               1.0            3.0           84.80       1990.50    0.0  \n",
       "7039               1.0            1.0          103.20       7362.90    0.0  \n",
       "7040               1.0            2.0           29.60        346.45    0.0  \n",
       "7041               1.0            3.0           74.40        306.60    1.0  \n",
       "7042               1.0            0.0          105.65       6844.50    0.0  \n",
       "\n",
       "[7021 rows x 20 columns]"
      ]
     },
     "execution_count": 30,
     "metadata": {},
     "output_type": "execute_result"
    }
   ],
   "source": [
    "df"
   ]
  },
  {
   "cell_type": "markdown",
   "id": "0471860c",
   "metadata": {},
   "source": [
    "# Check correlation of the columns with the target column"
   ]
  },
  {
   "cell_type": "code",
   "execution_count": 31,
   "id": "503f132a",
   "metadata": {},
   "outputs": [
    {
     "data": {
      "text/plain": [
       "Contract           -0.396531\n",
       "tenure             -0.351508\n",
       "OnlineSecurity     -0.288505\n",
       "TechSupport        -0.281654\n",
       "TotalCharges       -0.198306\n",
       "OnlineBackup       -0.194214\n",
       "DeviceProtection   -0.176770\n",
       "Dependents         -0.163459\n",
       "Partner            -0.149135\n",
       "InternetService    -0.047366\n",
       "StreamingMovies    -0.036492\n",
       "StreamingTV        -0.034591\n",
       "gender             -0.008763\n",
       "PhoneService        0.011323\n",
       "MultipleLines       0.040175\n",
       "PaymentMethod       0.106238\n",
       "SeniorCitizen       0.151619\n",
       "PaperlessBilling    0.190891\n",
       "MonthlyCharges      0.194508\n",
       "Churn               1.000000\n",
       "Name: Churn, dtype: float64"
      ]
     },
     "execution_count": 31,
     "metadata": {},
     "output_type": "execute_result"
    }
   ],
   "source": [
    "df.corr()['Churn'].sort_values()"
   ]
  },
  {
   "cell_type": "code",
   "execution_count": 32,
   "id": "13fefa78",
   "metadata": {},
   "outputs": [],
   "source": [
    "# here 0 = no any correlation\n",
    "# -0.3 to 0.3 = less correlation\n",
    "# -0.5 to 0.5 = moderate correlation\n",
    "# -0.7 to 0.7 = high correlation\n",
    "# <-0.7 = very high -ve correlation\n",
    "# >=0.7 = very high +ve correlation"
   ]
  },
  {
   "cell_type": "code",
   "execution_count": 33,
   "id": "363d843a",
   "metadata": {},
   "outputs": [
    {
     "data": {
      "image/png": "[encoded data removed]",
      "text/plain": [
       "<Figure size 1440x720 with 1 Axes>"
      ]
     },
     "metadata": {
      "needs_background": "light"
     },
     "output_type": "display_data"
    }
   ],
   "source": [
    "plt.figure(figsize=(20,10))\n",
    "df.corr()['Churn'].sort_values().plot(kind='bar')\n",
    "plt.xlabel('Features')\n",
    "plt.title('Correlation')\n",
    "plt.show()"
   ]
  },
  {
   "cell_type": "code",
   "execution_count": null,
   "id": "d30aa7da",
   "metadata": {},
   "outputs": [],
   "source": []
  },
  {
   "cell_type": "markdown",
   "id": "6ce4c644",
   "metadata": {},
   "source": [
    "# Now Separting columns into features and target"
   ]
  },
  {
   "cell_type": "code",
   "execution_count": 81,
   "id": "aeb71233",
   "metadata": {},
   "outputs": [
    {
     "data": {
      "text/plain": [
       "PhoneService       -2.721300\n",
       "PaperlessBilling   -0.377214\n",
       "MonthlyCharges     -0.224097\n",
       "PaymentMethod      -0.166267\n",
       "gender             -0.017381\n",
       "StreamingMovies     0.012488\n",
       "StreamingTV         0.026366\n",
       "Partner             0.061857\n",
       "MultipleLines       0.112816\n",
       "OnlineBackup        0.181338\n",
       "DeviceProtection    0.185268\n",
       "InternetService     0.208589\n",
       "tenure              0.235542\n",
       "TechSupport         0.401511\n",
       "OnlineSecurity      0.416182\n",
       "Contract            0.626004\n",
       "Dependents          0.870322\n",
       "TotalCharges        0.959073\n",
       "SeniorCitizen       1.829987\n",
       "dtype: float64"
      ]
     },
     "execution_count": 81,
     "metadata": {},
     "output_type": "execute_result"
    }
   ],
   "source": [
    "x=df.drop(columns='Churn')\n",
    "y=df.Churn\n",
    "x.skew().sort_values()"
   ]
  },
  {
   "cell_type": "markdown",
   "id": "f8513525",
   "metadata": {},
   "source": [
    "# Now use Transformation method to save our skewed data."
   ]
  },
  {
   "cell_type": "code",
   "execution_count": 82,
   "id": "200c0db8",
   "metadata": {},
   "outputs": [
    {
     "data": {
      "text/plain": [
       "PhoneService       -2.721300\n",
       "PaperlessBilling   -0.377214\n",
       "MonthlyCharges     -0.259855\n",
       "tenure             -0.243646\n",
       "PaymentMethod      -0.206316\n",
       "TotalCharges       -0.143826\n",
       "StreamingMovies    -0.106539\n",
       "StreamingTV        -0.098052\n",
       "InternetService    -0.071493\n",
       "gender             -0.017381\n",
       "OnlineBackup       -0.001635\n",
       "DeviceProtection    0.000849\n",
       "MultipleLines       0.028603\n",
       "Partner             0.061857\n",
       "TechSupport         0.140414\n",
       "OnlineSecurity      0.150084\n",
       "Contract            0.297934\n",
       "Dependents          0.870322\n",
       "SeniorCitizen       1.829987\n",
       "dtype: float64"
      ]
     },
     "execution_count": 82,
     "metadata": {},
     "output_type": "execute_result"
    }
   ],
   "source": [
    "from sklearn.preprocessing import PowerTransformer\n",
    "\n",
    "df_pt = PowerTransformer()\n",
    "df_pw = pd.DataFrame(df_pt.fit_transform(x),columns=x.columns)\n",
    "df_pw.skew().sort_values()"
   ]
  },
  {
   "cell_type": "code",
   "execution_count": 86,
   "id": "bf770d93",
   "metadata": {},
   "outputs": [
    {
     "data": {
      "text/plain": [
       "Index(['tenure', 'MonthlyCharges', 'TotalCharges'], dtype='object')"
      ]
     },
     "execution_count": 86,
     "metadata": {},
     "output_type": "execute_result"
    }
   ],
   "source": [
    "x1=df_pw.copy\n",
    "df1=df_pw.drop(columns=['gender', 'SeniorCitizen', 'Partner', 'Dependents', 'PhoneService', 'MultipleLines', 'InternetService',\n",
    "                        'OnlineSecurity', 'OnlineBackup', 'DeviceProtection', 'TechSupport', 'StreamingTV', 'StreamingMovies',\n",
    "                        'Contract', 'PaperlessBilling', 'PaymentMethod'])\n",
    "df1.columns"
   ]
  },
  {
   "cell_type": "markdown",
   "id": "0d664d8d",
   "metadata": {},
   "source": [
    "# Now remove remaining outliers using z-score technique."
   ]
  },
  {
   "cell_type": "code",
   "execution_count": 87,
   "id": "8f6eb0cd",
   "metadata": {},
   "outputs": [
    {
     "data": {
      "text/plain": [
       "(array([], dtype=int64), array([], dtype=int64))"
      ]
     },
     "execution_count": 87,
     "metadata": {},
     "output_type": "execute_result"
    }
   ],
   "source": [
    "from scipy.stats import zscore\n",
    "z=np.abs(zscore(df1))\n",
    "threshold=3\n",
    "np.where(z>3)"
   ]
  },
  {
   "cell_type": "markdown",
   "id": "8162c0ea",
   "metadata": {},
   "source": [
    "Using powertransformation all skewness has removed, so as observed 0 result shows in z-score method to remove skewness."
   ]
  },
  {
   "cell_type": "code",
   "execution_count": 88,
   "id": "730cd10b",
   "metadata": {},
   "outputs": [
    {
     "data": {
      "text/plain": [
       "0.0    5164\n",
       "1.0    1857\n",
       "Name: Churn, dtype: int64"
      ]
     },
     "execution_count": 88,
     "metadata": {},
     "output_type": "execute_result"
    }
   ],
   "source": [
    "y.value_counts()"
   ]
  },
  {
   "cell_type": "markdown",
   "id": "326f3f1c",
   "metadata": {},
   "source": [
    "It has been observed that our target class has an imbalance. So, we’ll try to resample the data"
   ]
  },
  {
   "cell_type": "markdown",
   "id": "726d311e",
   "metadata": {},
   "source": [
    "# SMOTE smapling"
   ]
  },
  {
   "cell_type": "code",
   "execution_count": 90,
   "id": "2cae58fe",
   "metadata": {},
   "outputs": [
    {
     "data": {
      "image/png": "[encoded data removed]",
      "text/plain": [
       "<Figure size 360x360 with 1 Axes>"
      ]
     },
     "metadata": {},
     "output_type": "display_data"
    }
   ],
   "source": [
    "#Synthetic Minority Oversampling Technique (SMOTE)\n",
    "#It is a statistical technique for increasing the number of cases in your dataset in a balanced way. \n",
    "\n",
    "from imblearn.over_sampling import SMOTE\n",
    "\n",
    "sm = SMOTE(sampling_strategy = 'not majority', random_state = 29)\n",
    "x_res, y_res = sm.fit_resample(x, y)\n",
    "y_res_df = pd.DataFrame(y_res)\n",
    "\n",
    "plt.figure(figsize=(5,5))\n",
    "\n",
    "sns.set(style = 'whitegrid')\n",
    "sns.countplot(y_res_df.Churn).set_title('After SMOTE')\n",
    "plt.xlabel('Income',fontsize=20)\n",
    "plt.show()"
   ]
  },
  {
   "cell_type": "code",
   "execution_count": 91,
   "id": "6669f474",
   "metadata": {},
   "outputs": [
    {
     "data": {
      "text/plain": [
       "(10328, 1)"
      ]
     },
     "execution_count": 91,
     "metadata": {},
     "output_type": "execute_result"
    }
   ],
   "source": [
    "y_res_df.shape"
   ]
  },
  {
   "cell_type": "code",
   "execution_count": 92,
   "id": "e5cc989a",
   "metadata": {},
   "outputs": [
    {
     "data": {
      "text/plain": [
       "(10328, 19)"
      ]
     },
     "execution_count": 92,
     "metadata": {},
     "output_type": "execute_result"
    }
   ],
   "source": [
    "x_res.shape"
   ]
  },
  {
   "cell_type": "markdown",
   "id": "7f155dc2",
   "metadata": {},
   "source": [
    "# Data Scaling using Standard Scaler"
   ]
  },
  {
   "cell_type": "code",
   "execution_count": 93,
   "id": "069a993a",
   "metadata": {},
   "outputs": [
    {
     "data": {
      "text/html": [
       "<div>\n",
       "<style scoped>\n",
       "    .dataframe tbody tr th:only-of-type {\n",
       "        vertical-align: middle;\n",
       "    }\n",
       "\n",
       "    .dataframe tbody tr th {\n",
       "        vertical-align: top;\n",
       "    }\n",
       "\n",
       "    .dataframe thead th {\n",
       "        text-align: right;\n",
       "    }\n",
       "</style>\n",
       "<table border=\"1\" class=\"dataframe\">\n",
       "  <thead>\n",
       "    <tr style=\"text-align: right;\">\n",
       "      <th></th>\n",
       "      <th>gender</th>\n",
       "      <th>SeniorCitizen</th>\n",
       "      <th>Partner</th>\n",
       "      <th>Dependents</th>\n",
       "      <th>tenure</th>\n",
       "      <th>PhoneService</th>\n",
       "      <th>MultipleLines</th>\n",
       "      <th>InternetService</th>\n",
       "      <th>OnlineSecurity</th>\n",
       "      <th>OnlineBackup</th>\n",
       "      <th>DeviceProtection</th>\n",
       "      <th>TechSupport</th>\n",
       "      <th>StreamingTV</th>\n",
       "      <th>StreamingMovies</th>\n",
       "      <th>Contract</th>\n",
       "      <th>PaperlessBilling</th>\n",
       "      <th>PaymentMethod</th>\n",
       "      <th>MonthlyCharges</th>\n",
       "      <th>TotalCharges</th>\n",
       "    </tr>\n",
       "  </thead>\n",
       "  <tbody>\n",
       "    <tr>\n",
       "      <th>0</th>\n",
       "      <td>-1.055249</td>\n",
       "      <td>-0.401375</td>\n",
       "      <td>1.177089</td>\n",
       "      <td>-0.614341</td>\n",
       "      <td>-1.116833</td>\n",
       "      <td>-3.192483</td>\n",
       "      <td>0.029264</td>\n",
       "      <td>-1.289020</td>\n",
       "      <td>-0.797760</td>\n",
       "      <td>1.391459</td>\n",
       "      <td>-0.954004</td>\n",
       "      <td>-0.810614</td>\n",
       "      <td>-1.100713</td>\n",
       "      <td>-1.104660</td>\n",
       "      <td>-0.673050</td>\n",
       "      <td>0.766665</td>\n",
       "      <td>0.374767</td>\n",
       "      <td>-1.339581</td>\n",
       "      <td>-0.927237</td>\n",
       "    </tr>\n",
       "    <tr>\n",
       "      <th>1</th>\n",
       "      <td>1.049528</td>\n",
       "      <td>-0.401375</td>\n",
       "      <td>-0.928320</td>\n",
       "      <td>-0.614341</td>\n",
       "      <td>0.262230</td>\n",
       "      <td>0.328318</td>\n",
       "      <td>-1.058672</td>\n",
       "      <td>-1.289020</td>\n",
       "      <td>1.656452</td>\n",
       "      <td>-0.941244</td>\n",
       "      <td>1.380358</td>\n",
       "      <td>-0.810614</td>\n",
       "      <td>-1.100713</td>\n",
       "      <td>-1.104660</td>\n",
       "      <td>0.638094</td>\n",
       "      <td>-1.406519</td>\n",
       "      <td>1.395848</td>\n",
       "      <td>-0.394013</td>\n",
       "      <td>-0.074539</td>\n",
       "    </tr>\n",
       "    <tr>\n",
       "      <th>2</th>\n",
       "      <td>1.049528</td>\n",
       "      <td>-0.401375</td>\n",
       "      <td>-0.928320</td>\n",
       "      <td>-0.614341</td>\n",
       "      <td>-1.075043</td>\n",
       "      <td>0.328318</td>\n",
       "      <td>-1.058672</td>\n",
       "      <td>-1.289020</td>\n",
       "      <td>1.656452</td>\n",
       "      <td>1.391459</td>\n",
       "      <td>-0.954004</td>\n",
       "      <td>-0.810614</td>\n",
       "      <td>-1.100713</td>\n",
       "      <td>-1.104660</td>\n",
       "      <td>-0.673050</td>\n",
       "      <td>0.766665</td>\n",
       "      <td>1.395848</td>\n",
       "      <td>-0.502178</td>\n",
       "      <td>-0.891335</td>\n",
       "    </tr>\n",
       "    <tr>\n",
       "      <th>3</th>\n",
       "      <td>1.049528</td>\n",
       "      <td>-0.401375</td>\n",
       "      <td>-0.928320</td>\n",
       "      <td>-0.614341</td>\n",
       "      <td>0.721918</td>\n",
       "      <td>-3.192483</td>\n",
       "      <td>0.029264</td>\n",
       "      <td>-1.289020</td>\n",
       "      <td>1.656452</td>\n",
       "      <td>-0.941244</td>\n",
       "      <td>1.380358</td>\n",
       "      <td>1.632813</td>\n",
       "      <td>-1.100713</td>\n",
       "      <td>-1.104660</td>\n",
       "      <td>0.638094</td>\n",
       "      <td>-1.406519</td>\n",
       "      <td>-1.667395</td>\n",
       "      <td>-0.905178</td>\n",
       "      <td>-0.096892</td>\n",
       "    </tr>\n",
       "    <tr>\n",
       "      <th>4</th>\n",
       "      <td>-1.055249</td>\n",
       "      <td>-0.401375</td>\n",
       "      <td>-0.928320</td>\n",
       "      <td>-0.614341</td>\n",
       "      <td>-1.075043</td>\n",
       "      <td>0.328318</td>\n",
       "      <td>-1.058672</td>\n",
       "      <td>0.217474</td>\n",
       "      <td>-0.797760</td>\n",
       "      <td>-0.941244</td>\n",
       "      <td>-0.954004</td>\n",
       "      <td>-0.810614</td>\n",
       "      <td>-1.100713</td>\n",
       "      <td>-1.104660</td>\n",
       "      <td>-0.673050</td>\n",
       "      <td>0.766665</td>\n",
       "      <td>0.374767</td>\n",
       "      <td>0.085749</td>\n",
       "      <td>-0.871389</td>\n",
       "    </tr>\n",
       "    <tr>\n",
       "      <th>...</th>\n",
       "      <td>...</td>\n",
       "      <td>...</td>\n",
       "      <td>...</td>\n",
       "      <td>...</td>\n",
       "      <td>...</td>\n",
       "      <td>...</td>\n",
       "      <td>...</td>\n",
       "      <td>...</td>\n",
       "      <td>...</td>\n",
       "      <td>...</td>\n",
       "      <td>...</td>\n",
       "      <td>...</td>\n",
       "      <td>...</td>\n",
       "      <td>...</td>\n",
       "      <td>...</td>\n",
       "      <td>...</td>\n",
       "      <td>...</td>\n",
       "      <td>...</td>\n",
       "      <td>...</td>\n",
       "    </tr>\n",
       "    <tr>\n",
       "      <th>10323</th>\n",
       "      <td>-1.055249</td>\n",
       "      <td>-0.401375</td>\n",
       "      <td>-0.928320</td>\n",
       "      <td>-0.614341</td>\n",
       "      <td>-0.531776</td>\n",
       "      <td>0.328318</td>\n",
       "      <td>0.699900</td>\n",
       "      <td>0.217474</td>\n",
       "      <td>-0.327078</td>\n",
       "      <td>-0.941244</td>\n",
       "      <td>1.380358</td>\n",
       "      <td>-0.342000</td>\n",
       "      <td>-1.100713</td>\n",
       "      <td>1.159185</td>\n",
       "      <td>-0.673050</td>\n",
       "      <td>0.766665</td>\n",
       "      <td>0.570595</td>\n",
       "      <td>0.757609</td>\n",
       "      <td>-0.288446</td>\n",
       "    </tr>\n",
       "    <tr>\n",
       "      <th>10324</th>\n",
       "      <td>0.451403</td>\n",
       "      <td>-0.401375</td>\n",
       "      <td>1.177089</td>\n",
       "      <td>-0.614341</td>\n",
       "      <td>1.557714</td>\n",
       "      <td>0.328318</td>\n",
       "      <td>1.117200</td>\n",
       "      <td>0.217474</td>\n",
       "      <td>-0.797760</td>\n",
       "      <td>1.391459</td>\n",
       "      <td>-0.290636</td>\n",
       "      <td>0.938452</td>\n",
       "      <td>1.165685</td>\n",
       "      <td>1.159185</td>\n",
       "      <td>0.638094</td>\n",
       "      <td>0.766665</td>\n",
       "      <td>0.374767</td>\n",
       "      <td>1.283599</td>\n",
       "      <td>2.216203</td>\n",
       "    </tr>\n",
       "    <tr>\n",
       "      <th>10325</th>\n",
       "      <td>-0.641768</td>\n",
       "      <td>-0.401375</td>\n",
       "      <td>-0.928320</td>\n",
       "      <td>-0.614341</td>\n",
       "      <td>0.220440</td>\n",
       "      <td>0.328318</td>\n",
       "      <td>-1.058672</td>\n",
       "      <td>0.217474</td>\n",
       "      <td>-0.797760</td>\n",
       "      <td>-0.482987</td>\n",
       "      <td>-0.954004</td>\n",
       "      <td>-0.330605</td>\n",
       "      <td>-1.100713</td>\n",
       "      <td>-1.104660</td>\n",
       "      <td>-0.673050</td>\n",
       "      <td>0.766665</td>\n",
       "      <td>-0.445724</td>\n",
       "      <td>0.119245</td>\n",
       "      <td>0.168636</td>\n",
       "    </tr>\n",
       "    <tr>\n",
       "      <th>10326</th>\n",
       "      <td>-1.055249</td>\n",
       "      <td>2.491437</td>\n",
       "      <td>-0.928320</td>\n",
       "      <td>-0.614341</td>\n",
       "      <td>-1.116833</td>\n",
       "      <td>0.328318</td>\n",
       "      <td>-1.058672</td>\n",
       "      <td>0.217474</td>\n",
       "      <td>-0.797760</td>\n",
       "      <td>-0.941244</td>\n",
       "      <td>-0.954004</td>\n",
       "      <td>-0.810614</td>\n",
       "      <td>-1.100713</td>\n",
       "      <td>-1.104660</td>\n",
       "      <td>-0.673050</td>\n",
       "      <td>0.766665</td>\n",
       "      <td>0.374767</td>\n",
       "      <td>0.045114</td>\n",
       "      <td>-0.909041</td>\n",
       "    </tr>\n",
       "    <tr>\n",
       "      <th>10327</th>\n",
       "      <td>0.827739</td>\n",
       "      <td>2.491437</td>\n",
       "      <td>0.955233</td>\n",
       "      <td>-0.614341</td>\n",
       "      <td>0.471179</td>\n",
       "      <td>0.328318</td>\n",
       "      <td>1.117200</td>\n",
       "      <td>0.217474</td>\n",
       "      <td>-0.797760</td>\n",
       "      <td>1.391459</td>\n",
       "      <td>1.380358</td>\n",
       "      <td>-0.810614</td>\n",
       "      <td>1.165685</td>\n",
       "      <td>1.159185</td>\n",
       "      <td>-0.673050</td>\n",
       "      <td>0.766665</td>\n",
       "      <td>0.159575</td>\n",
       "      <td>1.301909</td>\n",
       "      <td>1.025636</td>\n",
       "    </tr>\n",
       "  </tbody>\n",
       "</table>\n",
       "<p>10328 rows × 19 columns</p>\n",
       "</div>"
      ],
      "text/plain": [
       "         gender  SeniorCitizen   Partner  Dependents    tenure  PhoneService  \\\n",
       "0     -1.055249      -0.401375  1.177089   -0.614341 -1.116833     -3.192483   \n",
       "1      1.049528      -0.401375 -0.928320   -0.614341  0.262230      0.328318   \n",
       "2      1.049528      -0.401375 -0.928320   -0.614341 -1.075043      0.328318   \n",
       "3      1.049528      -0.401375 -0.928320   -0.614341  0.721918     -3.192483   \n",
       "4     -1.055249      -0.401375 -0.928320   -0.614341 -1.075043      0.328318   \n",
       "...         ...            ...       ...         ...       ...           ...   \n",
       "10323 -1.055249      -0.401375 -0.928320   -0.614341 -0.531776      0.328318   \n",
       "10324  0.451403      -0.401375  1.177089   -0.614341  1.557714      0.328318   \n",
       "10325 -0.641768      -0.401375 -0.928320   -0.614341  0.220440      0.328318   \n",
       "10326 -1.055249       2.491437 -0.928320   -0.614341 -1.116833      0.328318   \n",
       "10327  0.827739       2.491437  0.955233   -0.614341  0.471179      0.328318   \n",
       "\n",
       "       MultipleLines  InternetService  OnlineSecurity  OnlineBackup  \\\n",
       "0           0.029264        -1.289020       -0.797760      1.391459   \n",
       "1          -1.058672        -1.289020        1.656452     -0.941244   \n",
       "2          -1.058672        -1.289020        1.656452      1.391459   \n",
       "3           0.029264        -1.289020        1.656452     -0.941244   \n",
       "4          -1.058672         0.217474       -0.797760     -0.941244   \n",
       "...              ...              ...             ...           ...   \n",
       "10323       0.699900         0.217474       -0.327078     -0.941244   \n",
       "10324       1.117200         0.217474       -0.797760      1.391459   \n",
       "10325      -1.058672         0.217474       -0.797760     -0.482987   \n",
       "10326      -1.058672         0.217474       -0.797760     -0.941244   \n",
       "10327       1.117200         0.217474       -0.797760      1.391459   \n",
       "\n",
       "       DeviceProtection  TechSupport  StreamingTV  StreamingMovies  Contract  \\\n",
       "0             -0.954004    -0.810614    -1.100713        -1.104660 -0.673050   \n",
       "1              1.380358    -0.810614    -1.100713        -1.104660  0.638094   \n",
       "2             -0.954004    -0.810614    -1.100713        -1.104660 -0.673050   \n",
       "3              1.380358     1.632813    -1.100713        -1.104660  0.638094   \n",
       "4             -0.954004    -0.810614    -1.100713        -1.104660 -0.673050   \n",
       "...                 ...          ...          ...              ...       ...   \n",
       "10323          1.380358    -0.342000    -1.100713         1.159185 -0.673050   \n",
       "10324         -0.290636     0.938452     1.165685         1.159185  0.638094   \n",
       "10325         -0.954004    -0.330605    -1.100713        -1.104660 -0.673050   \n",
       "10326         -0.954004    -0.810614    -1.100713        -1.104660 -0.673050   \n",
       "10327          1.380358    -0.810614     1.165685         1.159185 -0.673050   \n",
       "\n",
       "       PaperlessBilling  PaymentMethod  MonthlyCharges  TotalCharges  \n",
       "0              0.766665       0.374767       -1.339581     -0.927237  \n",
       "1             -1.406519       1.395848       -0.394013     -0.074539  \n",
       "2              0.766665       1.395848       -0.502178     -0.891335  \n",
       "3             -1.406519      -1.667395       -0.905178     -0.096892  \n",
       "4              0.766665       0.374767        0.085749     -0.871389  \n",
       "...                 ...            ...             ...           ...  \n",
       "10323          0.766665       0.570595        0.757609     -0.288446  \n",
       "10324          0.766665       0.374767        1.283599      2.216203  \n",
       "10325          0.766665      -0.445724        0.119245      0.168636  \n",
       "10326          0.766665       0.374767        0.045114     -0.909041  \n",
       "10327          0.766665       0.159575        1.301909      1.025636  \n",
       "\n",
       "[10328 rows x 19 columns]"
      ]
     },
     "execution_count": 93,
     "metadata": {},
     "output_type": "execute_result"
    }
   ],
   "source": [
    "from sklearn.preprocessing import StandardScaler\n",
    "scaler = StandardScaler()\n",
    "x_scaled = pd.DataFrame(scaler.fit_transform(x_res),columns=x_res.columns)\n",
    "x_scaled"
   ]
  },
  {
   "cell_type": "markdown",
   "id": "ac3093e7",
   "metadata": {},
   "source": [
    "# PCA : Principal Component Analysis"
   ]
  },
  {
   "cell_type": "code",
   "execution_count": 94,
   "id": "343a7830",
   "metadata": {},
   "outputs": [
    {
     "name": "stdout",
     "output_type": "stream",
     "text": [
      "                     PC1   PC2   PC3   PC4   PC5  PC6   PC7   PC8   PC9  PC10  \\\n",
      "Explained_Variance  4.35  2.33  1.51  1.19  1.07  1.0  0.95  0.84  0.79  0.77   \n",
      "\n",
      "                    PC11  PC12  PC13  PC14  PC15  PC16  PC17  PC18  PC19  \n",
      "Explained_Variance   0.7  0.69  0.65  0.56  0.54  0.47  0.31  0.19  0.05  \n"
     ]
    },
    {
     "data": {
      "image/png": "[encoded data removed]",
      "text/plain": [
       "<Figure size 1080x576 with 1 Axes>"
      ]
     },
     "metadata": {},
     "output_type": "display_data"
    }
   ],
   "source": [
    "# Performing PCA\n",
    "from sklearn.decomposition import PCA\n",
    "\n",
    "pca = PCA(random_state = 1)\n",
    "pca.fit(x_scaled)\n",
    "var_exp = pca.explained_variance_ratio_\n",
    "cum_var_exp = np.cumsum(var_exp)\n",
    "var_df = pd.DataFrame(pca.explained_variance_.round(2), index=[\"PC\" + str(i) for i in range(1,20)],\n",
    "                      columns=[\"Explained_Variance\"])\n",
    "print(var_df.T)\n",
    "plt.figure(figsize=(15,8))\n",
    "plt.bar(range(1,len(cum_var_exp)+1), var_exp, align= 'center', label= 'individual variance', color='teal', alpha = 0.8)\n",
    "plt.step(range(1,len(cum_var_exp)+1), cum_var_exp, where = 'mid' , label= 'cumulative variance', color='red')\n",
    "plt.ylabel('Explained variance ratio')\n",
    "plt.xlabel('Principal components')\n",
    "plt.xticks(np.arange(1,len(var_exp)+1,1))\n",
    "plt.legend(loc='center right')\n",
    "plt.show()"
   ]
  },
  {
   "cell_type": "code",
   "execution_count": 95,
   "id": "f5cba994",
   "metadata": {},
   "outputs": [],
   "source": [
    "pca_red = PCA(n_components=17)\n",
    "X_reduced = pca_red.fit_transform(x_scaled)"
   ]
  },
  {
   "cell_type": "markdown",
   "id": "50bf132a",
   "metadata": {},
   "source": [
    "As per PCA observation the first 17 components account for about 99% of the total explained variance. \n",
    "The dataset can reduced with 17 components and proceed further."
   ]
  },
  {
   "cell_type": "code",
   "execution_count": 98,
   "id": "e5924323",
   "metadata": {},
   "outputs": [],
   "source": [
    "XC=X_reduced\n",
    "yc=y_res_df"
   ]
  },
  {
   "cell_type": "markdown",
   "id": "791bda7f",
   "metadata": {},
   "source": [
    "# Model Development"
   ]
  },
  {
   "cell_type": "code",
   "execution_count": 100,
   "id": "53bb93ef",
   "metadata": {},
   "outputs": [],
   "source": [
    "#import the necessary model algos.\n",
    "\n",
    "#classifiaction\n",
    "from sklearn.linear_model import LogisticRegression, SGDClassifier\n",
    "from sklearn.tree import DecisionTreeClassifier\n",
    "from sklearn.neighbors import KNeighborsClassifier\n",
    "from sklearn.ensemble import RandomForestClassifier\n",
    "from sklearn.svm import SVC\n",
    "from sklearn.ensemble import GradientBoostingClassifier,AdaBoostClassifier\n",
    "from xgboost import XGBClassifier\n",
    "from sklearn.naive_bayes import GaussianNB\n",
    "\n",
    "#model selection\n",
    "from sklearn.model_selection import train_test_split,cross_validate, cross_val_score\n",
    "from sklearn.model_selection import KFold\n",
    "from sklearn.model_selection import GridSearchCV\n",
    "\n",
    "#evaluation metrics\n",
    "from sklearn.metrics import accuracy_score, classification_report, confusion_matrix\n"
   ]
  },
  {
   "cell_type": "code",
   "execution_count": 101,
   "id": "2db69acc",
   "metadata": {},
   "outputs": [],
   "source": [
    "LC = LogisticRegression()\n",
    "DTC = DecisionTreeClassifier()\n",
    "KNNC= KNeighborsClassifier()\n",
    "RFC = RandomForestClassifier()\n",
    "SVc = SVC()\n",
    "GRAC= GradientBoostingClassifier()\n",
    "ADAC= AdaBoostClassifier()\n",
    "GNBC= GaussianNB()\n",
    "SGDC= SGDClassifier()\n",
    "XGBC= XGBClassifier()"
   ]
  },
  {
   "cell_type": "code",
   "execution_count": 102,
   "id": "8ac133e3",
   "metadata": {},
   "outputs": [
    {
     "data": {
      "text/html": [
       "<div>\n",
       "<style scoped>\n",
       "    .dataframe tbody tr th:only-of-type {\n",
       "        vertical-align: middle;\n",
       "    }\n",
       "\n",
       "    .dataframe tbody tr th {\n",
       "        vertical-align: top;\n",
       "    }\n",
       "\n",
       "    .dataframe thead th {\n",
       "        text-align: right;\n",
       "    }\n",
       "</style>\n",
       "<table border=\"1\" class=\"dataframe\">\n",
       "  <thead>\n",
       "    <tr style=\"text-align: right;\">\n",
       "      <th></th>\n",
       "      <th>Model Name</th>\n",
       "      <th>Training Score:</th>\n",
       "      <th>Accuracy Score (without tuning)</th>\n",
       "    </tr>\n",
       "  </thead>\n",
       "  <tbody>\n",
       "    <tr>\n",
       "      <th>0</th>\n",
       "      <td>LC=LogisticRegression</td>\n",
       "      <td>76.42</td>\n",
       "      <td>76.38</td>\n",
       "    </tr>\n",
       "    <tr>\n",
       "      <th>1</th>\n",
       "      <td>DTC=DecisionTreeClassifier</td>\n",
       "      <td>99.85</td>\n",
       "      <td>76.28</td>\n",
       "    </tr>\n",
       "    <tr>\n",
       "      <th>2</th>\n",
       "      <td>KNNC=KNeighborsClassifier</td>\n",
       "      <td>85.32</td>\n",
       "      <td>77.44</td>\n",
       "    </tr>\n",
       "    <tr>\n",
       "      <th>3</th>\n",
       "      <td>RFC=RandomForestClassifier</td>\n",
       "      <td>99.85</td>\n",
       "      <td>83.20</td>\n",
       "    </tr>\n",
       "    <tr>\n",
       "      <th>4</th>\n",
       "      <td>SVc=SVC()</td>\n",
       "      <td>85.06</td>\n",
       "      <td>82.53</td>\n",
       "    </tr>\n",
       "    <tr>\n",
       "      <th>5</th>\n",
       "      <td>GRAC=GradientBoostingClassifier</td>\n",
       "      <td>83.38</td>\n",
       "      <td>79.96</td>\n",
       "    </tr>\n",
       "    <tr>\n",
       "      <th>6</th>\n",
       "      <td>ADAC=AdaBoostClassifier</td>\n",
       "      <td>79.79</td>\n",
       "      <td>79.77</td>\n",
       "    </tr>\n",
       "    <tr>\n",
       "      <th>7</th>\n",
       "      <td>GNBC=GaussianNB</td>\n",
       "      <td>78.03</td>\n",
       "      <td>78.85</td>\n",
       "    </tr>\n",
       "    <tr>\n",
       "      <th>8</th>\n",
       "      <td>SGDC=SGDClassifier()</td>\n",
       "      <td>75.42</td>\n",
       "      <td>75.02</td>\n",
       "    </tr>\n",
       "    <tr>\n",
       "      <th>9</th>\n",
       "      <td>XGBC=XGBClassifier()</td>\n",
       "      <td>98.31</td>\n",
       "      <td>83.20</td>\n",
       "    </tr>\n",
       "  </tbody>\n",
       "</table>\n",
       "</div>"
      ],
      "text/plain": [
       "                        Model Name  Training Score:  \\\n",
       "0            LC=LogisticRegression            76.42   \n",
       "1       DTC=DecisionTreeClassifier            99.85   \n",
       "2        KNNC=KNeighborsClassifier            85.32   \n",
       "3       RFC=RandomForestClassifier            99.85   \n",
       "4                        SVc=SVC()            85.06   \n",
       "5  GRAC=GradientBoostingClassifier            83.38   \n",
       "6          ADAC=AdaBoostClassifier            79.79   \n",
       "7                  GNBC=GaussianNB            78.03   \n",
       "8             SGDC=SGDClassifier()            75.42   \n",
       "9             XGBC=XGBClassifier()            98.31   \n",
       "\n",
       "   Accuracy Score (without tuning)  \n",
       "0                            76.38  \n",
       "1                            76.28  \n",
       "2                            77.44  \n",
       "3                            83.20  \n",
       "4                            82.53  \n",
       "5                            79.96  \n",
       "6                            79.77  \n",
       "7                            78.85  \n",
       "8                            75.02  \n",
       "9                            83.20  "
      ]
     },
     "execution_count": 102,
     "metadata": {},
     "output_type": "execute_result"
    }
   ],
   "source": [
    "model=[LogisticRegression(),DecisionTreeClassifier(),KNeighborsClassifier(),RandomForestClassifier(), SVC(),\n",
    "       GradientBoostingClassifier(),AdaBoostClassifier(),GaussianNB(),SGDClassifier(),XGBClassifier()]\n",
    "\n",
    "models=['LC=LogisticRegression','DTC=DecisionTreeClassifier','KNNC=KNeighborsClassifier','RFC=RandomForestClassifier',\n",
    "        'SVc=SVC()','GRAC=GradientBoostingClassifier','ADAC=AdaBoostClassifier','GNBC=GaussianNB', 'SGDC=SGDClassifier()',\n",
    "        'XGBC=XGBClassifier()']\n",
    "\n",
    "acc_result=[]\n",
    "train_result=[]\n",
    "\n",
    "x_train,x_test,y_train,y_test=train_test_split(XC,yc,test_size=0.20,random_state=29)\n",
    "\n",
    "for i in range(len(model)):\n",
    "    clf=model[i]\n",
    "    clf.fit(x_train,y_train)\n",
    "    \n",
    "    x_pred=clf.predict(x_train)\n",
    "    y_pred=clf.predict(x_test)\n",
    "    \n",
    "    train_result.append(round (accuracy_score(y_train,x_pred)*100,2))\n",
    "    acc_result.append(round (accuracy_score(y_pred,y_test)*100,2))\n",
    "\n",
    "Result_df=pd.DataFrame({'Model Name':models, 'Training Score:':train_result ,'Accuracy Score (without tuning)':acc_result})\n",
    "Result_df"
   ]
  },
  {
   "cell_type": "markdown",
   "id": "5e76b5db",
   "metadata": {},
   "source": [
    "# 1. Logistic Regression:"
   ]
  },
  {
   "cell_type": "code",
   "execution_count": 103,
   "id": "601332e2",
   "metadata": {},
   "outputs": [
    {
     "name": "stdout",
     "output_type": "stream",
     "text": [
      "Index of max vaule of train's accuracy_score at random_state: 306\n",
      "Index of max vaule of test's accuracy_score at random_state: 400\n"
     ]
    }
   ],
   "source": [
    "acc_train=[]\n",
    "acc_test=[]\n",
    "\n",
    "for i in range (0,1000):\n",
    "    x_train, x_test, y_train, y_test = train_test_split(XC, yc, test_size=0.20, random_state=i)\n",
    "    \n",
    "    lc = LogisticRegression()\n",
    "    lc.fit(x_train,y_train)\n",
    "    \n",
    "    x_lc_predict=lc.predict(x_train)\n",
    "    y_lc_predict=lc.predict(x_test)\n",
    "    \n",
    "    acc_train.append(accuracy_score(y_train,x_lc_predict))\n",
    "    acc_test.append(accuracy_score(y_test,y_lc_predict))\n",
    "    \n",
    "\n",
    "acc_train_index= acc_train.index(max(acc_train))    \n",
    "print(\"Index of max vaule of train's accuracy_score at random_state:\",acc_train_index)\n",
    "\n",
    "acc_test_index= acc_test.index(max(acc_test))\n",
    "print(\"Index of max vaule of test's accuracy_score at random_state:\",acc_test_index)"
   ]
  },
  {
   "cell_type": "markdown",
   "id": "f2646cc8",
   "metadata": {},
   "source": [
    "Always choose best training score for random_state, because\n",
    "1. if training score >= testing score ==> chance of best fit or undetfit\n",
    "2. if training score << testing score ==> overfit\n",
    "3. if training score >> testing score ==> underfit"
   ]
  },
  {
   "cell_type": "code",
   "execution_count": 104,
   "id": "84c72537",
   "metadata": {},
   "outputs": [
    {
     "name": "stdout",
     "output_type": "stream",
     "text": [
      "The training accurancy @ 306 random_state is: 0.7700698615026351\n",
      "The testing accurancy @ 306 ranom_state is: 0.7418165053019825\n",
      "Cross Validation:  0.7431320681089923\n",
      "\n",
      "  \n",
      " Test Classification Report \n",
      "               precision    recall  f1-score   support\n",
      "\n",
      "         0.0       0.79      0.67      0.72      1093\n",
      "         1.0       0.71      0.81      0.76      1076\n",
      "\n",
      "    accuracy                           0.74      2169\n",
      "   macro avg       0.75      0.74      0.74      2169\n",
      "weighted avg       0.75      0.74      0.74      2169\n",
      "\n",
      "\n",
      " Conconfusion_matrix:\n",
      " [[733 360]\n",
      " [200 876]]\n"
     ]
    }
   ],
   "source": [
    "kford_cv=KFold(n_splits=10,shuffle=False)\n",
    "x_train, x_test, y_train, y_test = train_test_split(XC, yc, test_size=0.21, random_state=306)\n",
    "    \n",
    "lc.fit(x_train,y_train)\n",
    "x_lc_predict=lc.predict(x_train)\n",
    "y_lc_predict=lc.predict(x_test)\n",
    "lc_cv = cross_val_score(lc,XC,yc,cv=kford_cv, scoring='accuracy')\n",
    "    \n",
    "print (\"The training accurancy @ 306 random_state is:\",accuracy_score(y_train,x_lc_predict))\n",
    "print (\"The testing accurancy @ 306 ranom_state is:\",accuracy_score(y_test,y_lc_predict))\n",
    "print (\"Cross Validation: \", lc_cv.mean())\n",
    "print ('\\n  \\n Test Classification Report \\n', classification_report(y_test,y_lc_predict,digits=2))\n",
    "print (\"\\n Conconfusion_matrix:\\n\",confusion_matrix(y_test,y_lc_predict))"
   ]
  },
  {
   "cell_type": "markdown",
   "id": "23b76f06",
   "metadata": {},
   "source": [
    "# 2. Decision Tree:"
   ]
  },
  {
   "cell_type": "code",
   "execution_count": 105,
   "id": "96b1b38e",
   "metadata": {},
   "outputs": [
    {
     "data": {
      "text/plain": [
       "GridSearchCV(cv=KFold(n_splits=10, random_state=None, shuffle=False),\n",
       "             estimator=DecisionTreeClassifier(), n_jobs=-1,\n",
       "             param_grid={'criterion': ['gini', 'entropy'],\n",
       "                         'max_depth': [10, 20, 30, 40, 50],\n",
       "                         'max_features': ['auto', 'sqrt', 'log2'],\n",
       "                         'max_leaf_nodes': range(5, 10),\n",
       "                         'min_samples_leaf': range(2, 6),\n",
       "                         'min_samples_split': range(3, 8),\n",
       "                         'splitter': ['best', 'random']})"
      ]
     },
     "execution_count": 105,
     "metadata": {},
     "output_type": "execute_result"
    }
   ],
   "source": [
    "kford_val=KFold(n_splits=10)\n",
    "\n",
    "grid_param = {\n",
    "            'criterion':['gini','entropy'],\n",
    "            'splitter':['best','random'],\n",
    "            'max_features':['auto','sqrt','log2'],\n",
    "            'max_depth': [10,20,30,40,50],\n",
    "            'min_samples_leaf': range (2,6), \n",
    "            'min_samples_split': range (3,8),\n",
    "            'max_leaf_nodes': range (5,10)} \n",
    "    \n",
    "grid_search = GridSearchCV (DTC, param_grid = grid_param, cv=kford_val, n_jobs = -1)\n",
    "# n_jobs : Use all the cores in your system. For performance improvement.\n",
    "grid_search.fit(x_train,y_train)"
   ]
  },
  {
   "cell_type": "code",
   "execution_count": 108,
   "id": "00950b49",
   "metadata": {},
   "outputs": [
    {
     "name": "stdout",
     "output_type": "stream",
     "text": [
      "The training accurancy is: 0.7399191077337909\n",
      "The testing accurancy is: 0.7040110650069157\n",
      "\n",
      "  \n",
      " Test Classification Report \n",
      "               precision    recall  f1-score   support\n",
      "\n",
      "         0.0       0.70      0.72      0.71      1093\n",
      "         1.0       0.71      0.69      0.70      1076\n",
      "\n",
      "    accuracy                           0.70      2169\n",
      "   macro avg       0.70      0.70      0.70      2169\n",
      "weighted avg       0.70      0.70      0.70      2169\n",
      "\n",
      "\n",
      " Conconfusion_matrix:\n",
      " [[788 305]\n",
      " [337 739]]\n"
     ]
    }
   ],
   "source": [
    "#Initiate DecisitionTreeClassifier with new parametes and train\n",
    "dtc=grid_search.best_estimator_\n",
    "\n",
    "# Train the model\n",
    "dtc.fit(x_train,y_train)\n",
    "\n",
    "x_dtc_predict=dtc.predict(x_train)\n",
    "y_dtc_predict=dtc.predict(x_test)\n",
    "\n",
    "print (\"The training accurancy is:\",accuracy_score(y_train,x_dtc_predict))\n",
    "print (\"The testing accurancy is:\",accuracy_score(y_test,y_dtc_predict))\n",
    "print ('\\n  \\n Test Classification Report \\n', classification_report(y_test,y_dtc_predict,digits=2))\n",
    "print (\"\\n Conconfusion_matrix:\\n\",confusion_matrix(y_test,y_dtc_predict))"
   ]
  },
  {
   "cell_type": "markdown",
   "id": "90f63316",
   "metadata": {},
   "source": [
    "# 3. K-Nearest Neighbour:"
   ]
  },
  {
   "cell_type": "code",
   "execution_count": 109,
   "id": "742fdd25",
   "metadata": {},
   "outputs": [
    {
     "data": {
      "text/plain": [
       "GridSearchCV(cv=KFold(n_splits=10, random_state=None, shuffle=False),\n",
       "             estimator=KNeighborsClassifier(),\n",
       "             param_grid={'algorithm': ['auto', 'ball_tree', 'kd_tree', 'brute'],\n",
       "                         'leaf_size': [3, 5, 6, 7, 8, 10],\n",
       "                         'n_neighbors': [1, 2, 3, 4, 5, 6, 7, 8, 9],\n",
       "                         'weights': ['uniform', 'distance']})"
      ]
     },
     "execution_count": 109,
     "metadata": {},
     "output_type": "execute_result"
    }
   ],
   "source": [
    "neighbors = [i for i in range(1,10)]\n",
    "parameter_grid = { 'algorithm' : ['auto','ball_tree','kd_tree', 'brute'],\n",
    "                   'weights':['uniform', 'distance'],\n",
    "                   'leaf_size' : [3,5,6,7,8,10],\n",
    "                   'n_neighbors': neighbors}\n",
    "gridsearch = GridSearchCV(KNNC, param_grid=parameter_grid, cv=kford_val)\n",
    "gridsearch.fit(x_train, y_train)"
   ]
  },
  {
   "cell_type": "code",
   "execution_count": 110,
   "id": "b0d7d3cf",
   "metadata": {},
   "outputs": [
    {
     "name": "stdout",
     "output_type": "stream",
     "text": [
      "The training accurancy is: 0.9987743596028925\n",
      "The testing accurancy is: 0.8031350852927617\n",
      "\n",
      "  \n",
      " Test Classification Report \n",
      "               precision    recall  f1-score   support\n",
      "\n",
      "         0.0       0.86      0.72      0.79      1093\n",
      "         1.0       0.76      0.88      0.82      1076\n",
      "\n",
      "    accuracy                           0.80      2169\n",
      "   macro avg       0.81      0.80      0.80      2169\n",
      "weighted avg       0.81      0.80      0.80      2169\n",
      "\n",
      "\n",
      " Conconfusion_matrix:\n",
      " [[790 303]\n",
      " [124 952]]\n"
     ]
    }
   ],
   "source": [
    "#Initiate KNN with new parametes and train\n",
    "knnc=gridsearch.best_estimator_\n",
    "\n",
    "# Train the model\n",
    "knnc.fit(x_train,y_train)\n",
    "\n",
    "x_knnc_predict=knnc.predict(x_train)\n",
    "y_knnc_predict=knnc.predict(x_test)\n",
    "\n",
    "print (\"The training accurancy is:\",accuracy_score(y_train,x_knnc_predict))\n",
    "print (\"The testing accurancy is:\",accuracy_score(y_test,y_knnc_predict))\n",
    "print ('\\n  \\n Test Classification Report \\n', classification_report(y_test,y_knnc_predict,digits=2))\n",
    "print (\"\\n Conconfusion_matrix:\\n\",confusion_matrix(y_test,y_knnc_predict))"
   ]
  },
  {
   "cell_type": "markdown",
   "id": "ee22f645",
   "metadata": {},
   "source": [
    "# 4. Random forest:"
   ]
  },
  {
   "cell_type": "code",
   "execution_count": 111,
   "id": "63fdd62b",
   "metadata": {},
   "outputs": [
    {
     "data": {
      "text/plain": [
       "GridSearchCV(cv=KFold(n_splits=10, random_state=None, shuffle=False),\n",
       "             estimator=RandomForestClassifier(), n_jobs=-1,\n",
       "             param_grid={'criterion': ['gini', 'entropy'],\n",
       "                         'max_depth': [10, 15, 45, 80],\n",
       "                         'max_leaf_nodes': range(5, 10),\n",
       "                         'min_samples_leaf': [5, 6],\n",
       "                         'min_samples_split': [10, 11],\n",
       "                         'n_estimators': [10, 50, 100, 200]})"
      ]
     },
     "execution_count": 111,
     "metadata": {},
     "output_type": "execute_result"
    }
   ],
   "source": [
    "params = {  'n_estimators' : [10,50,100,200,],\n",
    "            'criterion':['gini','entropy'],\n",
    "            'max_depth': [10,15,45,80,], \n",
    "            'min_samples_leaf': [5,6],\n",
    "            'min_samples_split': [10,11], \n",
    "            'max_leaf_nodes': range (5,10)}\n",
    "\n",
    "gridsearch_rfc = GridSearchCV(RFC, param_grid=params,cv=kford_val, n_jobs = -1)\n",
    "gridsearch_rfc.fit(x_train,y_train)"
   ]
  },
  {
   "cell_type": "code",
   "execution_count": 112,
   "id": "283804ad",
   "metadata": {},
   "outputs": [
    {
     "name": "stdout",
     "output_type": "stream",
     "text": [
      "The training accurancy is: 0.7770560117661478\n",
      "The testing accurancy is: 0.7413554633471646\n",
      "\n",
      "  \n",
      " Test Classification Report \n",
      "               precision    recall  f1-score   support\n",
      "\n",
      "         0.0       0.75      0.72      0.74      1093\n",
      "         1.0       0.73      0.76      0.75      1076\n",
      "\n",
      "    accuracy                           0.74      2169\n",
      "   macro avg       0.74      0.74      0.74      2169\n",
      "weighted avg       0.74      0.74      0.74      2169\n",
      "\n",
      "\n",
      " Conconfusion_matrix:\n",
      " [[788 305]\n",
      " [256 820]]\n"
     ]
    }
   ],
   "source": [
    "#Initiate RandomForestClassifier with new parametes and train\n",
    "rfc=gridsearch_rfc.best_estimator_\n",
    "\n",
    "# Train the model\n",
    "rfc.fit(x_train,y_train)\n",
    "\n",
    "x_rfc_predict=rfc.predict(x_train)\n",
    "y_rfc_predict=rfc.predict(x_test)\n",
    "\n",
    "print (\"The training accurancy is:\",accuracy_score(y_train,x_rfc_predict))\n",
    "print (\"The testing accurancy is:\",accuracy_score(y_test,y_rfc_predict))\n",
    "print ('\\n  \\n Test Classification Report \\n', classification_report(y_test,y_rfc_predict,digits=2))\n",
    "print (\"\\n Conconfusion_matrix:\\n\",confusion_matrix(y_test,y_rfc_predict))"
   ]
  },
  {
   "cell_type": "markdown",
   "id": "a1c0495a",
   "metadata": {},
   "source": [
    "# 5. SVC:"
   ]
  },
  {
   "cell_type": "code",
   "execution_count": 113,
   "id": "e93598cd",
   "metadata": {},
   "outputs": [
    {
     "name": "stdout",
     "output_type": "stream",
     "text": [
      "The training accurancy is: 0.863341095722515\n",
      "The testing accurancy is: 0.8040571692023974\n",
      "\n",
      "  \n",
      " Test Classification Report \n",
      "               precision    recall  f1-score   support\n",
      "\n",
      "         0.0       0.81      0.80      0.81      1093\n",
      "         1.0       0.80      0.80      0.80      1076\n",
      "\n",
      "    accuracy                           0.80      2169\n",
      "   macro avg       0.80      0.80      0.80      2169\n",
      "weighted avg       0.80      0.80      0.80      2169\n",
      "\n",
      "\n",
      " Conconfusion_matrix:\n",
      " [[879 214]\n",
      " [211 865]]\n"
     ]
    }
   ],
   "source": [
    "#Initiate RandomForestClassifier with new parametes and train\n",
    "svc=SVC(gamma='auto')\n",
    "\n",
    "# Train the model\n",
    "svc.fit(x_train,y_train)\n",
    "\n",
    "x_svc_predict=svc.predict(x_train)\n",
    "y_svc_predict=svc.predict(x_test)\n",
    "\n",
    "print (\"The training accurancy is:\",accuracy_score(y_train,x_svc_predict))\n",
    "print (\"The testing accurancy is:\",accuracy_score(y_test,y_svc_predict))\n",
    "print ('\\n  \\n Test Classification Report \\n', classification_report(y_test,y_svc_predict,digits=2))\n",
    "print (\"\\n Conconfusion_matrix:\\n\",confusion_matrix(y_test,y_svc_predict))"
   ]
  },
  {
   "cell_type": "markdown",
   "id": "986ded41",
   "metadata": {},
   "source": [
    "# 6. Gradient Boosting Classifier:"
   ]
  },
  {
   "cell_type": "code",
   "execution_count": 114,
   "id": "f3653a79",
   "metadata": {},
   "outputs": [
    {
     "name": "stdout",
     "output_type": "stream",
     "text": [
      "The training accurancy is: 0.7758303713690403\n",
      "The testing accurancy is: 0.7362840018441679\n",
      "\n",
      "  \n",
      " Test Classification Report \n",
      "               precision    recall  f1-score   support\n",
      "\n",
      "         0.0       0.79      0.65      0.71      1093\n",
      "         1.0       0.70      0.82      0.76      1076\n",
      "\n",
      "    accuracy                           0.74      2169\n",
      "   macro avg       0.74      0.74      0.73      2169\n",
      "weighted avg       0.74      0.74      0.73      2169\n",
      "\n",
      "\n",
      " Conconfusion_matrix:\n",
      " [[710 383]\n",
      " [189 887]]\n"
     ]
    }
   ],
   "source": [
    "#Initiate RandomForestClassifier with new parametes and train\n",
    "grac=GradientBoostingClassifier(learning_rate= 0.01)\n",
    "\n",
    "# Train the model\n",
    "grac.fit(x_train,y_train)\n",
    "\n",
    "x_grac_predict=grac.predict(x_train)\n",
    "y_grac_predict=grac.predict(x_test)\n",
    "\n",
    "print (\"The training accurancy is:\",accuracy_score(y_train,x_grac_predict))\n",
    "print (\"The testing accurancy is:\",accuracy_score(y_test,y_grac_predict))\n",
    "print ('\\n  \\n Test Classification Report \\n', classification_report(y_test,y_grac_predict,digits=2))\n",
    "print (\"\\n Conconfusion_matrix:\\n\",confusion_matrix(y_test,y_grac_predict))"
   ]
  },
  {
   "cell_type": "markdown",
   "id": "e5b35b1d",
   "metadata": {},
   "source": [
    "# 7. AdaBoost Classifier:"
   ]
  },
  {
   "cell_type": "code",
   "execution_count": 115,
   "id": "295bdfb9",
   "metadata": {},
   "outputs": [
    {
     "name": "stdout",
     "output_type": "stream",
     "text": [
      "The training accurancy is: 0.9985292315234711\n",
      "The testing accurancy is: 0.8105117565698479\n",
      "\n",
      "  \n",
      " Test Classification Report \n",
      "               precision    recall  f1-score   support\n",
      "\n",
      "         0.0       0.83      0.79      0.81      1093\n",
      "         1.0       0.80      0.83      0.81      1076\n",
      "\n",
      "    accuracy                           0.81      2169\n",
      "   macro avg       0.81      0.81      0.81      2169\n",
      "weighted avg       0.81      0.81      0.81      2169\n",
      "\n",
      "\n",
      " Conconfusion_matrix:\n",
      " [[863 230]\n",
      " [181 895]]\n"
     ]
    }
   ],
   "source": [
    "#Initiate RandomForestClassifier with new parametes and train\n",
    "adac=AdaBoostClassifier(learning_rate= 0.01, base_estimator=RandomForestClassifier())\n",
    "\n",
    "# Train the model\n",
    "adac.fit(x_train,y_train)\n",
    "\n",
    "x_adac_predict=adac.predict(x_train)\n",
    "y_adac_predict=adac.predict(x_test)\n",
    "\n",
    "print (\"The training accurancy is:\",accuracy_score(y_train,x_adac_predict))\n",
    "print (\"The testing accurancy is:\",accuracy_score(y_test,y_adac_predict))\n",
    "print ('\\n  \\n Test Classification Report \\n', classification_report(y_test,y_adac_predict,digits=2))\n",
    "print (\"\\n Conconfusion_matrix:\\n\",confusion_matrix(y_test,y_adac_predict))"
   ]
  },
  {
   "cell_type": "markdown",
   "id": "f0e9e8a1",
   "metadata": {},
   "source": [
    "# 8. GaussianNB:"
   ]
  },
  {
   "cell_type": "code",
   "execution_count": 116,
   "id": "92aea2a9",
   "metadata": {},
   "outputs": [
    {
     "name": "stdout",
     "output_type": "stream",
     "text": [
      "The training accurancy is: 0.7873513911018507\n",
      "The testing accurancy is: 0.7597971415398801\n",
      "\n",
      "  \n",
      " Test Classification Report \n",
      "               precision    recall  f1-score   support\n",
      "\n",
      "         0.0       0.75      0.78      0.77      1093\n",
      "         1.0       0.77      0.74      0.75      1076\n",
      "\n",
      "    accuracy                           0.76      2169\n",
      "   macro avg       0.76      0.76      0.76      2169\n",
      "weighted avg       0.76      0.76      0.76      2169\n",
      "\n",
      "\n",
      " Conconfusion_matrix:\n",
      " [[851 242]\n",
      " [279 797]]\n"
     ]
    }
   ],
   "source": [
    "#Initiate RandomForestClassifier with new parametes and train\n",
    "gnbc=GaussianNB()\n",
    "\n",
    "# Train the model\n",
    "gnbc.fit(x_train,y_train)\n",
    "\n",
    "x_gnbc_predict=gnbc.predict(x_train)\n",
    "y_gnbc_predict=gnbc.predict(x_test)\n",
    "\n",
    "print (\"The training accurancy is:\",accuracy_score(y_train,x_gnbc_predict))\n",
    "print (\"The testing accurancy is:\",accuracy_score(y_test,y_gnbc_predict))\n",
    "print ('\\n  \\n Test Classification Report \\n', classification_report(y_test,y_gnbc_predict,digits=2))\n",
    "print (\"\\n Conconfusion_matrix:\\n\",confusion_matrix(y_test,y_gnbc_predict))"
   ]
  },
  {
   "cell_type": "markdown",
   "id": "3d06d7a2",
   "metadata": {},
   "source": [
    "# 9. SGDClassifier:"
   ]
  },
  {
   "cell_type": "code",
   "execution_count": 117,
   "id": "0b69ddf0",
   "metadata": {},
   "outputs": [
    {
     "name": "stdout",
     "output_type": "stream",
     "text": [
      "The training accurancy is: 0.7668831964701557\n",
      "The testing accurancy is: 0.7349008759797142\n",
      "\n",
      "  \n",
      " Test Classification Report \n",
      "               precision    recall  f1-score   support\n",
      "\n",
      "         0.0       0.79      0.65      0.71      1093\n",
      "         1.0       0.70      0.82      0.75      1076\n",
      "\n",
      "    accuracy                           0.73      2169\n",
      "   macro avg       0.74      0.74      0.73      2169\n",
      "weighted avg       0.74      0.73      0.73      2169\n",
      "\n",
      "\n",
      " Conconfusion_matrix:\n",
      " [[711 382]\n",
      " [193 883]]\n"
     ]
    }
   ],
   "source": [
    "#Initiate RandomForestClassifier with new parametes and train\n",
    "sgdc=SGDClassifier(alpha=0.001)\n",
    "\n",
    "# Train the model\n",
    "sgdc.fit(x_train,y_train)\n",
    "\n",
    "x_sgdc_predict=sgdc.predict(x_train)\n",
    "y_sgdc_predict=sgdc.predict(x_test)\n",
    "\n",
    "print (\"The training accurancy is:\",accuracy_score(y_train,x_sgdc_predict))\n",
    "print (\"The testing accurancy is:\",accuracy_score(y_test,y_sgdc_predict))\n",
    "print ('\\n  \\n Test Classification Report \\n', classification_report(y_test,y_sgdc_predict,digits=2))\n",
    "print (\"\\n Conconfusion_matrix:\\n\",confusion_matrix(y_test,y_sgdc_predict))"
   ]
  },
  {
   "cell_type": "markdown",
   "id": "400e48d5",
   "metadata": {},
   "source": [
    "# 10. XGBClassifier:"
   ]
  },
  {
   "cell_type": "code",
   "execution_count": 118,
   "id": "4ecd9dac",
   "metadata": {},
   "outputs": [
    {
     "name": "stdout",
     "output_type": "stream",
     "text": [
      "The training accurancy is: 0.9094251746537566\n",
      "The testing accurancy is: 0.76855693868142\n",
      "\n",
      "  \n",
      " Test Classification Report \n",
      "               precision    recall  f1-score   support\n",
      "\n",
      "         0.0       0.79      0.74      0.76      1093\n",
      "         1.0       0.75      0.79      0.77      1076\n",
      "\n",
      "    accuracy                           0.77      2169\n",
      "   macro avg       0.77      0.77      0.77      2169\n",
      "weighted avg       0.77      0.77      0.77      2169\n",
      "\n",
      "\n",
      " Conconfusion_matrix:\n",
      " [[813 280]\n",
      " [222 854]]\n"
     ]
    }
   ],
   "source": [
    "#Initiate RandomForestClassifier with new parametes and train\n",
    "xgbc=XGBClassifier(n_estimators = 10, learning_rate = 1.5)\n",
    "\n",
    "# Train the model\n",
    "xgbc.fit(x_train,y_train)\n",
    "\n",
    "x_xgbc_predict=xgbc.predict(x_train)\n",
    "y_xgbc_predict=xgbc.predict(x_test)\n",
    "\n",
    "print (\"The training accurancy is:\",accuracy_score(y_train,x_xgbc_predict))\n",
    "print (\"The testing accurancy is:\",accuracy_score(y_test,y_xgbc_predict))\n",
    "print ('\\n  \\n Test Classification Report \\n', classification_report(y_test,y_xgbc_predict,digits=2))\n",
    "print (\"\\n Conconfusion_matrix:\\n\",confusion_matrix(y_test,y_xgbc_predict))"
   ]
  },
  {
   "cell_type": "code",
   "execution_count": null,
   "id": "c80a7673",
   "metadata": {},
   "outputs": [],
   "source": []
  },
  {
   "cell_type": "code",
   "execution_count": 119,
   "id": "8b3db9ef",
   "metadata": {},
   "outputs": [
    {
     "data": {
      "text/html": [
       "<div>\n",
       "<style scoped>\n",
       "    .dataframe tbody tr th:only-of-type {\n",
       "        vertical-align: middle;\n",
       "    }\n",
       "\n",
       "    .dataframe tbody tr th {\n",
       "        vertical-align: top;\n",
       "    }\n",
       "\n",
       "    .dataframe thead th {\n",
       "        text-align: right;\n",
       "    }\n",
       "</style>\n",
       "<table border=\"1\" class=\"dataframe\">\n",
       "  <thead>\n",
       "    <tr style=\"text-align: right;\">\n",
       "      <th></th>\n",
       "      <th>Classifier</th>\n",
       "      <th>Accuracy Score (with tuning)</th>\n",
       "    </tr>\n",
       "  </thead>\n",
       "  <tbody>\n",
       "    <tr>\n",
       "      <th>0</th>\n",
       "      <td>lc= LogisticRegression()</td>\n",
       "      <td>74.18</td>\n",
       "    </tr>\n",
       "    <tr>\n",
       "      <th>1</th>\n",
       "      <td>dtc = DecisionTreeClassifier()</td>\n",
       "      <td>70.40</td>\n",
       "    </tr>\n",
       "    <tr>\n",
       "      <th>2</th>\n",
       "      <td>knnc = KNeighborsClassifier()</td>\n",
       "      <td>80.31</td>\n",
       "    </tr>\n",
       "    <tr>\n",
       "      <th>3</th>\n",
       "      <td>rfc = RandomForestClassifier()</td>\n",
       "      <td>74.14</td>\n",
       "    </tr>\n",
       "    <tr>\n",
       "      <th>4</th>\n",
       "      <td>svc=SVC()</td>\n",
       "      <td>80.41</td>\n",
       "    </tr>\n",
       "    <tr>\n",
       "      <th>5</th>\n",
       "      <td>grac = GradientBoostingClassifier()</td>\n",
       "      <td>73.63</td>\n",
       "    </tr>\n",
       "    <tr>\n",
       "      <th>6</th>\n",
       "      <td>adac=AdaBoostClassifier</td>\n",
       "      <td>81.05</td>\n",
       "    </tr>\n",
       "    <tr>\n",
       "      <th>7</th>\n",
       "      <td>gnbc=GaussianNB</td>\n",
       "      <td>75.98</td>\n",
       "    </tr>\n",
       "    <tr>\n",
       "      <th>8</th>\n",
       "      <td>sgdc=SGDClassifier()</td>\n",
       "      <td>73.49</td>\n",
       "    </tr>\n",
       "    <tr>\n",
       "      <th>9</th>\n",
       "      <td>xgbc=XGBClassifier()</td>\n",
       "      <td>76.86</td>\n",
       "    </tr>\n",
       "  </tbody>\n",
       "</table>\n",
       "</div>"
      ],
      "text/plain": [
       "                            Classifier  Accuracy Score (with tuning)\n",
       "0             lc= LogisticRegression()                         74.18\n",
       "1       dtc = DecisionTreeClassifier()                         70.40\n",
       "2        knnc = KNeighborsClassifier()                         80.31\n",
       "3       rfc = RandomForestClassifier()                         74.14\n",
       "4                            svc=SVC()                         80.41\n",
       "5  grac = GradientBoostingClassifier()                         73.63\n",
       "6              adac=AdaBoostClassifier                         81.05\n",
       "7                      gnbc=GaussianNB                         75.98\n",
       "8                 sgdc=SGDClassifier()                         73.49\n",
       "9                 xgbc=XGBClassifier()                         76.86"
      ]
     },
     "execution_count": 119,
     "metadata": {},
     "output_type": "execute_result"
    }
   ],
   "source": [
    "Acc_Score_tun =[round (accuracy_score(y_test,y_lc_predict)*100,2),\n",
    "                round (accuracy_score(y_test,y_dtc_predict)*100,2),\n",
    "                round (accuracy_score(y_test,y_knnc_predict)*100,2),\n",
    "                round (accuracy_score(y_test,y_rfc_predict)*100,2),\n",
    "                round (accuracy_score(y_test,y_svc_predict)*100,2),\n",
    "                round (accuracy_score(y_test,y_grac_predict)*100,2),\n",
    "                round (accuracy_score(y_test,y_adac_predict)*100,2),\n",
    "                round (accuracy_score(y_test,y_gnbc_predict)*100,2),\n",
    "                round (accuracy_score(y_test,y_sgdc_predict)*100,2),\n",
    "                round (accuracy_score(y_test,y_xgbc_predict)*100,2)]\n",
    "Customer_Churn = pd.DataFrame({'Classifier':['lc= LogisticRegression()', 'dtc = DecisionTreeClassifier()',\n",
    "                                 'knnc = KNeighborsClassifier()','rfc = RandomForestClassifier()','svc=SVC()',\n",
    "                                 'grac = GradientBoostingClassifier()', 'adac=AdaBoostClassifier','gnbc=GaussianNB', \n",
    "                                  'sgdc=SGDClassifier()', 'xgbc=XGBClassifier()'], \n",
    "                                 \n",
    "                                'Accuracy Score (with tuning)':Acc_Score_tun})\n",
    "Customer_Churn"
   ]
  },
  {
   "cell_type": "code",
   "execution_count": 120,
   "id": "46b5dca1",
   "metadata": {},
   "outputs": [
    {
     "data": {
      "text/html": [
       "<div>\n",
       "<style scoped>\n",
       "    .dataframe tbody tr th:only-of-type {\n",
       "        vertical-align: middle;\n",
       "    }\n",
       "\n",
       "    .dataframe tbody tr th {\n",
       "        vertical-align: top;\n",
       "    }\n",
       "\n",
       "    .dataframe thead th {\n",
       "        text-align: right;\n",
       "    }\n",
       "</style>\n",
       "<table border=\"1\" class=\"dataframe\">\n",
       "  <thead>\n",
       "    <tr style=\"text-align: right;\">\n",
       "      <th></th>\n",
       "      <th>Model Name</th>\n",
       "      <th>Training Score:</th>\n",
       "      <th>Accuracy Score (without tuning)</th>\n",
       "      <th>Classifier</th>\n",
       "      <th>Accuracy Score (with tuning)</th>\n",
       "    </tr>\n",
       "  </thead>\n",
       "  <tbody>\n",
       "    <tr>\n",
       "      <th>0</th>\n",
       "      <td>LC=LogisticRegression</td>\n",
       "      <td>76.42</td>\n",
       "      <td>76.38</td>\n",
       "      <td>lc= LogisticRegression()</td>\n",
       "      <td>74.18</td>\n",
       "    </tr>\n",
       "    <tr>\n",
       "      <th>1</th>\n",
       "      <td>DTC=DecisionTreeClassifier</td>\n",
       "      <td>99.85</td>\n",
       "      <td>76.28</td>\n",
       "      <td>dtc = DecisionTreeClassifier()</td>\n",
       "      <td>70.40</td>\n",
       "    </tr>\n",
       "    <tr>\n",
       "      <th>2</th>\n",
       "      <td>KNNC=KNeighborsClassifier</td>\n",
       "      <td>85.32</td>\n",
       "      <td>77.44</td>\n",
       "      <td>knnc = KNeighborsClassifier()</td>\n",
       "      <td>80.31</td>\n",
       "    </tr>\n",
       "    <tr>\n",
       "      <th>3</th>\n",
       "      <td>RFC=RandomForestClassifier</td>\n",
       "      <td>99.85</td>\n",
       "      <td>83.20</td>\n",
       "      <td>rfc = RandomForestClassifier()</td>\n",
       "      <td>74.14</td>\n",
       "    </tr>\n",
       "    <tr>\n",
       "      <th>4</th>\n",
       "      <td>SVc=SVC()</td>\n",
       "      <td>85.06</td>\n",
       "      <td>82.53</td>\n",
       "      <td>svc=SVC()</td>\n",
       "      <td>80.41</td>\n",
       "    </tr>\n",
       "    <tr>\n",
       "      <th>5</th>\n",
       "      <td>GRAC=GradientBoostingClassifier</td>\n",
       "      <td>83.38</td>\n",
       "      <td>79.96</td>\n",
       "      <td>grac = GradientBoostingClassifier()</td>\n",
       "      <td>73.63</td>\n",
       "    </tr>\n",
       "    <tr>\n",
       "      <th>6</th>\n",
       "      <td>ADAC=AdaBoostClassifier</td>\n",
       "      <td>79.79</td>\n",
       "      <td>79.77</td>\n",
       "      <td>adac=AdaBoostClassifier</td>\n",
       "      <td>81.05</td>\n",
       "    </tr>\n",
       "    <tr>\n",
       "      <th>7</th>\n",
       "      <td>GNBC=GaussianNB</td>\n",
       "      <td>78.03</td>\n",
       "      <td>78.85</td>\n",
       "      <td>gnbc=GaussianNB</td>\n",
       "      <td>75.98</td>\n",
       "    </tr>\n",
       "    <tr>\n",
       "      <th>8</th>\n",
       "      <td>SGDC=SGDClassifier()</td>\n",
       "      <td>75.42</td>\n",
       "      <td>75.02</td>\n",
       "      <td>sgdc=SGDClassifier()</td>\n",
       "      <td>73.49</td>\n",
       "    </tr>\n",
       "    <tr>\n",
       "      <th>9</th>\n",
       "      <td>XGBC=XGBClassifier()</td>\n",
       "      <td>98.31</td>\n",
       "      <td>83.20</td>\n",
       "      <td>xgbc=XGBClassifier()</td>\n",
       "      <td>76.86</td>\n",
       "    </tr>\n",
       "  </tbody>\n",
       "</table>\n",
       "</div>"
      ],
      "text/plain": [
       "                        Model Name  Training Score:  \\\n",
       "0            LC=LogisticRegression            76.42   \n",
       "1       DTC=DecisionTreeClassifier            99.85   \n",
       "2        KNNC=KNeighborsClassifier            85.32   \n",
       "3       RFC=RandomForestClassifier            99.85   \n",
       "4                        SVc=SVC()            85.06   \n",
       "5  GRAC=GradientBoostingClassifier            83.38   \n",
       "6          ADAC=AdaBoostClassifier            79.79   \n",
       "7                  GNBC=GaussianNB            78.03   \n",
       "8             SGDC=SGDClassifier()            75.42   \n",
       "9             XGBC=XGBClassifier()            98.31   \n",
       "\n",
       "   Accuracy Score (without tuning)                           Classifier  \\\n",
       "0                            76.38             lc= LogisticRegression()   \n",
       "1                            76.28       dtc = DecisionTreeClassifier()   \n",
       "2                            77.44        knnc = KNeighborsClassifier()   \n",
       "3                            83.20       rfc = RandomForestClassifier()   \n",
       "4                            82.53                            svc=SVC()   \n",
       "5                            79.96  grac = GradientBoostingClassifier()   \n",
       "6                            79.77              adac=AdaBoostClassifier   \n",
       "7                            78.85                      gnbc=GaussianNB   \n",
       "8                            75.02                 sgdc=SGDClassifier()   \n",
       "9                            83.20                 xgbc=XGBClassifier()   \n",
       "\n",
       "   Accuracy Score (with tuning)  \n",
       "0                         74.18  \n",
       "1                         70.40  \n",
       "2                         80.31  \n",
       "3                         74.14  \n",
       "4                         80.41  \n",
       "5                         73.63  \n",
       "6                         81.05  \n",
       "7                         75.98  \n",
       "8                         73.49  \n",
       "9                         76.86  "
      ]
     },
     "execution_count": 120,
     "metadata": {},
     "output_type": "execute_result"
    }
   ],
   "source": [
    "CUSTOMER_CHURN_ANALYSIS= pd.concat([Result_df,Customer_Churn],axis=1)\n",
    "CUSTOMER_CHURN_ANALYSIS"
   ]
  },
  {
   "cell_type": "markdown",
   "id": "696ae3e4",
   "metadata": {},
   "source": [
    "# We are gettig high model accuracy: 83.20% with RandomForestClassifier & XGBClassifier models without tuning, which shows model is performing exremely well, so we can save any model among these two model.\n",
    "\n",
    "# Save the model using pickle"
   ]
  },
  {
   "cell_type": "code",
   "execution_count": 121,
   "id": "2eb4aeb5",
   "metadata": {},
   "outputs": [],
   "source": [
    "import pickle\n",
    "pickle.dump(RFC,open('LOAN_APPLICATION_STATUS','wb'))"
   ]
  },
  {
   "cell_type": "code",
   "execution_count": null,
   "id": "28d0567a",
   "metadata": {},
   "outputs": [],
   "source": []
  },
  {
   "cell_type": "code",
   "execution_count": null,
   "id": "ba302350",
   "metadata": {},
   "outputs": [],
   "source": []
  },
  {
   "cell_type": "code",
   "execution_count": null,
   "id": "1ada5d3b",
   "metadata": {},
   "outputs": [],
   "source": []
  }
 ],
 "metadata": {
  "kernelspec": {
   "display_name": "Python 3 (ipykernel)",
   "language": "python",
   "name": "python3"
  },
  "language_info": {
   "codemirror_mode": {
    "name": "ipython",
    "version": 3
   },
   "file_extension": ".py",
   "mimetype": "text/x-python",
   "name": "python",
   "nbconvert_exporter": "python",
   "pygments_lexer": "ipython3",
   "version": "3.9.12"
  }
 },
 "nbformat": 4,
 "nbformat_minor": 5
}

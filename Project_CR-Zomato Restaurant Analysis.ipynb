{
 "cells": [
  {
   "cell_type": "markdown",
   "id": "12a834de",
   "metadata": {},
   "source": [
    "# Zomato Restaurant\n",
    "\n",
    "## Project Description\n",
    "Zomato Data Analysis is one of the most useful analysis for foodies who want to taste the best cuisines of every part of the world which lies in their budget. This analysis is also for those who\n",
    "want to find the value for money restaurants in various parts of the country for the cuisines. Additionally, this analysis caters the needs of people who are striving to get the best cuisine of\n",
    "the country and which locality of that country serves that cuisines with maximum number of restaurants.\n",
    "\n",
    "## Data Storage:\n",
    "This problem statement contains two datasets: 1. Zomato and 2. country_code.\n"
   ]
  },
  {
   "cell_type": "markdown",
   "id": "072e2c22",
   "metadata": {},
   "source": [
    "## Featues:\n",
    "\n",
    "• Restaurant Id: Unique id of every restaurant across various cities of the world\n",
    "• Restaurant Name: Name of the restaurant\n",
    "• Country Code: Country in which restaurant is located\n",
    "• City: City in which restaurant is located\n",
    "• Address: Address of the restaurant\n",
    "• Locality: Location in the city\n",
    "• Locality Verbose: Detailed description of the locality\n",
    "• Longitude: Longitude coordinate of the restaurant&#39;s location\n",
    "• Latitude: Latitude coordinate of the restaurant&#39;s location\n",
    "• Cuisines: Cuisines offered by the restaurant\n",
    "• Average Cost for two: Cost for two people in different currencies ��\n",
    "• Currency: Currency of the country\n",
    "• Has Table booking: yes/no\n",
    "• Has Online delivery: yes/ no\n",
    "• Is delivering: yes/ no\n",
    "• Switch to order menu: yes/no\n",
    "• Price range: range of price of food\n",
    "• Aggregate Rating: Average rating out of 5\n",
    "• Rating color: depending upon the average rating color\n",
    "• Rating text: text on the basis of rating of rating\n",
    "• Votes: Number of ratings casted by people\n",
    "• Country code\n",
    "• Country name"
   ]
  },
  {
   "cell_type": "markdown",
   "id": "4506ed8a",
   "metadata": {},
   "source": [
    "## Target Variables:\n",
    "1. 'Average Cost for two'\n",
    "2. 'Price range'"
   ]
  },
  {
   "cell_type": "code",
   "execution_count": 1,
   "id": "a8ba3ffa",
   "metadata": {},
   "outputs": [],
   "source": [
    "import pandas as pd\n",
    "import numpy as np\n",
    "\n",
    "import matplotlib.pyplot as plt\n",
    "import seaborn as sns\n",
    "%matplotlib inline\n",
    "\n",
    "import warnings\n",
    "warnings.filterwarnings('ignore')\n",
    "from sklearn.utils import shuffle"
   ]
  },
  {
   "cell_type": "code",
   "execution_count": 2,
   "id": "7d7f7d22",
   "metadata": {},
   "outputs": [],
   "source": [
    "df1 = pd.read_excel('Country-Code.xlsx')\n",
    "df2 = pd.read_excel('zomato.xlsx')"
   ]
  },
  {
   "cell_type": "code",
   "execution_count": 3,
   "id": "2faad5e5",
   "metadata": {},
   "outputs": [
    {
     "data": {
      "text/html": [
       "<div>\n",
       "<style scoped>\n",
       "    .dataframe tbody tr th:only-of-type {\n",
       "        vertical-align: middle;\n",
       "    }\n",
       "\n",
       "    .dataframe tbody tr th {\n",
       "        vertical-align: top;\n",
       "    }\n",
       "\n",
       "    .dataframe thead th {\n",
       "        text-align: right;\n",
       "    }\n",
       "</style>\n",
       "<table border=\"1\" class=\"dataframe\">\n",
       "  <thead>\n",
       "    <tr style=\"text-align: right;\">\n",
       "      <th></th>\n",
       "      <th>Country Code</th>\n",
       "      <th>Country</th>\n",
       "      <th>Restaurant ID</th>\n",
       "      <th>Restaurant Name</th>\n",
       "      <th>City</th>\n",
       "      <th>Address</th>\n",
       "      <th>Locality</th>\n",
       "      <th>Locality Verbose</th>\n",
       "      <th>Longitude</th>\n",
       "      <th>Latitude</th>\n",
       "      <th>...</th>\n",
       "      <th>Currency</th>\n",
       "      <th>Has Table booking</th>\n",
       "      <th>Has Online delivery</th>\n",
       "      <th>Is delivering now</th>\n",
       "      <th>Switch to order menu</th>\n",
       "      <th>Price range</th>\n",
       "      <th>Aggregate rating</th>\n",
       "      <th>Rating color</th>\n",
       "      <th>Rating text</th>\n",
       "      <th>Votes</th>\n",
       "    </tr>\n",
       "  </thead>\n",
       "  <tbody>\n",
       "    <tr>\n",
       "      <th>0</th>\n",
       "      <td>1</td>\n",
       "      <td>India</td>\n",
       "      <td>5608</td>\n",
       "      <td>SSKY Bar &amp; Lounge</td>\n",
       "      <td>New Delhi</td>\n",
       "      <td>Antariksh Bhavan, 22, Kasturba Gandhi Marg, Co...</td>\n",
       "      <td>Connaught Place</td>\n",
       "      <td>Connaught Place, New Delhi</td>\n",
       "      <td>77.222472</td>\n",
       "      <td>28.628672</td>\n",
       "      <td>...</td>\n",
       "      <td>Indian Rupees(Rs.)</td>\n",
       "      <td>Yes</td>\n",
       "      <td>No</td>\n",
       "      <td>No</td>\n",
       "      <td>No</td>\n",
       "      <td>4</td>\n",
       "      <td>3.5</td>\n",
       "      <td>Yellow</td>\n",
       "      <td>Good</td>\n",
       "      <td>92</td>\n",
       "    </tr>\n",
       "    <tr>\n",
       "      <th>1</th>\n",
       "      <td>1</td>\n",
       "      <td>India</td>\n",
       "      <td>4088</td>\n",
       "      <td>Prince Snacks &amp; Momo's Point</td>\n",
       "      <td>New Delhi</td>\n",
       "      <td>23, DDA Market, Behind NDPL, Kingsway Camp, De...</td>\n",
       "      <td>Delhi University-GTB Nagar</td>\n",
       "      <td>Delhi University-GTB Nagar, New Delhi</td>\n",
       "      <td>77.204991</td>\n",
       "      <td>28.694519</td>\n",
       "      <td>...</td>\n",
       "      <td>Indian Rupees(Rs.)</td>\n",
       "      <td>No</td>\n",
       "      <td>No</td>\n",
       "      <td>No</td>\n",
       "      <td>No</td>\n",
       "      <td>1</td>\n",
       "      <td>3.4</td>\n",
       "      <td>Orange</td>\n",
       "      <td>Average</td>\n",
       "      <td>39</td>\n",
       "    </tr>\n",
       "    <tr>\n",
       "      <th>2</th>\n",
       "      <td>1</td>\n",
       "      <td>India</td>\n",
       "      <td>312639</td>\n",
       "      <td>Tantrum Coffee Bar</td>\n",
       "      <td>New Delhi</td>\n",
       "      <td>Near Nirman Vihar Metro Station, Laxmi Nagar, ...</td>\n",
       "      <td>Laxmi Nagar</td>\n",
       "      <td>Laxmi Nagar, New Delhi</td>\n",
       "      <td>77.286813</td>\n",
       "      <td>28.637844</td>\n",
       "      <td>...</td>\n",
       "      <td>Indian Rupees(Rs.)</td>\n",
       "      <td>No</td>\n",
       "      <td>No</td>\n",
       "      <td>No</td>\n",
       "      <td>No</td>\n",
       "      <td>2</td>\n",
       "      <td>3.5</td>\n",
       "      <td>Yellow</td>\n",
       "      <td>Good</td>\n",
       "      <td>54</td>\n",
       "    </tr>\n",
       "    <tr>\n",
       "      <th>3</th>\n",
       "      <td>1</td>\n",
       "      <td>India</td>\n",
       "      <td>18368023</td>\n",
       "      <td>Guru Om Vanna</td>\n",
       "      <td>New Delhi</td>\n",
       "      <td>S/144, Hog Market, Rajendra Place, New Delhi</td>\n",
       "      <td>Rajendra Place</td>\n",
       "      <td>Rajendra Place, New Delhi</td>\n",
       "      <td>77.177358</td>\n",
       "      <td>28.644439</td>\n",
       "      <td>...</td>\n",
       "      <td>Indian Rupees(Rs.)</td>\n",
       "      <td>No</td>\n",
       "      <td>No</td>\n",
       "      <td>No</td>\n",
       "      <td>No</td>\n",
       "      <td>1</td>\n",
       "      <td>0.0</td>\n",
       "      <td>White</td>\n",
       "      <td>Not rated</td>\n",
       "      <td>0</td>\n",
       "    </tr>\n",
       "    <tr>\n",
       "      <th>4</th>\n",
       "      <td>1</td>\n",
       "      <td>India</td>\n",
       "      <td>409</td>\n",
       "      <td>Yo! China</td>\n",
       "      <td>Noida</td>\n",
       "      <td>3rd Floor, The Great India Place Mall, Sector ...</td>\n",
       "      <td>The Great India Place, Sector 38</td>\n",
       "      <td>The Great India Place, Sector 38, Noida</td>\n",
       "      <td>77.326250</td>\n",
       "      <td>28.567822</td>\n",
       "      <td>...</td>\n",
       "      <td>Indian Rupees(Rs.)</td>\n",
       "      <td>No</td>\n",
       "      <td>Yes</td>\n",
       "      <td>No</td>\n",
       "      <td>No</td>\n",
       "      <td>3</td>\n",
       "      <td>2.6</td>\n",
       "      <td>Orange</td>\n",
       "      <td>Average</td>\n",
       "      <td>334</td>\n",
       "    </tr>\n",
       "    <tr>\n",
       "      <th>...</th>\n",
       "      <td>...</td>\n",
       "      <td>...</td>\n",
       "      <td>...</td>\n",
       "      <td>...</td>\n",
       "      <td>...</td>\n",
       "      <td>...</td>\n",
       "      <td>...</td>\n",
       "      <td>...</td>\n",
       "      <td>...</td>\n",
       "      <td>...</td>\n",
       "      <td>...</td>\n",
       "      <td>...</td>\n",
       "      <td>...</td>\n",
       "      <td>...</td>\n",
       "      <td>...</td>\n",
       "      <td>...</td>\n",
       "      <td>...</td>\n",
       "      <td>...</td>\n",
       "      <td>...</td>\n",
       "      <td>...</td>\n",
       "      <td>...</td>\n",
       "    </tr>\n",
       "    <tr>\n",
       "      <th>9546</th>\n",
       "      <td>1</td>\n",
       "      <td>India</td>\n",
       "      <td>4627</td>\n",
       "      <td>Latitude - Mosaic Hotels</td>\n",
       "      <td>Noida</td>\n",
       "      <td>Mosaic Hotels, C-1, Sector 18, Noida</td>\n",
       "      <td>Mosaic Hotels, Sector 18, Noida</td>\n",
       "      <td>Mosaic Hotels, Sector 18, Noida , Noida</td>\n",
       "      <td>77.325545</td>\n",
       "      <td>28.571020</td>\n",
       "      <td>...</td>\n",
       "      <td>Indian Rupees(Rs.)</td>\n",
       "      <td>Yes</td>\n",
       "      <td>No</td>\n",
       "      <td>No</td>\n",
       "      <td>No</td>\n",
       "      <td>3</td>\n",
       "      <td>3.3</td>\n",
       "      <td>Orange</td>\n",
       "      <td>Average</td>\n",
       "      <td>61</td>\n",
       "    </tr>\n",
       "    <tr>\n",
       "      <th>9547</th>\n",
       "      <td>1</td>\n",
       "      <td>India</td>\n",
       "      <td>5315</td>\n",
       "      <td>Nile Restro &amp; Bar</td>\n",
       "      <td>New Delhi</td>\n",
       "      <td>26, 3rd Floor, Central Market, Ashok Vihar Pha...</td>\n",
       "      <td>Ashok Vihar Phase 1</td>\n",
       "      <td>Ashok Vihar Phase 1, New Delhi</td>\n",
       "      <td>77.172197</td>\n",
       "      <td>28.694243</td>\n",
       "      <td>...</td>\n",
       "      <td>Indian Rupees(Rs.)</td>\n",
       "      <td>Yes</td>\n",
       "      <td>No</td>\n",
       "      <td>No</td>\n",
       "      <td>No</td>\n",
       "      <td>3</td>\n",
       "      <td>2.7</td>\n",
       "      <td>Orange</td>\n",
       "      <td>Average</td>\n",
       "      <td>35</td>\n",
       "    </tr>\n",
       "    <tr>\n",
       "      <th>9548</th>\n",
       "      <td>1</td>\n",
       "      <td>India</td>\n",
       "      <td>5135</td>\n",
       "      <td>Express Dhaba</td>\n",
       "      <td>New Delhi</td>\n",
       "      <td>489/55-1, Malviya Nagar, New Delhi</td>\n",
       "      <td>Malviya Nagar</td>\n",
       "      <td>Malviya Nagar, New Delhi</td>\n",
       "      <td>77.212755</td>\n",
       "      <td>28.540327</td>\n",
       "      <td>...</td>\n",
       "      <td>Indian Rupees(Rs.)</td>\n",
       "      <td>No</td>\n",
       "      <td>Yes</td>\n",
       "      <td>No</td>\n",
       "      <td>No</td>\n",
       "      <td>2</td>\n",
       "      <td>2.7</td>\n",
       "      <td>Orange</td>\n",
       "      <td>Average</td>\n",
       "      <td>68</td>\n",
       "    </tr>\n",
       "    <tr>\n",
       "      <th>9549</th>\n",
       "      <td>148</td>\n",
       "      <td>New Zealand</td>\n",
       "      <td>7100811</td>\n",
       "      <td>Floriditas</td>\n",
       "      <td>Wellington City</td>\n",
       "      <td>161 Cuba Street, Te Aro, Wellington City</td>\n",
       "      <td>Te Aro</td>\n",
       "      <td>Te Aro, Wellington City</td>\n",
       "      <td>174.775500</td>\n",
       "      <td>-41.293833</td>\n",
       "      <td>...</td>\n",
       "      <td>NewZealand($)</td>\n",
       "      <td>No</td>\n",
       "      <td>No</td>\n",
       "      <td>No</td>\n",
       "      <td>No</td>\n",
       "      <td>4</td>\n",
       "      <td>4.2</td>\n",
       "      <td>Green</td>\n",
       "      <td>Very Good</td>\n",
       "      <td>170</td>\n",
       "    </tr>\n",
       "    <tr>\n",
       "      <th>9550</th>\n",
       "      <td>1</td>\n",
       "      <td>India</td>\n",
       "      <td>18341926</td>\n",
       "      <td>Cafe Amaretto</td>\n",
       "      <td>Gurgaon</td>\n",
       "      <td>Ground Floor, DLF South Point Mall, Golf Cours...</td>\n",
       "      <td>DLF South Point Mall, Golf Course Road</td>\n",
       "      <td>DLF South Point Mall, Golf Course Road, Gurgaon</td>\n",
       "      <td>77.099118</td>\n",
       "      <td>28.448156</td>\n",
       "      <td>...</td>\n",
       "      <td>Indian Rupees(Rs.)</td>\n",
       "      <td>Yes</td>\n",
       "      <td>Yes</td>\n",
       "      <td>No</td>\n",
       "      <td>No</td>\n",
       "      <td>3</td>\n",
       "      <td>4.1</td>\n",
       "      <td>Green</td>\n",
       "      <td>Very Good</td>\n",
       "      <td>147</td>\n",
       "    </tr>\n",
       "  </tbody>\n",
       "</table>\n",
       "<p>9551 rows × 22 columns</p>\n",
       "</div>"
      ],
      "text/plain": [
       "      Country Code      Country  Restaurant ID               Restaurant Name  \\\n",
       "0                1        India           5608             SSKY Bar & Lounge   \n",
       "1                1        India           4088  Prince Snacks & Momo's Point   \n",
       "2                1        India         312639            Tantrum Coffee Bar   \n",
       "3                1        India       18368023                 Guru Om Vanna   \n",
       "4                1        India            409                     Yo! China   \n",
       "...            ...          ...            ...                           ...   \n",
       "9546             1        India           4627      Latitude - Mosaic Hotels   \n",
       "9547             1        India           5315             Nile Restro & Bar   \n",
       "9548             1        India           5135                 Express Dhaba   \n",
       "9549           148  New Zealand        7100811                    Floriditas   \n",
       "9550             1        India       18341926                 Cafe Amaretto   \n",
       "\n",
       "                 City                                            Address  \\\n",
       "0           New Delhi  Antariksh Bhavan, 22, Kasturba Gandhi Marg, Co...   \n",
       "1           New Delhi  23, DDA Market, Behind NDPL, Kingsway Camp, De...   \n",
       "2           New Delhi  Near Nirman Vihar Metro Station, Laxmi Nagar, ...   \n",
       "3           New Delhi       S/144, Hog Market, Rajendra Place, New Delhi   \n",
       "4               Noida  3rd Floor, The Great India Place Mall, Sector ...   \n",
       "...               ...                                                ...   \n",
       "9546            Noida               Mosaic Hotels, C-1, Sector 18, Noida   \n",
       "9547        New Delhi  26, 3rd Floor, Central Market, Ashok Vihar Pha...   \n",
       "9548        New Delhi                 489/55-1, Malviya Nagar, New Delhi   \n",
       "9549  Wellington City           161 Cuba Street, Te Aro, Wellington City   \n",
       "9550          Gurgaon  Ground Floor, DLF South Point Mall, Golf Cours...   \n",
       "\n",
       "                                    Locality  \\\n",
       "0                            Connaught Place   \n",
       "1                 Delhi University-GTB Nagar   \n",
       "2                                Laxmi Nagar   \n",
       "3                             Rajendra Place   \n",
       "4           The Great India Place, Sector 38   \n",
       "...                                      ...   \n",
       "9546        Mosaic Hotels, Sector 18, Noida    \n",
       "9547                     Ashok Vihar Phase 1   \n",
       "9548                           Malviya Nagar   \n",
       "9549                                  Te Aro   \n",
       "9550  DLF South Point Mall, Golf Course Road   \n",
       "\n",
       "                                     Locality Verbose   Longitude   Latitude  \\\n",
       "0                          Connaught Place, New Delhi   77.222472  28.628672   \n",
       "1               Delhi University-GTB Nagar, New Delhi   77.204991  28.694519   \n",
       "2                              Laxmi Nagar, New Delhi   77.286813  28.637844   \n",
       "3                           Rajendra Place, New Delhi   77.177358  28.644439   \n",
       "4             The Great India Place, Sector 38, Noida   77.326250  28.567822   \n",
       "...                                               ...         ...        ...   \n",
       "9546          Mosaic Hotels, Sector 18, Noida , Noida   77.325545  28.571020   \n",
       "9547                   Ashok Vihar Phase 1, New Delhi   77.172197  28.694243   \n",
       "9548                         Malviya Nagar, New Delhi   77.212755  28.540327   \n",
       "9549                          Te Aro, Wellington City  174.775500 -41.293833   \n",
       "9550  DLF South Point Mall, Golf Course Road, Gurgaon   77.099118  28.448156   \n",
       "\n",
       "      ...            Currency  Has Table booking Has Online delivery  \\\n",
       "0     ...  Indian Rupees(Rs.)                Yes                  No   \n",
       "1     ...  Indian Rupees(Rs.)                 No                  No   \n",
       "2     ...  Indian Rupees(Rs.)                 No                  No   \n",
       "3     ...  Indian Rupees(Rs.)                 No                  No   \n",
       "4     ...  Indian Rupees(Rs.)                 No                 Yes   \n",
       "...   ...                 ...                ...                 ...   \n",
       "9546  ...  Indian Rupees(Rs.)                Yes                  No   \n",
       "9547  ...  Indian Rupees(Rs.)                Yes                  No   \n",
       "9548  ...  Indian Rupees(Rs.)                 No                 Yes   \n",
       "9549  ...       NewZealand($)                 No                  No   \n",
       "9550  ...  Indian Rupees(Rs.)                Yes                 Yes   \n",
       "\n",
       "     Is delivering now Switch to order menu Price range Aggregate rating  \\\n",
       "0                   No                   No           4              3.5   \n",
       "1                   No                   No           1              3.4   \n",
       "2                   No                   No           2              3.5   \n",
       "3                   No                   No           1              0.0   \n",
       "4                   No                   No           3              2.6   \n",
       "...                ...                  ...         ...              ...   \n",
       "9546                No                   No           3              3.3   \n",
       "9547                No                   No           3              2.7   \n",
       "9548                No                   No           2              2.7   \n",
       "9549                No                   No           4              4.2   \n",
       "9550                No                   No           3              4.1   \n",
       "\n",
       "      Rating color  Rating text Votes  \n",
       "0           Yellow         Good    92  \n",
       "1           Orange      Average    39  \n",
       "2           Yellow         Good    54  \n",
       "3            White    Not rated     0  \n",
       "4           Orange      Average   334  \n",
       "...            ...          ...   ...  \n",
       "9546        Orange      Average    61  \n",
       "9547        Orange      Average    35  \n",
       "9548        Orange      Average    68  \n",
       "9549         Green    Very Good   170  \n",
       "9550         Green    Very Good   147  \n",
       "\n",
       "[9551 rows x 22 columns]"
      ]
     },
     "execution_count": 3,
     "metadata": {},
     "output_type": "execute_result"
    }
   ],
   "source": [
    "df = pd.merge(df1,df2)\n",
    "df=shuffle(df)\n",
    "df.reset_index(drop=True)"
   ]
  },
  {
   "cell_type": "code",
   "execution_count": 4,
   "id": "336c2450",
   "metadata": {},
   "outputs": [
    {
     "data": {
      "text/plain": [
       "Country Code            0\n",
       "Country                 0\n",
       "Restaurant ID           0\n",
       "Restaurant Name         0\n",
       "City                    0\n",
       "Address                 0\n",
       "Locality                0\n",
       "Locality Verbose        0\n",
       "Longitude               0\n",
       "Latitude                0\n",
       "Cuisines                9\n",
       "Average Cost for two    0\n",
       "Currency                0\n",
       "Has Table booking       0\n",
       "Has Online delivery     0\n",
       "Is delivering now       0\n",
       "Switch to order menu    0\n",
       "Price range             0\n",
       "Aggregate rating        0\n",
       "Rating color            0\n",
       "Rating text             0\n",
       "Votes                   0\n",
       "dtype: int64"
      ]
     },
     "execution_count": 4,
     "metadata": {},
     "output_type": "execute_result"
    }
   ],
   "source": [
    "df.isnull().sum()"
   ]
  },
  {
   "cell_type": "code",
   "execution_count": 5,
   "id": "00f5dd92",
   "metadata": {},
   "outputs": [
    {
     "name": "stdout",
     "output_type": "stream",
     "text": [
      "<class 'pandas.core.frame.DataFrame'>\n",
      "Int64Index: 9551 entries, 2448 to 815\n",
      "Data columns (total 22 columns):\n",
      " #   Column                Non-Null Count  Dtype  \n",
      "---  ------                --------------  -----  \n",
      " 0   Country Code          9551 non-null   int64  \n",
      " 1   Country               9551 non-null   object \n",
      " 2   Restaurant ID         9551 non-null   int64  \n",
      " 3   Restaurant Name       9551 non-null   object \n",
      " 4   City                  9551 non-null   object \n",
      " 5   Address               9551 non-null   object \n",
      " 6   Locality              9551 non-null   object \n",
      " 7   Locality Verbose      9551 non-null   object \n",
      " 8   Longitude             9551 non-null   float64\n",
      " 9   Latitude              9551 non-null   float64\n",
      " 10  Cuisines              9542 non-null   object \n",
      " 11  Average Cost for two  9551 non-null   int64  \n",
      " 12  Currency              9551 non-null   object \n",
      " 13  Has Table booking     9551 non-null   object \n",
      " 14  Has Online delivery   9551 non-null   object \n",
      " 15  Is delivering now     9551 non-null   object \n",
      " 16  Switch to order menu  9551 non-null   object \n",
      " 17  Price range           9551 non-null   int64  \n",
      " 18  Aggregate rating      9551 non-null   float64\n",
      " 19  Rating color          9551 non-null   object \n",
      " 20  Rating text           9551 non-null   object \n",
      " 21  Votes                 9551 non-null   int64  \n",
      "dtypes: float64(3), int64(5), object(14)\n",
      "memory usage: 1.7+ MB\n"
     ]
    }
   ],
   "source": [
    "df.info()"
   ]
  },
  {
   "cell_type": "code",
   "execution_count": 6,
   "id": "de43b028",
   "metadata": {},
   "outputs": [],
   "source": [
    "df.drop_duplicates(inplace=True)"
   ]
  },
  {
   "cell_type": "code",
   "execution_count": 7,
   "id": "54545c71",
   "metadata": {},
   "outputs": [
    {
     "data": {
      "text/plain": [
       "Country Code              15\n",
       "Country                   15\n",
       "Restaurant ID           9551\n",
       "Restaurant Name         7446\n",
       "City                     141\n",
       "Address                 8918\n",
       "Locality                1208\n",
       "Locality Verbose        1265\n",
       "Longitude               8120\n",
       "Latitude                8677\n",
       "Cuisines                1825\n",
       "Average Cost for two     140\n",
       "Currency                  12\n",
       "Has Table booking          2\n",
       "Has Online delivery        2\n",
       "Is delivering now          2\n",
       "Switch to order menu       1\n",
       "Price range                4\n",
       "Aggregate rating          33\n",
       "Rating color               6\n",
       "Rating text                6\n",
       "Votes                   1012\n",
       "dtype: int64"
      ]
     },
     "execution_count": 7,
     "metadata": {},
     "output_type": "execute_result"
    }
   ],
   "source": [
    "df.nunique()"
   ]
  },
  {
   "cell_type": "markdown",
   "id": "eae3e557",
   "metadata": {},
   "source": [
    "As per observation, \n",
    "1. 'Restaurant ID' column has unique value, which represent restaurant with location. \n",
    "    (Example: Two restaurants from same franchise in same city, have different 'Restaurant ID' as well as 'Place or Location'.)\n",
    "     As dataset has different 'Restaurant ID' = 9551 count same as total rows of dataset, whereas 'Restaurant Name' = 7446 count only.\n",
    "   So need of 'Restaurant Name', can drop this feature. \n",
    "2. 'Switch to ordet menu' column has only 1 value, which has not any correlation with target.\n",
    "3. 'Country Code' is represent the name of 'Country Name', so drop 'Country Name' later.\n",
    "4. 'Locality Verbose' contain other features detail like 'Locality'. So can drop 'Locality' feature also.\n",
    "5. No need full address of Restaurant as dataset has 'Locality Verbose'column. So drop this feature.\n",
    "6. If dataset have Longitude and Latitude than no need 'Restaurant ID' & 'Locality Verbose'also, so drop it later."
   ]
  },
  {
   "cell_type": "markdown",
   "id": "8061efcf",
   "metadata": {},
   "source": [
    "Zomato work on Google_map, which represent place on Longitude and Latitude, otherwise in Google_map landmarks' only use for directions.\n",
    "Dataset has longitude as well as latitude columns, no more need of address of restaurant, so can drop this column."
   ]
  },
  {
   "cell_type": "code",
   "execution_count": 8,
   "id": "def9c5c9",
   "metadata": {},
   "outputs": [],
   "source": [
    "df.drop(columns=['Restaurant Name','Switch to order menu','Locality','Address'], inplace=True)"
   ]
  },
  {
   "cell_type": "code",
   "execution_count": 9,
   "id": "7bd9e933",
   "metadata": {},
   "outputs": [
    {
     "data": {
      "text/plain": [
       "(9551, 18)"
      ]
     },
     "execution_count": 9,
     "metadata": {},
     "output_type": "execute_result"
    }
   ],
   "source": [
    "df.shape"
   ]
  },
  {
   "cell_type": "code",
   "execution_count": null,
   "id": "60790471",
   "metadata": {},
   "outputs": [],
   "source": []
  },
  {
   "cell_type": "markdown",
   "id": "0f61dc4f",
   "metadata": {},
   "source": [
    "# EDA (Exploratory Data Analysis) & Now Seperate Object and Numeric datatypes."
   ]
  },
  {
   "cell_type": "code",
   "execution_count": 10,
   "id": "b123f7ef",
   "metadata": {},
   "outputs": [
    {
     "name": "stdout",
     "output_type": "stream",
     "text": [
      "10\n"
     ]
    },
    {
     "data": {
      "text/plain": [
       "['Country',\n",
       " 'City',\n",
       " 'Locality Verbose',\n",
       " 'Cuisines',\n",
       " 'Currency',\n",
       " 'Has Table booking',\n",
       " 'Has Online delivery',\n",
       " 'Is delivering now',\n",
       " 'Rating color',\n",
       " 'Rating text']"
      ]
     },
     "execution_count": 10,
     "metadata": {},
     "output_type": "execute_result"
    }
   ],
   "source": [
    "object_datatypes=[]\n",
    "for i in df.dtypes.index:\n",
    "    if df.dtypes[i]=='object':\n",
    "        object_datatypes.append(i)\n",
    "print(len(object_datatypes))\n",
    "object_datatypes  "
   ]
  },
  {
   "cell_type": "code",
   "execution_count": 11,
   "id": "309cf482",
   "metadata": {},
   "outputs": [
    {
     "name": "stdout",
     "output_type": "stream",
     "text": [
      "Country : \n",
      " India             8652\n",
      "United States      434\n",
      "United Kingdom      80\n",
      "Brazil              60\n",
      "South Africa        60\n",
      "UAE                 60\n",
      "New Zealand         40\n",
      "Turkey              34\n",
      "Australia           24\n",
      "Phillipines         22\n",
      "Indonesia           21\n",
      "Singapore           20\n",
      "Sri Lanka           20\n",
      "Qatar               20\n",
      "Canada               4\n",
      "Name: Country, dtype: int64 \t\t:Total Categories: 15 \n",
      "\n",
      "City : \n",
      " New Delhi         5473\n",
      "Gurgaon           1118\n",
      "Noida             1080\n",
      "Faridabad          251\n",
      "Ghaziabad           25\n",
      "                  ... \n",
      "Clatskanie           1\n",
      "Winchester Bay       1\n",
      "Ojo Caliente         1\n",
      "Mc Millan            1\n",
      "Fernley              1\n",
      "Name: City, Length: 141, dtype: int64 \t\t:Total Categories: 141 \n",
      "\n",
      "Locality Verbose : \n",
      " Connaught Place, New Delhi                 122\n",
      "Rajouri Garden, New Delhi                   99\n",
      "Shahdara, New Delhi                         87\n",
      "Defence Colony, New Delhi                   86\n",
      "Pitampura, New Delhi                        85\n",
      "                                          ... \n",
      "Rave 3, Tilak Nagar, Kanpur                  1\n",
      "Sagar Nagar, Vizag                           1\n",
      "Godaulia, Varanasi                           1\n",
      "Lemon Tree Premier, Aerocity, New Delhi      1\n",
      "Sarabha Nagar, Ludhiana                      1\n",
      "Name: Locality Verbose, Length: 1265, dtype: int64 \t\t:Total Categories: 1265 \n",
      "\n",
      "Cuisines : \n",
      " North Indian                                                           936\n",
      "North Indian, Chinese                                                  511\n",
      "Fast Food                                                              354\n",
      "Chinese                                                                354\n",
      "North Indian, Mughlai                                                  334\n",
      "                                                                      ... \n",
      "French, Mediterranean, European                                          1\n",
      "North Indian, European, Continental                                      1\n",
      "North Indian, South Indian, Fast Food, Street Food, Chinese, Mithai      1\n",
      "American, Mexican, Finger Food                                           1\n",
      "Cafe, Italian, European, Bakery                                          1\n",
      "Name: Cuisines, Length: 1825, dtype: int64 \t\t:Total Categories: 1825 \n",
      "\n",
      "Currency : \n",
      " Indian Rupees(Rs.)        8652\n",
      "Dollar($)                  482\n",
      "Pounds(Œ£)                  80\n",
      "Brazilian Real(R$)          60\n",
      "Rand(R)                     60\n",
      "Emirati Diram(AED)          60\n",
      "NewZealand($)               40\n",
      "Turkish Lira(TL)            34\n",
      "Botswana Pula(P)            22\n",
      "Indonesian Rupiah(IDR)      21\n",
      "Sri Lankan Rupee(LKR)       20\n",
      "Qatari Rial(QR)             20\n",
      "Name: Currency, dtype: int64 \t\t:Total Categories: 12 \n",
      "\n",
      "Has Table booking : \n",
      " No     8393\n",
      "Yes    1158\n",
      "Name: Has Table booking, dtype: int64 \t\t:Total Categories: 2 \n",
      "\n",
      "Has Online delivery : \n",
      " No     7100\n",
      "Yes    2451\n",
      "Name: Has Online delivery, dtype: int64 \t\t:Total Categories: 2 \n",
      "\n",
      "Is delivering now : \n",
      " No     9517\n",
      "Yes      34\n",
      "Name: Is delivering now, dtype: int64 \t\t:Total Categories: 2 \n",
      "\n",
      "Rating color : \n",
      " Orange        3737\n",
      "White         2148\n",
      "Yellow        2100\n",
      "Green         1079\n",
      "Dark Green     301\n",
      "Red            186\n",
      "Name: Rating color, dtype: int64 \t\t:Total Categories: 6 \n",
      "\n",
      "Rating text : \n",
      " Average      3737\n",
      "Not rated    2148\n",
      "Good         2100\n",
      "Very Good    1079\n",
      "Excellent     301\n",
      "Poor          186\n",
      "Name: Rating text, dtype: int64 \t\t:Total Categories: 6 \n",
      "\n"
     ]
    }
   ],
   "source": [
    "for i in df.columns:\n",
    "    if df[i].dtypes == 'object':\n",
    "        val=df[i].value_counts()\n",
    "        nval=df[i].nunique()\n",
    "        print(i ,':','\\n', val , '\\t\\t:Total Categories:', nval, '\\n')"
   ]
  },
  {
   "cell_type": "markdown",
   "id": "e9c247bf",
   "metadata": {},
   "source": [
    "As per observation,\n",
    "1. 'Is delivering now' feature is not important for dataset to predict target variable, so can drop this feature.\n",
    "2. 'Rating color' is totally based on 'Rating text' feature, and counts of both variable are excetly same, so can drop 'Rating color' feature."
   ]
  },
  {
   "cell_type": "code",
   "execution_count": 12,
   "id": "2d383d87",
   "metadata": {},
   "outputs": [],
   "source": [
    "df.drop(columns=['Is delivering now','Rating color'], inplace=True)"
   ]
  },
  {
   "cell_type": "code",
   "execution_count": 13,
   "id": "4c26bb09",
   "metadata": {},
   "outputs": [
    {
     "name": "stdout",
     "output_type": "stream",
     "text": [
      "Numeric_Datatype Feature: Country Code \n",
      "Total Categories: 15 \n",
      " [  1 216 215 148 184  30 162 208  14 191 189 214  94 166  37] \n",
      "\n",
      "Numeric_Datatype Feature: Restaurant ID \n",
      "Total Categories: 9551 \n",
      " [    5608     4088   312639 ...     5135  7100811 18341926] \n",
      "\n",
      "Numeric_Datatype Feature: Longitude \n",
      "Total Categories: 8120 \n",
      " [ 77.22247191  77.204991    77.2868134  ...  77.1721967   77.2127552\n",
      " 174.7755    ] \n",
      "\n",
      "Numeric_Datatype Feature: Latitude \n",
      "Total Categories: 8677 \n",
      " [ 28.6286716   28.6945186   28.6378437  ...  28.5403273  -41.29383333\n",
      "  28.4481557 ] \n",
      "\n",
      "Numeric_Datatype Feature: Average Cost for two \n",
      "Total Categories: 140 \n",
      " [  2800    300    500    400   1300    700   2500    800   1500     10\n",
      "   1200     25   1000    900    600   1600   2000    350   1800    200\n",
      "    450    150    850    100     15    250     50   1900     75     40\n",
      "   1400     90   1100    650   2300    550   3000     80     20     70\n",
      "    120      0   3500   5000   2100     55   1250   1650    125   3650\n",
      "    750     30   1350   1850   1700 200000   2400    320     45   2200\n",
      "    270   1950   4500     35    130 150000     60 120000    230    160\n",
      "      7    170    950    110    720   2600   3600 300000    410   3700\n",
      "   4000 450000     95    240   7000   3200    390    140    180   1550\n",
      "    294   4300   2900   1050   1750    330   2700    360   4100    260\n",
      " 165000   4400    220    570    955    290     65   5500   3300 800000\n",
      "   2650   1150    285 250000   6000    545   4800 350000    315    190\n",
      " 500000   1540     85    280  70000   6500    105 100000   4700   5100\n",
      "   3210   4200    515    430   1450   3800   8000   2350    445    535] \n",
      "\n",
      "Numeric_Datatype Feature: Price range \n",
      "Total Categories: 4 \n",
      " [4 1 2 3] \n",
      "\n",
      "Numeric_Datatype Feature: Aggregate rating \n",
      "Total Categories: 33 \n",
      " [3.5 3.4 0.  2.6 3.6 4.  4.2 3.9 3.3 4.1 2.8 3.  3.2 4.3 3.8 3.1 3.7 4.5\n",
      " 2.7 2.4 4.4 2.9 2.3 4.7 4.6 4.8 2.2 4.9 2.5 2.  2.1 1.9 1.8] \n",
      "\n",
      "Numeric_Datatype Feature: Votes \n",
      "Total Categories: 1012 \n",
      " [  92   39   54 ... 3370  856  464] \n",
      "\n",
      "Total Numeric_Datatype Features: 8\n"
     ]
    }
   ],
   "source": [
    "numeric_datatypes=[]\n",
    "for i in df.dtypes.index:\n",
    "    if df.dtypes[i]!='object':\n",
    "        numeric_datatypes.append(i) \n",
    "        nval=df[i].nunique()\n",
    "        val =df[i].unique()\n",
    "        print('Numeric_Datatype Feature:',i,'\\nTotal Categories:', nval,'\\n' , val, '\\n')\n",
    "print('Total Numeric_Datatype Features:', len(numeric_datatypes))        "
   ]
  },
  {
   "cell_type": "markdown",
   "id": "963a9626",
   "metadata": {},
   "source": [
    "As per observation, numeric_datatypes features has 0 values mens null value, let's handle this."
   ]
  },
  {
   "cell_type": "markdown",
   "id": "d906f4a7",
   "metadata": {},
   "source": [
    "The features having 0's value are:\n",
    "\n",
    "1. Longitude \n",
    "2. Latitude \n",
    "3. Average Cost for two\n",
    "4. Aggregate rating\n",
    "5. Votes \n",
    "\n",
    "But, 'Aggregate rating' & 'Votes' may be 0 value for this perticular dataset.\n",
    "otherwise, 'Longitude', 'Latitude' & 'Average Cost for two' must not be 0, They should have some value."
   ]
  },
  {
   "cell_type": "markdown",
   "id": "8deebbc7",
   "metadata": {},
   "source": [
    "# Data Visualization."
   ]
  },
  {
   "cell_type": "code",
   "execution_count": 14,
   "id": "c7bfc14f",
   "metadata": {},
   "outputs": [
    {
     "data": {
      "image/png": "[encoded data removed]",
      "text/plain": [
       "<Figure size 951.5x432 with 1 Axes>"
      ]
     },
     "metadata": {
      "needs_background": "light"
     },
     "output_type": "display_data"
    }
   ],
   "source": [
    "sns.factorplot(x= 'Country' , data=df,kind='count', hue='Rating text', height=6, aspect=2)\n",
    "locs, labels = plt.xticks(rotation = 60)\n",
    "plt.yticks(np.arange(0, 4000, step=500))\n",
    "plt.show()"
   ]
  },
  {
   "cell_type": "markdown",
   "id": "54427acb",
   "metadata": {},
   "source": [
    "As per observation, \n",
    "1. India has maximum no of restaurnats (including all rating types) compared to other countries.\n",
    "2. India has maximum no of Average rating restaurants."
   ]
  },
  {
   "cell_type": "code",
   "execution_count": 15,
   "id": "728c7c99",
   "metadata": {},
   "outputs": [
    {
     "data": {
      "image/png": "[encoded data removed]",
      "text/plain": [
       "<Figure size 784.75x360 with 2 Axes>"
      ]
     },
     "metadata": {
      "needs_background": "light"
     },
     "output_type": "display_data"
    }
   ],
   "source": [
    "sns.factorplot(x= 'Has Table booking', col='Has Online delivery', data=df,kind='count', hue='Price range', height=5, aspect=1)\n",
    "locs, labels = plt.xticks(rotation = 60)\n",
    "plt.yticks(np.arange(0, 4000, step=500))\n",
    "plt.show()"
   ]
  },
  {
   "cell_type": "markdown",
   "id": "7e66c5f3",
   "metadata": {},
   "source": [
    "As per observation, Restaurants have no any table booking and no any online delivery facility, have price range 1."
   ]
  },
  {
   "cell_type": "markdown",
   "id": "37041845",
   "metadata": {},
   "source": [
    "## Dataset has 90% of Indian restaurant, & 90% of data in Indian Rupees in \"Currency\" column, so convert all \"Currency\" in Indian currency."
   ]
  },
  {
   "cell_type": "code",
   "execution_count": 16,
   "id": "cfc8a8b7",
   "metadata": {},
   "outputs": [],
   "source": [
    "Rupees = {'Indian Rupees(Rs.)': 1.00, 'Dollar($)': 82.73, 'Pounds(Œ£)': 100.47 , 'Rand(R)': 4.69, 'Brazilian Real(R$)': 15.59, \n",
    "     'Emirati Diram(AED)': 22.53 , 'NewZealand($)': 52.69, 'Turkish Lira(TL)': 4.44, 'Botswana Pula(P)': 1.49, \n",
    "     'Indonesian Rupiah(IDR)': 0.0053, 'Sri Lankan Rupee(LKR)': 0.22, 'Qatari Rial(QR)': 22.72}"
   ]
  },
  {
   "cell_type": "code",
   "execution_count": 17,
   "id": "15ca345d",
   "metadata": {},
   "outputs": [],
   "source": [
    "df.Currency = df['Currency'].map(Rupees)"
   ]
  },
  {
   "cell_type": "code",
   "execution_count": 18,
   "id": "98b7965d",
   "metadata": {},
   "outputs": [],
   "source": [
    "df['Average Cost for two'] = df['Average Cost for two'] * df['Currency']"
   ]
  },
  {
   "cell_type": "code",
   "execution_count": 19,
   "id": "f0a88ad3",
   "metadata": {},
   "outputs": [],
   "source": [
    "df.replace(0,np.nan,inplace=True)"
   ]
  },
  {
   "cell_type": "code",
   "execution_count": 20,
   "id": "f06d6610",
   "metadata": {},
   "outputs": [
    {
     "data": {
      "text/plain": [
       "Country Code               0\n",
       "Country                    0\n",
       "Restaurant ID              0\n",
       "City                       0\n",
       "Locality Verbose           0\n",
       "Longitude                498\n",
       "Latitude                 498\n",
       "Cuisines                   9\n",
       "Average Cost for two      18\n",
       "Currency                   0\n",
       "Has Table booking          0\n",
       "Has Online delivery        0\n",
       "Price range                0\n",
       "Aggregate rating        2148\n",
       "Rating text                0\n",
       "Votes                   1094\n",
       "dtype: int64"
      ]
     },
     "execution_count": 20,
     "metadata": {},
     "output_type": "execute_result"
    }
   ],
   "source": [
    "df.isnull().sum()"
   ]
  },
  {
   "cell_type": "markdown",
   "id": "8fd1e73d",
   "metadata": {},
   "source": [
    "## Now map catogarical features which are into object type convert into numeric type"
   ]
  },
  {
   "cell_type": "code",
   "execution_count": 21,
   "id": "ee9c8e14",
   "metadata": {},
   "outputs": [],
   "source": [
    "df['Has Table booking'] = df['Has Table booking'].map({'No': 0,'Yes': 1})\n",
    "df['Has Online delivery'] = df['Has Online delivery'].map({'No': 0,'Yes': 1})\n",
    "df['Rating text'] = df['Rating text'].map({'Not rated': 0,'Poor': 1, 'Average': 2, 'Good': 3, 'Very Good': 4, 'Excellent': 5})"
   ]
  },
  {
   "cell_type": "code",
   "execution_count": 22,
   "id": "0fe48f58",
   "metadata": {},
   "outputs": [
    {
     "data": {
      "text/html": [
       "<div>\n",
       "<style scoped>\n",
       "    .dataframe tbody tr th:only-of-type {\n",
       "        vertical-align: middle;\n",
       "    }\n",
       "\n",
       "    .dataframe tbody tr th {\n",
       "        vertical-align: top;\n",
       "    }\n",
       "\n",
       "    .dataframe thead th {\n",
       "        text-align: right;\n",
       "    }\n",
       "</style>\n",
       "<table border=\"1\" class=\"dataframe\">\n",
       "  <thead>\n",
       "    <tr style=\"text-align: right;\">\n",
       "      <th></th>\n",
       "      <th>Country Code</th>\n",
       "      <th>Country</th>\n",
       "      <th>Restaurant ID</th>\n",
       "      <th>City</th>\n",
       "      <th>Locality Verbose</th>\n",
       "      <th>Longitude</th>\n",
       "      <th>Latitude</th>\n",
       "      <th>Cuisines</th>\n",
       "      <th>Average Cost for two</th>\n",
       "      <th>Currency</th>\n",
       "      <th>Has Table booking</th>\n",
       "      <th>Has Online delivery</th>\n",
       "      <th>Price range</th>\n",
       "      <th>Aggregate rating</th>\n",
       "      <th>Rating text</th>\n",
       "      <th>Votes</th>\n",
       "    </tr>\n",
       "  </thead>\n",
       "  <tbody>\n",
       "    <tr>\n",
       "      <th>2448</th>\n",
       "      <td>1</td>\n",
       "      <td>India</td>\n",
       "      <td>5608</td>\n",
       "      <td>New Delhi</td>\n",
       "      <td>Connaught Place, New Delhi</td>\n",
       "      <td>77.222472</td>\n",
       "      <td>28.628672</td>\n",
       "      <td>Mughlai, North Indian, Chinese</td>\n",
       "      <td>2800.00</td>\n",
       "      <td>1.00</td>\n",
       "      <td>1</td>\n",
       "      <td>0</td>\n",
       "      <td>4</td>\n",
       "      <td>3.5</td>\n",
       "      <td>3</td>\n",
       "      <td>92.0</td>\n",
       "    </tr>\n",
       "    <tr>\n",
       "      <th>2674</th>\n",
       "      <td>1</td>\n",
       "      <td>India</td>\n",
       "      <td>4088</td>\n",
       "      <td>New Delhi</td>\n",
       "      <td>Delhi University-GTB Nagar, New Delhi</td>\n",
       "      <td>77.204991</td>\n",
       "      <td>28.694519</td>\n",
       "      <td>Chinese</td>\n",
       "      <td>300.00</td>\n",
       "      <td>1.00</td>\n",
       "      <td>0</td>\n",
       "      <td>0</td>\n",
       "      <td>1</td>\n",
       "      <td>3.4</td>\n",
       "      <td>2</td>\n",
       "      <td>39.0</td>\n",
       "    </tr>\n",
       "    <tr>\n",
       "      <th>4323</th>\n",
       "      <td>1</td>\n",
       "      <td>India</td>\n",
       "      <td>312639</td>\n",
       "      <td>New Delhi</td>\n",
       "      <td>Laxmi Nagar, New Delhi</td>\n",
       "      <td>77.286813</td>\n",
       "      <td>28.637844</td>\n",
       "      <td>Cafe, Pizza</td>\n",
       "      <td>500.00</td>\n",
       "      <td>1.00</td>\n",
       "      <td>0</td>\n",
       "      <td>0</td>\n",
       "      <td>2</td>\n",
       "      <td>3.5</td>\n",
       "      <td>3</td>\n",
       "      <td>54.0</td>\n",
       "    </tr>\n",
       "    <tr>\n",
       "      <th>5912</th>\n",
       "      <td>1</td>\n",
       "      <td>India</td>\n",
       "      <td>18368023</td>\n",
       "      <td>New Delhi</td>\n",
       "      <td>Rajendra Place, New Delhi</td>\n",
       "      <td>77.177358</td>\n",
       "      <td>28.644439</td>\n",
       "      <td>Street Food</td>\n",
       "      <td>400.00</td>\n",
       "      <td>1.00</td>\n",
       "      <td>0</td>\n",
       "      <td>0</td>\n",
       "      <td>1</td>\n",
       "      <td>NaN</td>\n",
       "      <td>0</td>\n",
       "      <td>NaN</td>\n",
       "    </tr>\n",
       "    <tr>\n",
       "      <th>8462</th>\n",
       "      <td>1</td>\n",
       "      <td>India</td>\n",
       "      <td>409</td>\n",
       "      <td>Noida</td>\n",
       "      <td>The Great India Place, Sector 38, Noida</td>\n",
       "      <td>77.326250</td>\n",
       "      <td>28.567822</td>\n",
       "      <td>Chinese</td>\n",
       "      <td>1300.00</td>\n",
       "      <td>1.00</td>\n",
       "      <td>0</td>\n",
       "      <td>1</td>\n",
       "      <td>3</td>\n",
       "      <td>2.6</td>\n",
       "      <td>2</td>\n",
       "      <td>334.0</td>\n",
       "    </tr>\n",
       "    <tr>\n",
       "      <th>...</th>\n",
       "      <td>...</td>\n",
       "      <td>...</td>\n",
       "      <td>...</td>\n",
       "      <td>...</td>\n",
       "      <td>...</td>\n",
       "      <td>...</td>\n",
       "      <td>...</td>\n",
       "      <td>...</td>\n",
       "      <td>...</td>\n",
       "      <td>...</td>\n",
       "      <td>...</td>\n",
       "      <td>...</td>\n",
       "      <td>...</td>\n",
       "      <td>...</td>\n",
       "      <td>...</td>\n",
       "      <td>...</td>\n",
       "    </tr>\n",
       "    <tr>\n",
       "      <th>7574</th>\n",
       "      <td>1</td>\n",
       "      <td>India</td>\n",
       "      <td>4627</td>\n",
       "      <td>Noida</td>\n",
       "      <td>Mosaic Hotels, Sector 18, Noida , Noida</td>\n",
       "      <td>77.325545</td>\n",
       "      <td>28.571020</td>\n",
       "      <td>North Indian, Chinese</td>\n",
       "      <td>1700.00</td>\n",
       "      <td>1.00</td>\n",
       "      <td>1</td>\n",
       "      <td>0</td>\n",
       "      <td>3</td>\n",
       "      <td>3.3</td>\n",
       "      <td>2</td>\n",
       "      <td>61.0</td>\n",
       "    </tr>\n",
       "    <tr>\n",
       "      <th>2075</th>\n",
       "      <td>1</td>\n",
       "      <td>India</td>\n",
       "      <td>5315</td>\n",
       "      <td>New Delhi</td>\n",
       "      <td>Ashok Vihar Phase 1, New Delhi</td>\n",
       "      <td>77.172197</td>\n",
       "      <td>28.694243</td>\n",
       "      <td>North Indian, Chinese</td>\n",
       "      <td>1000.00</td>\n",
       "      <td>1.00</td>\n",
       "      <td>1</td>\n",
       "      <td>0</td>\n",
       "      <td>3</td>\n",
       "      <td>2.7</td>\n",
       "      <td>2</td>\n",
       "      <td>35.0</td>\n",
       "    </tr>\n",
       "    <tr>\n",
       "      <th>4510</th>\n",
       "      <td>1</td>\n",
       "      <td>India</td>\n",
       "      <td>5135</td>\n",
       "      <td>New Delhi</td>\n",
       "      <td>Malviya Nagar, New Delhi</td>\n",
       "      <td>77.212755</td>\n",
       "      <td>28.540327</td>\n",
       "      <td>North Indian, Chinese, Mughlai</td>\n",
       "      <td>650.00</td>\n",
       "      <td>1.00</td>\n",
       "      <td>0</td>\n",
       "      <td>1</td>\n",
       "      <td>2</td>\n",
       "      <td>2.7</td>\n",
       "      <td>2</td>\n",
       "      <td>68.0</td>\n",
       "    </tr>\n",
       "    <tr>\n",
       "      <th>8792</th>\n",
       "      <td>148</td>\n",
       "      <td>New Zealand</td>\n",
       "      <td>7100811</td>\n",
       "      <td>Wellington City</td>\n",
       "      <td>Te Aro, Wellington City</td>\n",
       "      <td>174.775500</td>\n",
       "      <td>-41.293833</td>\n",
       "      <td>Italian, Cafe</td>\n",
       "      <td>5532.45</td>\n",
       "      <td>52.69</td>\n",
       "      <td>0</td>\n",
       "      <td>0</td>\n",
       "      <td>4</td>\n",
       "      <td>4.2</td>\n",
       "      <td>4</td>\n",
       "      <td>170.0</td>\n",
       "    </tr>\n",
       "    <tr>\n",
       "      <th>815</th>\n",
       "      <td>1</td>\n",
       "      <td>India</td>\n",
       "      <td>18341926</td>\n",
       "      <td>Gurgaon</td>\n",
       "      <td>DLF South Point Mall, Golf Course Road, Gurgaon</td>\n",
       "      <td>77.099118</td>\n",
       "      <td>28.448156</td>\n",
       "      <td>Cafe, Italian, European, Bakery</td>\n",
       "      <td>1400.00</td>\n",
       "      <td>1.00</td>\n",
       "      <td>1</td>\n",
       "      <td>1</td>\n",
       "      <td>3</td>\n",
       "      <td>4.1</td>\n",
       "      <td>4</td>\n",
       "      <td>147.0</td>\n",
       "    </tr>\n",
       "  </tbody>\n",
       "</table>\n",
       "<p>9551 rows × 16 columns</p>\n",
       "</div>"
      ],
      "text/plain": [
       "      Country Code      Country  Restaurant ID             City  \\\n",
       "2448             1        India           5608        New Delhi   \n",
       "2674             1        India           4088        New Delhi   \n",
       "4323             1        India         312639        New Delhi   \n",
       "5912             1        India       18368023        New Delhi   \n",
       "8462             1        India            409            Noida   \n",
       "...            ...          ...            ...              ...   \n",
       "7574             1        India           4627            Noida   \n",
       "2075             1        India           5315        New Delhi   \n",
       "4510             1        India           5135        New Delhi   \n",
       "8792           148  New Zealand        7100811  Wellington City   \n",
       "815              1        India       18341926          Gurgaon   \n",
       "\n",
       "                                     Locality Verbose   Longitude   Latitude  \\\n",
       "2448                       Connaught Place, New Delhi   77.222472  28.628672   \n",
       "2674            Delhi University-GTB Nagar, New Delhi   77.204991  28.694519   \n",
       "4323                           Laxmi Nagar, New Delhi   77.286813  28.637844   \n",
       "5912                        Rajendra Place, New Delhi   77.177358  28.644439   \n",
       "8462          The Great India Place, Sector 38, Noida   77.326250  28.567822   \n",
       "...                                               ...         ...        ...   \n",
       "7574          Mosaic Hotels, Sector 18, Noida , Noida   77.325545  28.571020   \n",
       "2075                   Ashok Vihar Phase 1, New Delhi   77.172197  28.694243   \n",
       "4510                         Malviya Nagar, New Delhi   77.212755  28.540327   \n",
       "8792                          Te Aro, Wellington City  174.775500 -41.293833   \n",
       "815   DLF South Point Mall, Golf Course Road, Gurgaon   77.099118  28.448156   \n",
       "\n",
       "                             Cuisines  Average Cost for two  Currency  \\\n",
       "2448   Mughlai, North Indian, Chinese               2800.00      1.00   \n",
       "2674                          Chinese                300.00      1.00   \n",
       "4323                      Cafe, Pizza                500.00      1.00   \n",
       "5912                      Street Food                400.00      1.00   \n",
       "8462                          Chinese               1300.00      1.00   \n",
       "...                               ...                   ...       ...   \n",
       "7574            North Indian, Chinese               1700.00      1.00   \n",
       "2075            North Indian, Chinese               1000.00      1.00   \n",
       "4510   North Indian, Chinese, Mughlai                650.00      1.00   \n",
       "8792                    Italian, Cafe               5532.45     52.69   \n",
       "815   Cafe, Italian, European, Bakery               1400.00      1.00   \n",
       "\n",
       "      Has Table booking  Has Online delivery  Price range  Aggregate rating  \\\n",
       "2448                  1                    0            4               3.5   \n",
       "2674                  0                    0            1               3.4   \n",
       "4323                  0                    0            2               3.5   \n",
       "5912                  0                    0            1               NaN   \n",
       "8462                  0                    1            3               2.6   \n",
       "...                 ...                  ...          ...               ...   \n",
       "7574                  1                    0            3               3.3   \n",
       "2075                  1                    0            3               2.7   \n",
       "4510                  0                    1            2               2.7   \n",
       "8792                  0                    0            4               4.2   \n",
       "815                   1                    1            3               4.1   \n",
       "\n",
       "      Rating text  Votes  \n",
       "2448            3   92.0  \n",
       "2674            2   39.0  \n",
       "4323            3   54.0  \n",
       "5912            0    NaN  \n",
       "8462            2  334.0  \n",
       "...           ...    ...  \n",
       "7574            2   61.0  \n",
       "2075            2   35.0  \n",
       "4510            2   68.0  \n",
       "8792            4  170.0  \n",
       "815             4  147.0  \n",
       "\n",
       "[9551 rows x 16 columns]"
      ]
     },
     "execution_count": 22,
     "metadata": {},
     "output_type": "execute_result"
    }
   ],
   "source": [
    "df"
   ]
  },
  {
   "cell_type": "markdown",
   "id": "4d28b942",
   "metadata": {},
   "source": [
    "# Since the dataset has a lot of string vales. We will use the encoding techniques to convert the sring data to numerical data."
   ]
  },
  {
   "cell_type": "code",
   "execution_count": 23,
   "id": "49679030",
   "metadata": {},
   "outputs": [],
   "source": [
    "from sklearn.preprocessing import OrdinalEncoder\n",
    "enc = OrdinalEncoder()"
   ]
  },
  {
   "cell_type": "code",
   "execution_count": 24,
   "id": "2cc7d821",
   "metadata": {},
   "outputs": [],
   "source": [
    "for i in df.columns:\n",
    "    if df[i].dtypes == 'object':\n",
    "        df[i]= enc.fit_transform(df[i].values.reshape(-1,1))"
   ]
  },
  {
   "cell_type": "code",
   "execution_count": 25,
   "id": "f6754a33",
   "metadata": {},
   "outputs": [
    {
     "data": {
      "text/html": [
       "<div>\n",
       "<style scoped>\n",
       "    .dataframe tbody tr th:only-of-type {\n",
       "        vertical-align: middle;\n",
       "    }\n",
       "\n",
       "    .dataframe tbody tr th {\n",
       "        vertical-align: top;\n",
       "    }\n",
       "\n",
       "    .dataframe thead th {\n",
       "        text-align: right;\n",
       "    }\n",
       "</style>\n",
       "<table border=\"1\" class=\"dataframe\">\n",
       "  <thead>\n",
       "    <tr style=\"text-align: right;\">\n",
       "      <th></th>\n",
       "      <th>Country Code</th>\n",
       "      <th>Country</th>\n",
       "      <th>Restaurant ID</th>\n",
       "      <th>City</th>\n",
       "      <th>Locality Verbose</th>\n",
       "      <th>Longitude</th>\n",
       "      <th>Latitude</th>\n",
       "      <th>Cuisines</th>\n",
       "      <th>Average Cost for two</th>\n",
       "      <th>Currency</th>\n",
       "      <th>Has Table booking</th>\n",
       "      <th>Has Online delivery</th>\n",
       "      <th>Price range</th>\n",
       "      <th>Aggregate rating</th>\n",
       "      <th>Rating text</th>\n",
       "      <th>Votes</th>\n",
       "    </tr>\n",
       "  </thead>\n",
       "  <tbody>\n",
       "    <tr>\n",
       "      <th>2448</th>\n",
       "      <td>1</td>\n",
       "      <td>3.0</td>\n",
       "      <td>5608</td>\n",
       "      <td>88.0</td>\n",
       "      <td>222.0</td>\n",
       "      <td>77.222472</td>\n",
       "      <td>28.628672</td>\n",
       "      <td>1290.0</td>\n",
       "      <td>2800.00</td>\n",
       "      <td>1.00</td>\n",
       "      <td>1</td>\n",
       "      <td>0</td>\n",
       "      <td>4</td>\n",
       "      <td>3.5</td>\n",
       "      <td>3</td>\n",
       "      <td>92.0</td>\n",
       "    </tr>\n",
       "    <tr>\n",
       "      <th>2674</th>\n",
       "      <td>1</td>\n",
       "      <td>3.0</td>\n",
       "      <td>4088</td>\n",
       "      <td>88.0</td>\n",
       "      <td>284.0</td>\n",
       "      <td>77.204991</td>\n",
       "      <td>28.694519</td>\n",
       "      <td>497.0</td>\n",
       "      <td>300.00</td>\n",
       "      <td>1.00</td>\n",
       "      <td>0</td>\n",
       "      <td>0</td>\n",
       "      <td>1</td>\n",
       "      <td>3.4</td>\n",
       "      <td>2</td>\n",
       "      <td>39.0</td>\n",
       "    </tr>\n",
       "    <tr>\n",
       "      <th>4323</th>\n",
       "      <td>1</td>\n",
       "      <td>3.0</td>\n",
       "      <td>312639</td>\n",
       "      <td>88.0</td>\n",
       "      <td>585.0</td>\n",
       "      <td>77.286813</td>\n",
       "      <td>28.637844</td>\n",
       "      <td>478.0</td>\n",
       "      <td>500.00</td>\n",
       "      <td>1.00</td>\n",
       "      <td>0</td>\n",
       "      <td>0</td>\n",
       "      <td>2</td>\n",
       "      <td>3.5</td>\n",
       "      <td>3</td>\n",
       "      <td>54.0</td>\n",
       "    </tr>\n",
       "    <tr>\n",
       "      <th>5912</th>\n",
       "      <td>1</td>\n",
       "      <td>3.0</td>\n",
       "      <td>18368023</td>\n",
       "      <td>88.0</td>\n",
       "      <td>845.0</td>\n",
       "      <td>77.177358</td>\n",
       "      <td>28.644439</td>\n",
       "      <td>1749.0</td>\n",
       "      <td>400.00</td>\n",
       "      <td>1.00</td>\n",
       "      <td>0</td>\n",
       "      <td>0</td>\n",
       "      <td>1</td>\n",
       "      <td>NaN</td>\n",
       "      <td>0</td>\n",
       "      <td>NaN</td>\n",
       "    </tr>\n",
       "    <tr>\n",
       "      <th>8462</th>\n",
       "      <td>1</td>\n",
       "      <td>3.0</td>\n",
       "      <td>409</td>\n",
       "      <td>89.0</td>\n",
       "      <td>1118.0</td>\n",
       "      <td>77.326250</td>\n",
       "      <td>28.567822</td>\n",
       "      <td>497.0</td>\n",
       "      <td>1300.00</td>\n",
       "      <td>1.00</td>\n",
       "      <td>0</td>\n",
       "      <td>1</td>\n",
       "      <td>3</td>\n",
       "      <td>2.6</td>\n",
       "      <td>2</td>\n",
       "      <td>334.0</td>\n",
       "    </tr>\n",
       "    <tr>\n",
       "      <th>...</th>\n",
       "      <td>...</td>\n",
       "      <td>...</td>\n",
       "      <td>...</td>\n",
       "      <td>...</td>\n",
       "      <td>...</td>\n",
       "      <td>...</td>\n",
       "      <td>...</td>\n",
       "      <td>...</td>\n",
       "      <td>...</td>\n",
       "      <td>...</td>\n",
       "      <td>...</td>\n",
       "      <td>...</td>\n",
       "      <td>...</td>\n",
       "      <td>...</td>\n",
       "      <td>...</td>\n",
       "      <td>...</td>\n",
       "    </tr>\n",
       "    <tr>\n",
       "      <th>7574</th>\n",
       "      <td>1</td>\n",
       "      <td>3.0</td>\n",
       "      <td>4627</td>\n",
       "      <td>89.0</td>\n",
       "      <td>691.0</td>\n",
       "      <td>77.325545</td>\n",
       "      <td>28.571020</td>\n",
       "      <td>1329.0</td>\n",
       "      <td>1700.00</td>\n",
       "      <td>1.00</td>\n",
       "      <td>1</td>\n",
       "      <td>0</td>\n",
       "      <td>3</td>\n",
       "      <td>3.3</td>\n",
       "      <td>2</td>\n",
       "      <td>61.0</td>\n",
       "    </tr>\n",
       "    <tr>\n",
       "      <th>2075</th>\n",
       "      <td>1</td>\n",
       "      <td>3.0</td>\n",
       "      <td>5315</td>\n",
       "      <td>88.0</td>\n",
       "      <td>72.0</td>\n",
       "      <td>77.172197</td>\n",
       "      <td>28.694243</td>\n",
       "      <td>1329.0</td>\n",
       "      <td>1000.00</td>\n",
       "      <td>1.00</td>\n",
       "      <td>1</td>\n",
       "      <td>0</td>\n",
       "      <td>3</td>\n",
       "      <td>2.7</td>\n",
       "      <td>2</td>\n",
       "      <td>35.0</td>\n",
       "    </tr>\n",
       "    <tr>\n",
       "      <th>4510</th>\n",
       "      <td>1</td>\n",
       "      <td>3.0</td>\n",
       "      <td>5135</td>\n",
       "      <td>88.0</td>\n",
       "      <td>650.0</td>\n",
       "      <td>77.212755</td>\n",
       "      <td>28.540327</td>\n",
       "      <td>1373.0</td>\n",
       "      <td>650.00</td>\n",
       "      <td>1.00</td>\n",
       "      <td>0</td>\n",
       "      <td>1</td>\n",
       "      <td>2</td>\n",
       "      <td>2.7</td>\n",
       "      <td>2</td>\n",
       "      <td>68.0</td>\n",
       "    </tr>\n",
       "    <tr>\n",
       "      <th>8792</th>\n",
       "      <td>148</td>\n",
       "      <td>5.0</td>\n",
       "      <td>7100811</td>\n",
       "      <td>137.0</td>\n",
       "      <td>1101.0</td>\n",
       "      <td>174.775500</td>\n",
       "      <td>-41.293833</td>\n",
       "      <td>1036.0</td>\n",
       "      <td>5532.45</td>\n",
       "      <td>52.69</td>\n",
       "      <td>0</td>\n",
       "      <td>0</td>\n",
       "      <td>4</td>\n",
       "      <td>4.2</td>\n",
       "      <td>4</td>\n",
       "      <td>170.0</td>\n",
       "    </tr>\n",
       "    <tr>\n",
       "      <th>815</th>\n",
       "      <td>1</td>\n",
       "      <td>3.0</td>\n",
       "      <td>18341926</td>\n",
       "      <td>50.0</td>\n",
       "      <td>264.0</td>\n",
       "      <td>77.099118</td>\n",
       "      <td>28.448156</td>\n",
       "      <td>434.0</td>\n",
       "      <td>1400.00</td>\n",
       "      <td>1.00</td>\n",
       "      <td>1</td>\n",
       "      <td>1</td>\n",
       "      <td>3</td>\n",
       "      <td>4.1</td>\n",
       "      <td>4</td>\n",
       "      <td>147.0</td>\n",
       "    </tr>\n",
       "  </tbody>\n",
       "</table>\n",
       "<p>9551 rows × 16 columns</p>\n",
       "</div>"
      ],
      "text/plain": [
       "      Country Code  Country  Restaurant ID   City  Locality Verbose  \\\n",
       "2448             1      3.0           5608   88.0             222.0   \n",
       "2674             1      3.0           4088   88.0             284.0   \n",
       "4323             1      3.0         312639   88.0             585.0   \n",
       "5912             1      3.0       18368023   88.0             845.0   \n",
       "8462             1      3.0            409   89.0            1118.0   \n",
       "...            ...      ...            ...    ...               ...   \n",
       "7574             1      3.0           4627   89.0             691.0   \n",
       "2075             1      3.0           5315   88.0              72.0   \n",
       "4510             1      3.0           5135   88.0             650.0   \n",
       "8792           148      5.0        7100811  137.0            1101.0   \n",
       "815              1      3.0       18341926   50.0             264.0   \n",
       "\n",
       "       Longitude   Latitude  Cuisines  Average Cost for two  Currency  \\\n",
       "2448   77.222472  28.628672    1290.0               2800.00      1.00   \n",
       "2674   77.204991  28.694519     497.0                300.00      1.00   \n",
       "4323   77.286813  28.637844     478.0                500.00      1.00   \n",
       "5912   77.177358  28.644439    1749.0                400.00      1.00   \n",
       "8462   77.326250  28.567822     497.0               1300.00      1.00   \n",
       "...          ...        ...       ...                   ...       ...   \n",
       "7574   77.325545  28.571020    1329.0               1700.00      1.00   \n",
       "2075   77.172197  28.694243    1329.0               1000.00      1.00   \n",
       "4510   77.212755  28.540327    1373.0                650.00      1.00   \n",
       "8792  174.775500 -41.293833    1036.0               5532.45     52.69   \n",
       "815    77.099118  28.448156     434.0               1400.00      1.00   \n",
       "\n",
       "      Has Table booking  Has Online delivery  Price range  Aggregate rating  \\\n",
       "2448                  1                    0            4               3.5   \n",
       "2674                  0                    0            1               3.4   \n",
       "4323                  0                    0            2               3.5   \n",
       "5912                  0                    0            1               NaN   \n",
       "8462                  0                    1            3               2.6   \n",
       "...                 ...                  ...          ...               ...   \n",
       "7574                  1                    0            3               3.3   \n",
       "2075                  1                    0            3               2.7   \n",
       "4510                  0                    1            2               2.7   \n",
       "8792                  0                    0            4               4.2   \n",
       "815                   1                    1            3               4.1   \n",
       "\n",
       "      Rating text  Votes  \n",
       "2448            3   92.0  \n",
       "2674            2   39.0  \n",
       "4323            3   54.0  \n",
       "5912            0    NaN  \n",
       "8462            2  334.0  \n",
       "...           ...    ...  \n",
       "7574            2   61.0  \n",
       "2075            2   35.0  \n",
       "4510            2   68.0  \n",
       "8792            4  170.0  \n",
       "815             4  147.0  \n",
       "\n",
       "[9551 rows x 16 columns]"
      ]
     },
     "execution_count": 25,
     "metadata": {},
     "output_type": "execute_result"
    }
   ],
   "source": [
    "df"
   ]
  },
  {
   "cell_type": "markdown",
   "id": "da89c1af",
   "metadata": {},
   "source": [
    "# Handle Null Value using Imputer Technique"
   ]
  },
  {
   "cell_type": "code",
   "execution_count": 26,
   "id": "0c6ff83d",
   "metadata": {},
   "outputs": [],
   "source": [
    "#Before using Iterative Imputer, we need to enable it using below code\n",
    "from sklearn.experimental import enable_iterative_imputer\n",
    "\n",
    "# Import Iterative Imputer\n",
    "from sklearn.impute import IterativeImputer"
   ]
  },
  {
   "cell_type": "code",
   "execution_count": 27,
   "id": "c2605b31",
   "metadata": {},
   "outputs": [
    {
     "data": {
      "text/html": [
       "<div>\n",
       "<style scoped>\n",
       "    .dataframe tbody tr th:only-of-type {\n",
       "        vertical-align: middle;\n",
       "    }\n",
       "\n",
       "    .dataframe tbody tr th {\n",
       "        vertical-align: top;\n",
       "    }\n",
       "\n",
       "    .dataframe thead th {\n",
       "        text-align: right;\n",
       "    }\n",
       "</style>\n",
       "<table border=\"1\" class=\"dataframe\">\n",
       "  <thead>\n",
       "    <tr style=\"text-align: right;\">\n",
       "      <th></th>\n",
       "      <th>Country Code</th>\n",
       "      <th>Country</th>\n",
       "      <th>Restaurant ID</th>\n",
       "      <th>City</th>\n",
       "      <th>Locality Verbose</th>\n",
       "      <th>Longitude</th>\n",
       "      <th>Latitude</th>\n",
       "      <th>Cuisines</th>\n",
       "      <th>Average Cost for two</th>\n",
       "      <th>Currency</th>\n",
       "      <th>Has Table booking</th>\n",
       "      <th>Has Online delivery</th>\n",
       "      <th>Price range</th>\n",
       "      <th>Aggregate rating</th>\n",
       "      <th>Rating text</th>\n",
       "      <th>Votes</th>\n",
       "    </tr>\n",
       "  </thead>\n",
       "  <tbody>\n",
       "    <tr>\n",
       "      <th>0</th>\n",
       "      <td>1.0</td>\n",
       "      <td>3.0</td>\n",
       "      <td>5608.0</td>\n",
       "      <td>88.0</td>\n",
       "      <td>222.0</td>\n",
       "      <td>77.222472</td>\n",
       "      <td>28.628672</td>\n",
       "      <td>1290.0</td>\n",
       "      <td>2800.00</td>\n",
       "      <td>1.00</td>\n",
       "      <td>1.0</td>\n",
       "      <td>0.0</td>\n",
       "      <td>4.0</td>\n",
       "      <td>3.500000</td>\n",
       "      <td>3.0</td>\n",
       "      <td>92.00000</td>\n",
       "    </tr>\n",
       "    <tr>\n",
       "      <th>1</th>\n",
       "      <td>1.0</td>\n",
       "      <td>3.0</td>\n",
       "      <td>4088.0</td>\n",
       "      <td>88.0</td>\n",
       "      <td>284.0</td>\n",
       "      <td>77.204991</td>\n",
       "      <td>28.694519</td>\n",
       "      <td>497.0</td>\n",
       "      <td>300.00</td>\n",
       "      <td>1.00</td>\n",
       "      <td>0.0</td>\n",
       "      <td>0.0</td>\n",
       "      <td>1.0</td>\n",
       "      <td>3.400000</td>\n",
       "      <td>2.0</td>\n",
       "      <td>39.00000</td>\n",
       "    </tr>\n",
       "    <tr>\n",
       "      <th>2</th>\n",
       "      <td>1.0</td>\n",
       "      <td>3.0</td>\n",
       "      <td>312639.0</td>\n",
       "      <td>88.0</td>\n",
       "      <td>585.0</td>\n",
       "      <td>77.286813</td>\n",
       "      <td>28.637844</td>\n",
       "      <td>478.0</td>\n",
       "      <td>500.00</td>\n",
       "      <td>1.00</td>\n",
       "      <td>0.0</td>\n",
       "      <td>0.0</td>\n",
       "      <td>2.0</td>\n",
       "      <td>3.500000</td>\n",
       "      <td>3.0</td>\n",
       "      <td>54.00000</td>\n",
       "    </tr>\n",
       "    <tr>\n",
       "      <th>3</th>\n",
       "      <td>1.0</td>\n",
       "      <td>3.0</td>\n",
       "      <td>18368023.0</td>\n",
       "      <td>88.0</td>\n",
       "      <td>845.0</td>\n",
       "      <td>77.177358</td>\n",
       "      <td>28.644439</td>\n",
       "      <td>1749.0</td>\n",
       "      <td>400.00</td>\n",
       "      <td>1.00</td>\n",
       "      <td>0.0</td>\n",
       "      <td>0.0</td>\n",
       "      <td>1.0</td>\n",
       "      <td>1.962894</td>\n",
       "      <td>0.0</td>\n",
       "      <td>-81.70319</td>\n",
       "    </tr>\n",
       "    <tr>\n",
       "      <th>4</th>\n",
       "      <td>1.0</td>\n",
       "      <td>3.0</td>\n",
       "      <td>409.0</td>\n",
       "      <td>89.0</td>\n",
       "      <td>1118.0</td>\n",
       "      <td>77.326250</td>\n",
       "      <td>28.567822</td>\n",
       "      <td>497.0</td>\n",
       "      <td>1300.00</td>\n",
       "      <td>1.00</td>\n",
       "      <td>0.0</td>\n",
       "      <td>1.0</td>\n",
       "      <td>3.0</td>\n",
       "      <td>2.600000</td>\n",
       "      <td>2.0</td>\n",
       "      <td>334.00000</td>\n",
       "    </tr>\n",
       "    <tr>\n",
       "      <th>...</th>\n",
       "      <td>...</td>\n",
       "      <td>...</td>\n",
       "      <td>...</td>\n",
       "      <td>...</td>\n",
       "      <td>...</td>\n",
       "      <td>...</td>\n",
       "      <td>...</td>\n",
       "      <td>...</td>\n",
       "      <td>...</td>\n",
       "      <td>...</td>\n",
       "      <td>...</td>\n",
       "      <td>...</td>\n",
       "      <td>...</td>\n",
       "      <td>...</td>\n",
       "      <td>...</td>\n",
       "      <td>...</td>\n",
       "    </tr>\n",
       "    <tr>\n",
       "      <th>9546</th>\n",
       "      <td>1.0</td>\n",
       "      <td>3.0</td>\n",
       "      <td>4627.0</td>\n",
       "      <td>89.0</td>\n",
       "      <td>691.0</td>\n",
       "      <td>77.325545</td>\n",
       "      <td>28.571020</td>\n",
       "      <td>1329.0</td>\n",
       "      <td>1700.00</td>\n",
       "      <td>1.00</td>\n",
       "      <td>1.0</td>\n",
       "      <td>0.0</td>\n",
       "      <td>3.0</td>\n",
       "      <td>3.300000</td>\n",
       "      <td>2.0</td>\n",
       "      <td>61.00000</td>\n",
       "    </tr>\n",
       "    <tr>\n",
       "      <th>9547</th>\n",
       "      <td>1.0</td>\n",
       "      <td>3.0</td>\n",
       "      <td>5315.0</td>\n",
       "      <td>88.0</td>\n",
       "      <td>72.0</td>\n",
       "      <td>77.172197</td>\n",
       "      <td>28.694243</td>\n",
       "      <td>1329.0</td>\n",
       "      <td>1000.00</td>\n",
       "      <td>1.00</td>\n",
       "      <td>1.0</td>\n",
       "      <td>0.0</td>\n",
       "      <td>3.0</td>\n",
       "      <td>2.700000</td>\n",
       "      <td>2.0</td>\n",
       "      <td>35.00000</td>\n",
       "    </tr>\n",
       "    <tr>\n",
       "      <th>9548</th>\n",
       "      <td>1.0</td>\n",
       "      <td>3.0</td>\n",
       "      <td>5135.0</td>\n",
       "      <td>88.0</td>\n",
       "      <td>650.0</td>\n",
       "      <td>77.212755</td>\n",
       "      <td>28.540327</td>\n",
       "      <td>1373.0</td>\n",
       "      <td>650.00</td>\n",
       "      <td>1.00</td>\n",
       "      <td>0.0</td>\n",
       "      <td>1.0</td>\n",
       "      <td>2.0</td>\n",
       "      <td>2.700000</td>\n",
       "      <td>2.0</td>\n",
       "      <td>68.00000</td>\n",
       "    </tr>\n",
       "    <tr>\n",
       "      <th>9549</th>\n",
       "      <td>148.0</td>\n",
       "      <td>5.0</td>\n",
       "      <td>7100811.0</td>\n",
       "      <td>137.0</td>\n",
       "      <td>1101.0</td>\n",
       "      <td>174.775500</td>\n",
       "      <td>-41.293833</td>\n",
       "      <td>1036.0</td>\n",
       "      <td>5532.45</td>\n",
       "      <td>52.69</td>\n",
       "      <td>0.0</td>\n",
       "      <td>0.0</td>\n",
       "      <td>4.0</td>\n",
       "      <td>4.200000</td>\n",
       "      <td>4.0</td>\n",
       "      <td>170.00000</td>\n",
       "    </tr>\n",
       "    <tr>\n",
       "      <th>9550</th>\n",
       "      <td>1.0</td>\n",
       "      <td>3.0</td>\n",
       "      <td>18341926.0</td>\n",
       "      <td>50.0</td>\n",
       "      <td>264.0</td>\n",
       "      <td>77.099118</td>\n",
       "      <td>28.448156</td>\n",
       "      <td>434.0</td>\n",
       "      <td>1400.00</td>\n",
       "      <td>1.00</td>\n",
       "      <td>1.0</td>\n",
       "      <td>1.0</td>\n",
       "      <td>3.0</td>\n",
       "      <td>4.100000</td>\n",
       "      <td>4.0</td>\n",
       "      <td>147.00000</td>\n",
       "    </tr>\n",
       "  </tbody>\n",
       "</table>\n",
       "<p>9551 rows × 16 columns</p>\n",
       "</div>"
      ],
      "text/plain": [
       "      Country Code  Country  Restaurant ID   City  Locality Verbose  \\\n",
       "0              1.0      3.0         5608.0   88.0             222.0   \n",
       "1              1.0      3.0         4088.0   88.0             284.0   \n",
       "2              1.0      3.0       312639.0   88.0             585.0   \n",
       "3              1.0      3.0     18368023.0   88.0             845.0   \n",
       "4              1.0      3.0          409.0   89.0            1118.0   \n",
       "...            ...      ...            ...    ...               ...   \n",
       "9546           1.0      3.0         4627.0   89.0             691.0   \n",
       "9547           1.0      3.0         5315.0   88.0              72.0   \n",
       "9548           1.0      3.0         5135.0   88.0             650.0   \n",
       "9549         148.0      5.0      7100811.0  137.0            1101.0   \n",
       "9550           1.0      3.0     18341926.0   50.0             264.0   \n",
       "\n",
       "       Longitude   Latitude  Cuisines  Average Cost for two  Currency  \\\n",
       "0      77.222472  28.628672    1290.0               2800.00      1.00   \n",
       "1      77.204991  28.694519     497.0                300.00      1.00   \n",
       "2      77.286813  28.637844     478.0                500.00      1.00   \n",
       "3      77.177358  28.644439    1749.0                400.00      1.00   \n",
       "4      77.326250  28.567822     497.0               1300.00      1.00   \n",
       "...          ...        ...       ...                   ...       ...   \n",
       "9546   77.325545  28.571020    1329.0               1700.00      1.00   \n",
       "9547   77.172197  28.694243    1329.0               1000.00      1.00   \n",
       "9548   77.212755  28.540327    1373.0                650.00      1.00   \n",
       "9549  174.775500 -41.293833    1036.0               5532.45     52.69   \n",
       "9550   77.099118  28.448156     434.0               1400.00      1.00   \n",
       "\n",
       "      Has Table booking  Has Online delivery  Price range  Aggregate rating  \\\n",
       "0                   1.0                  0.0          4.0          3.500000   \n",
       "1                   0.0                  0.0          1.0          3.400000   \n",
       "2                   0.0                  0.0          2.0          3.500000   \n",
       "3                   0.0                  0.0          1.0          1.962894   \n",
       "4                   0.0                  1.0          3.0          2.600000   \n",
       "...                 ...                  ...          ...               ...   \n",
       "9546                1.0                  0.0          3.0          3.300000   \n",
       "9547                1.0                  0.0          3.0          2.700000   \n",
       "9548                0.0                  1.0          2.0          2.700000   \n",
       "9549                0.0                  0.0          4.0          4.200000   \n",
       "9550                1.0                  1.0          3.0          4.100000   \n",
       "\n",
       "      Rating text      Votes  \n",
       "0             3.0   92.00000  \n",
       "1             2.0   39.00000  \n",
       "2             3.0   54.00000  \n",
       "3             0.0  -81.70319  \n",
       "4             2.0  334.00000  \n",
       "...           ...        ...  \n",
       "9546          2.0   61.00000  \n",
       "9547          2.0   35.00000  \n",
       "9548          2.0   68.00000  \n",
       "9549          4.0  170.00000  \n",
       "9550          4.0  147.00000  \n",
       "\n",
       "[9551 rows x 16 columns]"
      ]
     },
     "execution_count": 27,
     "metadata": {},
     "output_type": "execute_result"
    }
   ],
   "source": [
    "imputer = IterativeImputer(random_state=29)\n",
    "\n",
    "\n",
    "imputed = imputer.fit_transform(df)\n",
    "df_imputed = pd.DataFrame(imputed, columns=df.columns)\n",
    "\n",
    "df_imputed"
   ]
  },
  {
   "cell_type": "code",
   "execution_count": 28,
   "id": "51dd9799",
   "metadata": {},
   "outputs": [
    {
     "data": {
      "text/plain": [
       "0"
      ]
     },
     "execution_count": 28,
     "metadata": {},
     "output_type": "execute_result"
    }
   ],
   "source": [
    "df_imputed.isnull().sum().sum()"
   ]
  },
  {
   "cell_type": "code",
   "execution_count": 29,
   "id": "eaab50c1",
   "metadata": {},
   "outputs": [
    {
     "data": {
      "text/plain": [
       "Index(['Country Code', 'Country', 'Restaurant ID', 'City', 'Locality Verbose',\n",
       "       'Longitude', 'Latitude', 'Cuisines', 'Average Cost for two', 'Currency',\n",
       "       'Has Table booking', 'Has Online delivery', 'Price range',\n",
       "       'Aggregate rating', 'Rating text', 'Votes'],\n",
       "      dtype='object')"
      ]
     },
     "execution_count": 29,
     "metadata": {},
     "output_type": "execute_result"
    }
   ],
   "source": [
    "df_imputed.columns"
   ]
  },
  {
   "cell_type": "code",
   "execution_count": null,
   "id": "8241e754",
   "metadata": {},
   "outputs": [],
   "source": []
  },
  {
   "cell_type": "code",
   "execution_count": 30,
   "id": "91e851f0",
   "metadata": {},
   "outputs": [],
   "source": [
    "df_imputed.drop(columns=['Restaurant ID','Country','City','Country Code','Locality Verbose'],inplace=True)"
   ]
  },
  {
   "cell_type": "code",
   "execution_count": 31,
   "id": "7bc31d74",
   "metadata": {},
   "outputs": [
    {
     "data": {
      "image/png": "[encoded data removed]",
      "text/plain": [
       "<Figure size 1440x360 with 2 Axes>"
      ]
     },
     "metadata": {
      "needs_background": "light"
     },
     "output_type": "display_data"
    }
   ],
   "source": [
    "plt.figure (figsize=(20,5))\n",
    "plotnumber = 1\n",
    "\n",
    "conti_features = ['Average Cost for two', 'Votes']\n",
    "\n",
    "for column in conti_features:\n",
    "    if plotnumber<=2:\n",
    "        ax=plt.subplot(1,2,plotnumber)\n",
    "        sns.distplot(df_imputed[column])\n",
    "        plt.xlabel(column,fontsize=20)          \n",
    "    plotnumber+=1\n",
    "                     \n",
    "plt.show()"
   ]
  },
  {
   "cell_type": "code",
   "execution_count": 32,
   "id": "d9f67f30",
   "metadata": {},
   "outputs": [
    {
     "data": {
      "image/png": "[encoded data removed]",
      "text/plain": [
       "<Figure size 1440x360 with 2 Axes>"
      ]
     },
     "metadata": {
      "needs_background": "light"
     },
     "output_type": "display_data"
    }
   ],
   "source": [
    "plt.figure (figsize=(20,5))\n",
    "plotnumber = 1\n",
    "\n",
    "conti_features = ['Average Cost for two', 'Votes']\n",
    "\n",
    "for column in conti_features:\n",
    "    if plotnumber<=2:\n",
    "        ax=plt.subplot(1,2,plotnumber)\n",
    "        sns.boxplot(df_imputed[column])\n",
    "        plt.xlabel(column,fontsize=20)          \n",
    "    plotnumber+=1\n",
    "                     \n",
    "plt.show()"
   ]
  },
  {
   "cell_type": "markdown",
   "id": "a8c04057",
   "metadata": {},
   "source": [
    "As observed earlier, above two features have many outliers, will handle latter."
   ]
  },
  {
   "cell_type": "code",
   "execution_count": 33,
   "id": "5cf79667",
   "metadata": {},
   "outputs": [
    {
     "data": {
      "text/html": [
       "<div>\n",
       "<style scoped>\n",
       "    .dataframe tbody tr th:only-of-type {\n",
       "        vertical-align: middle;\n",
       "    }\n",
       "\n",
       "    .dataframe tbody tr th {\n",
       "        vertical-align: top;\n",
       "    }\n",
       "\n",
       "    .dataframe thead th {\n",
       "        text-align: right;\n",
       "    }\n",
       "</style>\n",
       "<table border=\"1\" class=\"dataframe\">\n",
       "  <thead>\n",
       "    <tr style=\"text-align: right;\">\n",
       "      <th></th>\n",
       "      <th>Longitude</th>\n",
       "      <th>Latitude</th>\n",
       "      <th>Cuisines</th>\n",
       "      <th>Average Cost for two</th>\n",
       "      <th>Currency</th>\n",
       "      <th>Has Table booking</th>\n",
       "      <th>Has Online delivery</th>\n",
       "      <th>Price range</th>\n",
       "      <th>Aggregate rating</th>\n",
       "      <th>Rating text</th>\n",
       "      <th>Votes</th>\n",
       "    </tr>\n",
       "  </thead>\n",
       "  <tbody>\n",
       "    <tr>\n",
       "      <th>count</th>\n",
       "      <td>9551.000000</td>\n",
       "      <td>9551.000000</td>\n",
       "      <td>9551.000000</td>\n",
       "      <td>9551.000000</td>\n",
       "      <td>9551.000000</td>\n",
       "      <td>9551.000000</td>\n",
       "      <td>9551.000000</td>\n",
       "      <td>9551.000000</td>\n",
       "      <td>9551.000000</td>\n",
       "      <td>9551.000000</td>\n",
       "      <td>9551.000000</td>\n",
       "    </tr>\n",
       "    <tr>\n",
       "      <th>mean</th>\n",
       "      <td>68.026670</td>\n",
       "      <td>27.287861</td>\n",
       "      <td>988.879042</td>\n",
       "      <td>824.338678</td>\n",
       "      <td>6.479354</td>\n",
       "      <td>0.121244</td>\n",
       "      <td>0.256622</td>\n",
       "      <td>1.804837</td>\n",
       "      <td>3.111788</td>\n",
       "      <td>2.071092</td>\n",
       "      <td>149.504990</td>\n",
       "    </tr>\n",
       "    <tr>\n",
       "      <th>std</th>\n",
       "      <td>38.684239</td>\n",
       "      <td>9.212531</td>\n",
       "      <td>514.173770</td>\n",
       "      <td>1276.568806</td>\n",
       "      <td>20.163212</td>\n",
       "      <td>0.326428</td>\n",
       "      <td>0.436792</td>\n",
       "      <td>0.905609</td>\n",
       "      <td>0.779630</td>\n",
       "      <td>1.367335</td>\n",
       "      <td>433.665394</td>\n",
       "    </tr>\n",
       "    <tr>\n",
       "      <th>min</th>\n",
       "      <td>-157.948486</td>\n",
       "      <td>-41.330428</td>\n",
       "      <td>0.000000</td>\n",
       "      <td>-135.878282</td>\n",
       "      <td>0.005300</td>\n",
       "      <td>0.000000</td>\n",
       "      <td>0.000000</td>\n",
       "      <td>1.000000</td>\n",
       "      <td>1.800000</td>\n",
       "      <td>0.000000</td>\n",
       "      <td>-238.145751</td>\n",
       "    </tr>\n",
       "    <tr>\n",
       "      <th>25%</th>\n",
       "      <td>77.083237</td>\n",
       "      <td>28.490199</td>\n",
       "      <td>497.000000</td>\n",
       "      <td>300.000000</td>\n",
       "      <td>1.000000</td>\n",
       "      <td>0.000000</td>\n",
       "      <td>0.000000</td>\n",
       "      <td>1.000000</td>\n",
       "      <td>2.500000</td>\n",
       "      <td>2.000000</td>\n",
       "      <td>5.000000</td>\n",
       "    </tr>\n",
       "    <tr>\n",
       "      <th>50%</th>\n",
       "      <td>77.194322</td>\n",
       "      <td>28.573212</td>\n",
       "      <td>1126.000000</td>\n",
       "      <td>500.000000</td>\n",
       "      <td>1.000000</td>\n",
       "      <td>0.000000</td>\n",
       "      <td>0.000000</td>\n",
       "      <td>2.000000</td>\n",
       "      <td>3.200000</td>\n",
       "      <td>2.000000</td>\n",
       "      <td>32.000000</td>\n",
       "    </tr>\n",
       "    <tr>\n",
       "      <th>75%</th>\n",
       "      <td>77.284651</td>\n",
       "      <td>28.644929</td>\n",
       "      <td>1353.500000</td>\n",
       "      <td>827.300000</td>\n",
       "      <td>1.000000</td>\n",
       "      <td>0.000000</td>\n",
       "      <td>1.000000</td>\n",
       "      <td>2.000000</td>\n",
       "      <td>3.700000</td>\n",
       "      <td>3.000000</td>\n",
       "      <td>131.000000</td>\n",
       "    </tr>\n",
       "    <tr>\n",
       "      <th>max</th>\n",
       "      <td>174.832089</td>\n",
       "      <td>55.976980</td>\n",
       "      <td>1824.000000</td>\n",
       "      <td>41365.000000</td>\n",
       "      <td>100.470000</td>\n",
       "      <td>1.000000</td>\n",
       "      <td>1.000000</td>\n",
       "      <td>4.000000</td>\n",
       "      <td>4.900000</td>\n",
       "      <td>5.000000</td>\n",
       "      <td>10934.000000</td>\n",
       "    </tr>\n",
       "  </tbody>\n",
       "</table>\n",
       "</div>"
      ],
      "text/plain": [
       "         Longitude     Latitude     Cuisines  Average Cost for two  \\\n",
       "count  9551.000000  9551.000000  9551.000000           9551.000000   \n",
       "mean     68.026670    27.287861   988.879042            824.338678   \n",
       "std      38.684239     9.212531   514.173770           1276.568806   \n",
       "min    -157.948486   -41.330428     0.000000           -135.878282   \n",
       "25%      77.083237    28.490199   497.000000            300.000000   \n",
       "50%      77.194322    28.573212  1126.000000            500.000000   \n",
       "75%      77.284651    28.644929  1353.500000            827.300000   \n",
       "max     174.832089    55.976980  1824.000000          41365.000000   \n",
       "\n",
       "          Currency  Has Table booking  Has Online delivery  Price range  \\\n",
       "count  9551.000000        9551.000000          9551.000000  9551.000000   \n",
       "mean      6.479354           0.121244             0.256622     1.804837   \n",
       "std      20.163212           0.326428             0.436792     0.905609   \n",
       "min       0.005300           0.000000             0.000000     1.000000   \n",
       "25%       1.000000           0.000000             0.000000     1.000000   \n",
       "50%       1.000000           0.000000             0.000000     2.000000   \n",
       "75%       1.000000           0.000000             1.000000     2.000000   \n",
       "max     100.470000           1.000000             1.000000     4.000000   \n",
       "\n",
       "       Aggregate rating  Rating text         Votes  \n",
       "count       9551.000000  9551.000000   9551.000000  \n",
       "mean           3.111788     2.071092    149.504990  \n",
       "std            0.779630     1.367335    433.665394  \n",
       "min            1.800000     0.000000   -238.145751  \n",
       "25%            2.500000     2.000000      5.000000  \n",
       "50%            3.200000     2.000000     32.000000  \n",
       "75%            3.700000     3.000000    131.000000  \n",
       "max            4.900000     5.000000  10934.000000  "
      ]
     },
     "execution_count": 33,
     "metadata": {},
     "output_type": "execute_result"
    }
   ],
   "source": [
    "df_imputed.describe()"
   ]
  },
  {
   "cell_type": "markdown",
   "id": "b00ad832",
   "metadata": {},
   "source": [
    "As per observation, 'Average Cost for two' & 'Votes' have some outliers, will handle later."
   ]
  },
  {
   "cell_type": "markdown",
   "id": "8cc6bf82",
   "metadata": {},
   "source": [
    "# [1] Regression Problem (Target = Average Cost for two)\n",
    "\n",
    "## Now Check correlation of the columns with the target column"
   ]
  },
  {
   "cell_type": "code",
   "execution_count": 34,
   "id": "40f34ef6",
   "metadata": {},
   "outputs": [],
   "source": [
    "df_imputed.rename(columns = {\"Average Cost for two\":\"Avg_Cost_for_Two\", \"Price range\":\"Price_range\"},inplace=True)"
   ]
  },
  {
   "cell_type": "code",
   "execution_count": 35,
   "id": "41061a54",
   "metadata": {},
   "outputs": [
    {
     "data": {
      "text/plain": [
       "Longitude             -0.264246\n",
       "Latitude              -0.129163\n",
       "Cuisines              -0.062783\n",
       "Has Online delivery   -0.051356\n",
       "Votes                  0.195990\n",
       "Has Table booking      0.255751\n",
       "Rating text            0.354226\n",
       "Aggregate rating       0.359378\n",
       "Currency               0.471398\n",
       "Price_range            0.592213\n",
       "Avg_Cost_for_Two       1.000000\n",
       "Name: Avg_Cost_for_Two, dtype: float64"
      ]
     },
     "execution_count": 35,
     "metadata": {},
     "output_type": "execute_result"
    }
   ],
   "source": [
    "df_imputed.corr()['Avg_Cost_for_Two'].sort_values()"
   ]
  },
  {
   "cell_type": "code",
   "execution_count": 36,
   "id": "c4937077",
   "metadata": {},
   "outputs": [
    {
     "data": {
      "image/png": "[encoded data removed]",
      "text/plain": [
       "<Figure size 864x576 with 1 Axes>"
      ]
     },
     "metadata": {
      "needs_background": "light"
     },
     "output_type": "display_data"
    }
   ],
   "source": [
    "plt.figure(figsize=(12,8))\n",
    "df_imputed.corr()['Avg_Cost_for_Two'].sort_values().plot(kind='bar')\n",
    "plt.xlabel('Features')\n",
    "plt.title('Correlation with target')\n",
    "plt.show()"
   ]
  },
  {
   "cell_type": "markdown",
   "id": "9010bff0",
   "metadata": {},
   "source": [
    "As per observation, Currency feature has high coorelation with target variable, which is True for dataset."
   ]
  },
  {
   "cell_type": "code",
   "execution_count": 37,
   "id": "dc57147f",
   "metadata": {},
   "outputs": [
    {
     "data": {
      "text/plain": [
       "Latitude              -4.592841\n",
       "Longitude             -3.522052\n",
       "Cuisines              -0.304490\n",
       "Rating text           -0.095149\n",
       "Aggregate rating      -0.075526\n",
       "Price_range            0.889618\n",
       "Has Online delivery    1.114620\n",
       "Has Table booking      2.321100\n",
       "Currency               3.615755\n",
       "Votes                  8.635862\n",
       "dtype: float64"
      ]
     },
     "execution_count": 37,
     "metadata": {},
     "output_type": "execute_result"
    }
   ],
   "source": [
    "x=df_imputed.drop(columns='Avg_Cost_for_Two')\n",
    "y=df_imputed.Avg_Cost_for_Two\n",
    "x.skew().sort_values()"
   ]
  },
  {
   "cell_type": "markdown",
   "id": "c4090a90",
   "metadata": {},
   "source": [
    "Dataset is very skewed, let's try to handle this or save it."
   ]
  },
  {
   "cell_type": "markdown",
   "id": "33ec90db",
   "metadata": {},
   "source": [
    "## Now use PowerTransformation method to save our skewed data."
   ]
  },
  {
   "cell_type": "code",
   "execution_count": 38,
   "id": "9c142ec0",
   "metadata": {},
   "outputs": [
    {
     "data": {
      "text/plain": [
       "Cuisines              -0.381775\n",
       "Rating text           -0.176398\n",
       "Currency              -0.076935\n",
       "Aggregate rating      -0.067948\n",
       "Longitude             -0.013581\n",
       "Price_range            0.182963\n",
       "Latitude               0.856299\n",
       "Has Online delivery    1.114620\n",
       "Votes                  1.936798\n",
       "Has Table booking      2.321100\n",
       "dtype: float64"
      ]
     },
     "execution_count": 38,
     "metadata": {},
     "output_type": "execute_result"
    }
   ],
   "source": [
    "from sklearn.preprocessing import PowerTransformer\n",
    "\n",
    "df_pt = PowerTransformer()\n",
    "df_pw = pd.DataFrame(df_pt.fit_transform(x),columns=x.columns)\n",
    "df_pw.skew().sort_values()"
   ]
  },
  {
   "cell_type": "markdown",
   "id": "0048cff7",
   "metadata": {},
   "source": [
    "Using power transformation, most of skewness has removed"
   ]
  },
  {
   "cell_type": "markdown",
   "id": "eb7c7bcd",
   "metadata": {},
   "source": [
    "## Now remove remaining outliers using z-score technique."
   ]
  },
  {
   "cell_type": "code",
   "execution_count": 39,
   "id": "fad7ac69",
   "metadata": {},
   "outputs": [
    {
     "data": {
      "text/plain": [
       "(array([   9,   58,  134,  394,  460,  522,  634,  728,  806,  928,  956,\n",
       "        1146, 1160, 1253, 1283, 1323, 1387, 1390, 1406, 1485, 1571, 1617,\n",
       "        1667, 1692, 1721, 1758, 1777, 1792, 1914, 1945, 2137, 2470, 2475,\n",
       "        2574, 2579, 2583, 2818, 2967, 3009, 3013, 3076, 3116, 3215, 3246,\n",
       "        3275, 3359, 3415, 3523, 3526, 3557, 3573, 3622, 3778, 3794, 3826,\n",
       "        3838, 3878, 4048, 4052, 4078, 4087, 4118, 4247, 4356, 4360, 4419,\n",
       "        4442, 4467, 4519, 4742, 4775, 4914, 4915, 4958, 4962, 5096, 5204,\n",
       "        5206, 5318, 5411, 5472, 5525, 5653, 5768, 5922, 5934, 6032, 6068,\n",
       "        6155, 6310, 6339, 6430, 6582, 6601, 6610, 6701, 6933, 7004, 7034,\n",
       "        7116, 7322, 7343, 7373, 7407, 7418, 7639, 7705, 7797, 7943, 8004,\n",
       "        8066, 8127, 8129, 8160, 8254, 8318, 8387, 8441, 8615, 8645, 8702,\n",
       "        8717, 8797, 8811, 8834, 8925, 8998, 9127, 9238, 9240, 9247, 9285,\n",
       "        9469, 9481, 9523, 9541], dtype=int64),)"
      ]
     },
     "execution_count": 39,
     "metadata": {},
     "output_type": "execute_result"
    }
   ],
   "source": [
    "from scipy.stats import zscore\n",
    "z=np.abs(zscore(df_pw['Votes']))\n",
    "threshold=3\n",
    "outliers_df=np.where(z>3)\n",
    "outliers_df"
   ]
  },
  {
   "cell_type": "code",
   "execution_count": 40,
   "id": "e0c05e43",
   "metadata": {},
   "outputs": [
    {
     "name": "stdout",
     "output_type": "stream",
     "text": [
      "percentage of loss of data by zscore is : 1.4239346665270654\n"
     ]
    }
   ],
   "source": [
    "df_new = df_imputed.drop(df_imputed.index[outliers_df[0]])\n",
    "\n",
    "print('percentage of loss of data by zscore is :',((df.shape[0]-df_new.shape[0])/df.shape[0])*100)"
   ]
  },
  {
   "cell_type": "markdown",
   "id": "587946f3",
   "metadata": {},
   "source": [
    "Very less data, we have loss using z-score method, let's proceed further."
   ]
  },
  {
   "cell_type": "code",
   "execution_count": 41,
   "id": "75e84a6c",
   "metadata": {},
   "outputs": [
    {
     "data": {
      "text/html": [
       "<div>\n",
       "<style scoped>\n",
       "    .dataframe tbody tr th:only-of-type {\n",
       "        vertical-align: middle;\n",
       "    }\n",
       "\n",
       "    .dataframe tbody tr th {\n",
       "        vertical-align: top;\n",
       "    }\n",
       "\n",
       "    .dataframe thead th {\n",
       "        text-align: right;\n",
       "    }\n",
       "</style>\n",
       "<table border=\"1\" class=\"dataframe\">\n",
       "  <thead>\n",
       "    <tr style=\"text-align: right;\">\n",
       "      <th></th>\n",
       "      <th>Longitude</th>\n",
       "      <th>Latitude</th>\n",
       "      <th>Cuisines</th>\n",
       "      <th>Avg_Cost_for_Two</th>\n",
       "      <th>Currency</th>\n",
       "      <th>Has Table booking</th>\n",
       "      <th>Has Online delivery</th>\n",
       "      <th>Price_range</th>\n",
       "      <th>Aggregate rating</th>\n",
       "      <th>Rating text</th>\n",
       "      <th>Votes</th>\n",
       "    </tr>\n",
       "  </thead>\n",
       "  <tbody>\n",
       "    <tr>\n",
       "      <th>0</th>\n",
       "      <td>77.286341</td>\n",
       "      <td>28.636842</td>\n",
       "      <td>774.0</td>\n",
       "      <td>250.0</td>\n",
       "      <td>1.0</td>\n",
       "      <td>0.0</td>\n",
       "      <td>1.0</td>\n",
       "      <td>1.0</td>\n",
       "      <td>3.000000</td>\n",
       "      <td>2.0</td>\n",
       "      <td>38.000000</td>\n",
       "    </tr>\n",
       "    <tr>\n",
       "      <th>1</th>\n",
       "      <td>77.211221</td>\n",
       "      <td>28.536404</td>\n",
       "      <td>394.0</td>\n",
       "      <td>300.0</td>\n",
       "      <td>1.0</td>\n",
       "      <td>0.0</td>\n",
       "      <td>1.0</td>\n",
       "      <td>1.0</td>\n",
       "      <td>4.300000</td>\n",
       "      <td>4.0</td>\n",
       "      <td>126.000000</td>\n",
       "    </tr>\n",
       "    <tr>\n",
       "      <th>2</th>\n",
       "      <td>76.971183</td>\n",
       "      <td>28.610200</td>\n",
       "      <td>1329.0</td>\n",
       "      <td>300.0</td>\n",
       "      <td>1.0</td>\n",
       "      <td>0.0</td>\n",
       "      <td>0.0</td>\n",
       "      <td>1.0</td>\n",
       "      <td>1.976569</td>\n",
       "      <td>0.0</td>\n",
       "      <td>-79.887008</td>\n",
       "    </tr>\n",
       "    <tr>\n",
       "      <th>3</th>\n",
       "      <td>77.202970</td>\n",
       "      <td>28.695624</td>\n",
       "      <td>1333.0</td>\n",
       "      <td>700.0</td>\n",
       "      <td>1.0</td>\n",
       "      <td>1.0</td>\n",
       "      <td>1.0</td>\n",
       "      <td>2.0</td>\n",
       "      <td>4.100000</td>\n",
       "      <td>4.0</td>\n",
       "      <td>1384.000000</td>\n",
       "    </tr>\n",
       "    <tr>\n",
       "      <th>4</th>\n",
       "      <td>83.319840</td>\n",
       "      <td>17.712662</td>\n",
       "      <td>1279.0</td>\n",
       "      <td>500.0</td>\n",
       "      <td>1.0</td>\n",
       "      <td>0.0</td>\n",
       "      <td>0.0</td>\n",
       "      <td>2.0</td>\n",
       "      <td>3.600000</td>\n",
       "      <td>3.0</td>\n",
       "      <td>84.000000</td>\n",
       "    </tr>\n",
       "    <tr>\n",
       "      <th>...</th>\n",
       "      <td>...</td>\n",
       "      <td>...</td>\n",
       "      <td>...</td>\n",
       "      <td>...</td>\n",
       "      <td>...</td>\n",
       "      <td>...</td>\n",
       "      <td>...</td>\n",
       "      <td>...</td>\n",
       "      <td>...</td>\n",
       "      <td>...</td>\n",
       "      <td>...</td>\n",
       "    </tr>\n",
       "    <tr>\n",
       "      <th>9546</th>\n",
       "      <td>77.234184</td>\n",
       "      <td>28.551072</td>\n",
       "      <td>828.0</td>\n",
       "      <td>300.0</td>\n",
       "      <td>1.0</td>\n",
       "      <td>0.0</td>\n",
       "      <td>1.0</td>\n",
       "      <td>1.0</td>\n",
       "      <td>3.300000</td>\n",
       "      <td>2.0</td>\n",
       "      <td>70.000000</td>\n",
       "    </tr>\n",
       "    <tr>\n",
       "      <th>9547</th>\n",
       "      <td>77.163888</td>\n",
       "      <td>28.557200</td>\n",
       "      <td>1329.0</td>\n",
       "      <td>1000.0</td>\n",
       "      <td>1.0</td>\n",
       "      <td>1.0</td>\n",
       "      <td>1.0</td>\n",
       "      <td>3.0</td>\n",
       "      <td>3.500000</td>\n",
       "      <td>3.0</td>\n",
       "      <td>193.000000</td>\n",
       "    </tr>\n",
       "    <tr>\n",
       "      <th>9548</th>\n",
       "      <td>75.358977</td>\n",
       "      <td>27.111391</td>\n",
       "      <td>177.0</td>\n",
       "      <td>500.0</td>\n",
       "      <td>1.0</td>\n",
       "      <td>0.0</td>\n",
       "      <td>0.0</td>\n",
       "      <td>2.0</td>\n",
       "      <td>3.400000</td>\n",
       "      <td>2.0</td>\n",
       "      <td>35.000000</td>\n",
       "    </tr>\n",
       "    <tr>\n",
       "      <th>9549</th>\n",
       "      <td>77.385014</td>\n",
       "      <td>28.528405</td>\n",
       "      <td>1520.0</td>\n",
       "      <td>800.0</td>\n",
       "      <td>1.0</td>\n",
       "      <td>0.0</td>\n",
       "      <td>1.0</td>\n",
       "      <td>2.0</td>\n",
       "      <td>3.400000</td>\n",
       "      <td>2.0</td>\n",
       "      <td>13.000000</td>\n",
       "    </tr>\n",
       "    <tr>\n",
       "      <th>9550</th>\n",
       "      <td>77.155585</td>\n",
       "      <td>28.683435</td>\n",
       "      <td>518.0</td>\n",
       "      <td>250.0</td>\n",
       "      <td>1.0</td>\n",
       "      <td>0.0</td>\n",
       "      <td>0.0</td>\n",
       "      <td>1.0</td>\n",
       "      <td>1.998651</td>\n",
       "      <td>0.0</td>\n",
       "      <td>-83.577153</td>\n",
       "    </tr>\n",
       "  </tbody>\n",
       "</table>\n",
       "<p>9415 rows × 11 columns</p>\n",
       "</div>"
      ],
      "text/plain": [
       "      Longitude   Latitude  Cuisines  Avg_Cost_for_Two  Currency  \\\n",
       "0     77.286341  28.636842     774.0             250.0       1.0   \n",
       "1     77.211221  28.536404     394.0             300.0       1.0   \n",
       "2     76.971183  28.610200    1329.0             300.0       1.0   \n",
       "3     77.202970  28.695624    1333.0             700.0       1.0   \n",
       "4     83.319840  17.712662    1279.0             500.0       1.0   \n",
       "...         ...        ...       ...               ...       ...   \n",
       "9546  77.234184  28.551072     828.0             300.0       1.0   \n",
       "9547  77.163888  28.557200    1329.0            1000.0       1.0   \n",
       "9548  75.358977  27.111391     177.0             500.0       1.0   \n",
       "9549  77.385014  28.528405    1520.0             800.0       1.0   \n",
       "9550  77.155585  28.683435     518.0             250.0       1.0   \n",
       "\n",
       "      Has Table booking  Has Online delivery  Price_range  Aggregate rating  \\\n",
       "0                   0.0                  1.0          1.0          3.000000   \n",
       "1                   0.0                  1.0          1.0          4.300000   \n",
       "2                   0.0                  0.0          1.0          1.976569   \n",
       "3                   1.0                  1.0          2.0          4.100000   \n",
       "4                   0.0                  0.0          2.0          3.600000   \n",
       "...                 ...                  ...          ...               ...   \n",
       "9546                0.0                  1.0          1.0          3.300000   \n",
       "9547                1.0                  1.0          3.0          3.500000   \n",
       "9548                0.0                  0.0          2.0          3.400000   \n",
       "9549                0.0                  1.0          2.0          3.400000   \n",
       "9550                0.0                  0.0          1.0          1.998651   \n",
       "\n",
       "      Rating text        Votes  \n",
       "0             2.0    38.000000  \n",
       "1             4.0   126.000000  \n",
       "2             0.0   -79.887008  \n",
       "3             4.0  1384.000000  \n",
       "4             3.0    84.000000  \n",
       "...           ...          ...  \n",
       "9546          2.0    70.000000  \n",
       "9547          3.0   193.000000  \n",
       "9548          2.0    35.000000  \n",
       "9549          2.0    13.000000  \n",
       "9550          0.0   -83.577153  \n",
       "\n",
       "[9415 rows x 11 columns]"
      ]
     },
     "execution_count": 41,
     "metadata": {},
     "output_type": "execute_result"
    }
   ],
   "source": [
    "df_new"
   ]
  },
  {
   "cell_type": "code",
   "execution_count": 42,
   "id": "d08f26ec",
   "metadata": {},
   "outputs": [],
   "source": [
    "x_new=df_new.drop(columns='Avg_Cost_for_Two')\n",
    "y_new=df_new.Avg_Cost_for_Two"
   ]
  },
  {
   "cell_type": "code",
   "execution_count": null,
   "id": "b81a9dfb",
   "metadata": {},
   "outputs": [],
   "source": []
  },
  {
   "cell_type": "markdown",
   "id": "92207ef5",
   "metadata": {},
   "source": [
    "## Data Scaling using Standard Scaler"
   ]
  },
  {
   "cell_type": "code",
   "execution_count": 43,
   "id": "dc2e99b9",
   "metadata": {},
   "outputs": [
    {
     "data": {
      "text/html": [
       "<div>\n",
       "<style scoped>\n",
       "    .dataframe tbody tr th:only-of-type {\n",
       "        vertical-align: middle;\n",
       "    }\n",
       "\n",
       "    .dataframe tbody tr th {\n",
       "        vertical-align: top;\n",
       "    }\n",
       "\n",
       "    .dataframe thead th {\n",
       "        text-align: right;\n",
       "    }\n",
       "</style>\n",
       "<table border=\"1\" class=\"dataframe\">\n",
       "  <thead>\n",
       "    <tr style=\"text-align: right;\">\n",
       "      <th></th>\n",
       "      <th>Longitude</th>\n",
       "      <th>Latitude</th>\n",
       "      <th>Cuisines</th>\n",
       "      <th>Currency</th>\n",
       "      <th>Has Table booking</th>\n",
       "      <th>Has Online delivery</th>\n",
       "      <th>Price_range</th>\n",
       "      <th>Aggregate rating</th>\n",
       "      <th>Rating text</th>\n",
       "      <th>Votes</th>\n",
       "    </tr>\n",
       "  </thead>\n",
       "  <tbody>\n",
       "    <tr>\n",
       "      <th>0</th>\n",
       "      <td>0.238118</td>\n",
       "      <td>0.141452</td>\n",
       "      <td>-0.417792</td>\n",
       "      <td>-0.270674</td>\n",
       "      <td>-0.365774</td>\n",
       "      <td>1.707267</td>\n",
       "      <td>-0.878585</td>\n",
       "      <td>-0.124298</td>\n",
       "      <td>-0.031937</td>\n",
       "      <td>-0.317934</td>\n",
       "    </tr>\n",
       "    <tr>\n",
       "      <th>1</th>\n",
       "      <td>0.236168</td>\n",
       "      <td>0.130555</td>\n",
       "      <td>-1.156816</td>\n",
       "      <td>-0.270674</td>\n",
       "      <td>-0.365774</td>\n",
       "      <td>1.707267</td>\n",
       "      <td>-0.878585</td>\n",
       "      <td>1.559589</td>\n",
       "      <td>1.445650</td>\n",
       "      <td>0.063791</td>\n",
       "    </tr>\n",
       "    <tr>\n",
       "      <th>2</th>\n",
       "      <td>0.229935</td>\n",
       "      <td>0.138562</td>\n",
       "      <td>0.661572</td>\n",
       "      <td>-0.270674</td>\n",
       "      <td>-0.365774</td>\n",
       "      <td>-0.585731</td>\n",
       "      <td>-0.878585</td>\n",
       "      <td>-1.449945</td>\n",
       "      <td>-1.509524</td>\n",
       "      <td>-0.829302</td>\n",
       "    </tr>\n",
       "    <tr>\n",
       "      <th>3</th>\n",
       "      <td>0.235953</td>\n",
       "      <td>0.147830</td>\n",
       "      <td>0.669351</td>\n",
       "      <td>-0.270674</td>\n",
       "      <td>2.733925</td>\n",
       "      <td>1.707267</td>\n",
       "      <td>0.236073</td>\n",
       "      <td>1.300529</td>\n",
       "      <td>1.445650</td>\n",
       "      <td>5.520725</td>\n",
       "    </tr>\n",
       "    <tr>\n",
       "      <th>4</th>\n",
       "      <td>0.394771</td>\n",
       "      <td>-1.043798</td>\n",
       "      <td>0.564332</td>\n",
       "      <td>-0.270674</td>\n",
       "      <td>-0.365774</td>\n",
       "      <td>-0.585731</td>\n",
       "      <td>0.236073</td>\n",
       "      <td>0.652880</td>\n",
       "      <td>0.706856</td>\n",
       "      <td>-0.118396</td>\n",
       "    </tr>\n",
       "    <tr>\n",
       "      <th>...</th>\n",
       "      <td>...</td>\n",
       "      <td>...</td>\n",
       "      <td>...</td>\n",
       "      <td>...</td>\n",
       "      <td>...</td>\n",
       "      <td>...</td>\n",
       "      <td>...</td>\n",
       "      <td>...</td>\n",
       "      <td>...</td>\n",
       "      <td>...</td>\n",
       "    </tr>\n",
       "    <tr>\n",
       "      <th>9410</th>\n",
       "      <td>0.236764</td>\n",
       "      <td>0.132146</td>\n",
       "      <td>-0.312773</td>\n",
       "      <td>-0.270674</td>\n",
       "      <td>-0.365774</td>\n",
       "      <td>1.707267</td>\n",
       "      <td>-0.878585</td>\n",
       "      <td>0.264291</td>\n",
       "      <td>-0.031937</td>\n",
       "      <td>-0.179125</td>\n",
       "    </tr>\n",
       "    <tr>\n",
       "      <th>9411</th>\n",
       "      <td>0.234939</td>\n",
       "      <td>0.132811</td>\n",
       "      <td>0.661572</td>\n",
       "      <td>-0.270674</td>\n",
       "      <td>2.733925</td>\n",
       "      <td>1.707267</td>\n",
       "      <td>1.350731</td>\n",
       "      <td>0.523351</td>\n",
       "      <td>0.706856</td>\n",
       "      <td>0.354423</td>\n",
       "    </tr>\n",
       "    <tr>\n",
       "      <th>9412</th>\n",
       "      <td>0.188076</td>\n",
       "      <td>-0.024056</td>\n",
       "      <td>-1.578838</td>\n",
       "      <td>-0.270674</td>\n",
       "      <td>-0.365774</td>\n",
       "      <td>-0.585731</td>\n",
       "      <td>0.236073</td>\n",
       "      <td>0.393821</td>\n",
       "      <td>-0.031937</td>\n",
       "      <td>-0.330947</td>\n",
       "    </tr>\n",
       "    <tr>\n",
       "      <th>9413</th>\n",
       "      <td>0.240680</td>\n",
       "      <td>0.129687</td>\n",
       "      <td>1.033029</td>\n",
       "      <td>-0.270674</td>\n",
       "      <td>-0.365774</td>\n",
       "      <td>1.707267</td>\n",
       "      <td>0.236073</td>\n",
       "      <td>0.393821</td>\n",
       "      <td>-0.031937</td>\n",
       "      <td>-0.426378</td>\n",
       "    </tr>\n",
       "    <tr>\n",
       "      <th>9414</th>\n",
       "      <td>0.234723</td>\n",
       "      <td>0.146508</td>\n",
       "      <td>-0.915661</td>\n",
       "      <td>-0.270674</td>\n",
       "      <td>-0.365774</td>\n",
       "      <td>-0.585731</td>\n",
       "      <td>-0.878585</td>\n",
       "      <td>-1.421342</td>\n",
       "      <td>-1.509524</td>\n",
       "      <td>-0.845309</td>\n",
       "    </tr>\n",
       "  </tbody>\n",
       "</table>\n",
       "<p>9415 rows × 10 columns</p>\n",
       "</div>"
      ],
      "text/plain": [
       "      Longitude  Latitude  Cuisines  Currency  Has Table booking  \\\n",
       "0      0.238118  0.141452 -0.417792 -0.270674          -0.365774   \n",
       "1      0.236168  0.130555 -1.156816 -0.270674          -0.365774   \n",
       "2      0.229935  0.138562  0.661572 -0.270674          -0.365774   \n",
       "3      0.235953  0.147830  0.669351 -0.270674           2.733925   \n",
       "4      0.394771 -1.043798  0.564332 -0.270674          -0.365774   \n",
       "...         ...       ...       ...       ...                ...   \n",
       "9410   0.236764  0.132146 -0.312773 -0.270674          -0.365774   \n",
       "9411   0.234939  0.132811  0.661572 -0.270674           2.733925   \n",
       "9412   0.188076 -0.024056 -1.578838 -0.270674          -0.365774   \n",
       "9413   0.240680  0.129687  1.033029 -0.270674          -0.365774   \n",
       "9414   0.234723  0.146508 -0.915661 -0.270674          -0.365774   \n",
       "\n",
       "      Has Online delivery  Price_range  Aggregate rating  Rating text  \\\n",
       "0                1.707267    -0.878585         -0.124298    -0.031937   \n",
       "1                1.707267    -0.878585          1.559589     1.445650   \n",
       "2               -0.585731    -0.878585         -1.449945    -1.509524   \n",
       "3                1.707267     0.236073          1.300529     1.445650   \n",
       "4               -0.585731     0.236073          0.652880     0.706856   \n",
       "...                   ...          ...               ...          ...   \n",
       "9410             1.707267    -0.878585          0.264291    -0.031937   \n",
       "9411             1.707267     1.350731          0.523351     0.706856   \n",
       "9412            -0.585731     0.236073          0.393821    -0.031937   \n",
       "9413             1.707267     0.236073          0.393821    -0.031937   \n",
       "9414            -0.585731    -0.878585         -1.421342    -1.509524   \n",
       "\n",
       "         Votes  \n",
       "0    -0.317934  \n",
       "1     0.063791  \n",
       "2    -0.829302  \n",
       "3     5.520725  \n",
       "4    -0.118396  \n",
       "...        ...  \n",
       "9410 -0.179125  \n",
       "9411  0.354423  \n",
       "9412 -0.330947  \n",
       "9413 -0.426378  \n",
       "9414 -0.845309  \n",
       "\n",
       "[9415 rows x 10 columns]"
      ]
     },
     "execution_count": 43,
     "metadata": {},
     "output_type": "execute_result"
    }
   ],
   "source": [
    "from sklearn.preprocessing import StandardScaler\n",
    "scaler = StandardScaler()\n",
    "x_scaled = pd.DataFrame(scaler.fit_transform(x_new),columns=x_new.columns)\n",
    "x_scaled"
   ]
  },
  {
   "cell_type": "markdown",
   "id": "0f7f119c",
   "metadata": {},
   "source": [
    "## PCA : Principal Component Analysis"
   ]
  },
  {
   "cell_type": "code",
   "execution_count": 44,
   "id": "ab567142",
   "metadata": {},
   "outputs": [
    {
     "name": "stdout",
     "output_type": "stream",
     "text": [
      "                     PC1   PC2   PC3   PC4   PC5   PC6   PC7   PC8   PC9  PC10\n",
      "Explained_Variance  3.28  1.85  1.13  1.08  0.91  0.65  0.53  0.36  0.19  0.03\n"
     ]
    },
    {
     "data": {
      "image/png": "[encoded data removed]",
      "text/plain": [
       "<Figure size 1440x720 with 1 Axes>"
      ]
     },
     "metadata": {
      "needs_background": "light"
     },
     "output_type": "display_data"
    }
   ],
   "source": [
    "# Performing PCA\n",
    "from sklearn.decomposition import PCA\n",
    "\n",
    "pca = PCA(random_state = 1)\n",
    "pca.fit(x_scaled)\n",
    "var_exp = pca.explained_variance_ratio_\n",
    "cum_var_exp = np.cumsum(var_exp)\n",
    "var_df = pd.DataFrame(pca.explained_variance_.round(2), index=[\"PC\" + str(i) for i in range(1,11)],\n",
    "                      columns=[\"Explained_Variance\"])\n",
    "print(var_df.T)\n",
    "plt.figure(figsize=(20,10))\n",
    "plt.bar(range(1,len(cum_var_exp)+1), var_exp, align= 'center', label= 'individual variance', color='teal', alpha = 0.8)\n",
    "plt.step(range(1,len(cum_var_exp)+1), cum_var_exp, where = 'mid' , label= 'cumulative variance', color='red')\n",
    "plt.ylabel('Explained variance ratio')\n",
    "plt.xlabel('Principal components')\n",
    "plt.xticks(np.arange(1,len(var_exp)+1,1))\n",
    "plt.legend(loc='center right')\n",
    "plt.show()"
   ]
  },
  {
   "cell_type": "code",
   "execution_count": 45,
   "id": "be28a4b0",
   "metadata": {},
   "outputs": [],
   "source": [
    "pca_red = PCA(n_components=9)\n",
    "X_reduced = pca_red.fit_transform(x_scaled)"
   ]
  },
  {
   "cell_type": "markdown",
   "id": "8fbdd878",
   "metadata": {},
   "source": [
    "As per PCA observation the first 9 components account for above 99% of the total explained variance. The dataset can reduced with 9 components and proceed further."
   ]
  },
  {
   "cell_type": "code",
   "execution_count": 46,
   "id": "36556a19",
   "metadata": {},
   "outputs": [],
   "source": [
    "X=X_reduced\n",
    "y=y_new"
   ]
  },
  {
   "cell_type": "markdown",
   "id": "e6cc6cc7",
   "metadata": {},
   "source": [
    "## Regression Model Development"
   ]
  },
  {
   "cell_type": "code",
   "execution_count": 47,
   "id": "f6e47fba",
   "metadata": {},
   "outputs": [],
   "source": [
    "#import the necessary model algos.\n",
    "#regression\n",
    "from sklearn.linear_model import LinearRegression,Ridge,Lasso,RidgeCV,LassoCV, SGDRegressor\n",
    "from sklearn.neighbors import KNeighborsRegressor\n",
    "from sklearn.ensemble import RandomForestRegressor\n",
    "from sklearn.tree import DecisionTreeRegressor\n",
    "from sklearn.svm import SVR\n",
    "from sklearn.ensemble import BaggingRegressor,GradientBoostingRegressor,AdaBoostRegressor\n",
    "from xgboost import XGBRegressor\n",
    "\n",
    "#model selection\n",
    "from sklearn.model_selection import train_test_split,cross_val_score\n",
    "from sklearn.model_selection import KFold\n",
    "\n",
    "#evaluation metrics\n",
    "from sklearn.metrics import r2_score"
   ]
  },
  {
   "cell_type": "code",
   "execution_count": 48,
   "id": "46449ec8",
   "metadata": {},
   "outputs": [],
   "source": [
    "LR = LinearRegression()\n",
    "LSO= Lasso()\n",
    "RIG= Ridge()\n",
    "KNNR= KNeighborsRegressor()\n",
    "RFR = RandomForestRegressor()\n",
    "DTR = DecisionTreeRegressor()\n",
    "SVr = SVR()\n",
    "BAGR= BaggingRegressor()\n",
    "GRAR= GradientBoostingRegressor()\n",
    "ADAR= AdaBoostRegressor()\n",
    "SGDR= SGDRegressor()\n",
    "XGBR= XGBRegressor()"
   ]
  },
  {
   "cell_type": "code",
   "execution_count": 54,
   "id": "0a0e089f",
   "metadata": {},
   "outputs": [
    {
     "data": {
      "text/html": [
       "<div>\n",
       "<style scoped>\n",
       "    .dataframe tbody tr th:only-of-type {\n",
       "        vertical-align: middle;\n",
       "    }\n",
       "\n",
       "    .dataframe tbody tr th {\n",
       "        vertical-align: top;\n",
       "    }\n",
       "\n",
       "    .dataframe thead th {\n",
       "        text-align: right;\n",
       "    }\n",
       "</style>\n",
       "<table border=\"1\" class=\"dataframe\">\n",
       "  <thead>\n",
       "    <tr style=\"text-align: right;\">\n",
       "      <th></th>\n",
       "      <th>Model Name</th>\n",
       "      <th>Training Score:</th>\n",
       "      <th>Accuracy Score (without tuning)</th>\n",
       "    </tr>\n",
       "  </thead>\n",
       "  <tbody>\n",
       "    <tr>\n",
       "      <th>0</th>\n",
       "      <td>LR = LinearRegression()</td>\n",
       "      <td>50.28</td>\n",
       "      <td>69.31</td>\n",
       "    </tr>\n",
       "    <tr>\n",
       "      <th>1</th>\n",
       "      <td>LSO = Lasso()</td>\n",
       "      <td>50.28</td>\n",
       "      <td>69.19</td>\n",
       "    </tr>\n",
       "    <tr>\n",
       "      <th>2</th>\n",
       "      <td>RIG = Ridge()</td>\n",
       "      <td>50.28</td>\n",
       "      <td>69.30</td>\n",
       "    </tr>\n",
       "    <tr>\n",
       "      <th>3</th>\n",
       "      <td>KNNR = KNeighborsRegressor()</td>\n",
       "      <td>81.54</td>\n",
       "      <td>65.25</td>\n",
       "    </tr>\n",
       "    <tr>\n",
       "      <th>4</th>\n",
       "      <td>RFR = RandomForestRegressor()</td>\n",
       "      <td>97.53</td>\n",
       "      <td>79.33</td>\n",
       "    </tr>\n",
       "    <tr>\n",
       "      <th>5</th>\n",
       "      <td>DTR = DecisionTreeRegressor()</td>\n",
       "      <td>100.00</td>\n",
       "      <td>61.63</td>\n",
       "    </tr>\n",
       "    <tr>\n",
       "      <th>6</th>\n",
       "      <td>SVr = SVR()</td>\n",
       "      <td>11.62</td>\n",
       "      <td>-1170.42</td>\n",
       "    </tr>\n",
       "    <tr>\n",
       "      <th>7</th>\n",
       "      <td>BAGR = BaggingRegressor()</td>\n",
       "      <td>96.39</td>\n",
       "      <td>78.54</td>\n",
       "    </tr>\n",
       "    <tr>\n",
       "      <th>8</th>\n",
       "      <td>GRAR = GradientBoostingRegressor()</td>\n",
       "      <td>93.62</td>\n",
       "      <td>70.76</td>\n",
       "    </tr>\n",
       "    <tr>\n",
       "      <th>9</th>\n",
       "      <td>ADAR = AdaBoostRegressor()</td>\n",
       "      <td>2.40</td>\n",
       "      <td>-113.65</td>\n",
       "    </tr>\n",
       "    <tr>\n",
       "      <th>10</th>\n",
       "      <td>SGDR= SGDRegressor()</td>\n",
       "      <td>50.01</td>\n",
       "      <td>69.10</td>\n",
       "    </tr>\n",
       "    <tr>\n",
       "      <th>11</th>\n",
       "      <td>XGBR= XGBRegressor()</td>\n",
       "      <td>99.49</td>\n",
       "      <td>76.99</td>\n",
       "    </tr>\n",
       "  </tbody>\n",
       "</table>\n",
       "</div>"
      ],
      "text/plain": [
       "                            Model Name  Training Score:  \\\n",
       "0              LR = LinearRegression()            50.28   \n",
       "1                        LSO = Lasso()            50.28   \n",
       "2                        RIG = Ridge()            50.28   \n",
       "3         KNNR = KNeighborsRegressor()            81.54   \n",
       "4        RFR = RandomForestRegressor()            97.53   \n",
       "5        DTR = DecisionTreeRegressor()           100.00   \n",
       "6                          SVr = SVR()            11.62   \n",
       "7            BAGR = BaggingRegressor()            96.39   \n",
       "8   GRAR = GradientBoostingRegressor()            93.62   \n",
       "9           ADAR = AdaBoostRegressor()             2.40   \n",
       "10                SGDR= SGDRegressor()            50.01   \n",
       "11                XGBR= XGBRegressor()            99.49   \n",
       "\n",
       "    Accuracy Score (without tuning)  \n",
       "0                             69.31  \n",
       "1                             69.19  \n",
       "2                             69.30  \n",
       "3                             65.25  \n",
       "4                             79.33  \n",
       "5                             61.63  \n",
       "6                          -1170.42  \n",
       "7                             78.54  \n",
       "8                             70.76  \n",
       "9                           -113.65  \n",
       "10                            69.10  \n",
       "11                            76.99  "
      ]
     },
     "execution_count": 54,
     "metadata": {},
     "output_type": "execute_result"
    }
   ],
   "source": [
    "model=[LinearRegression(), Lasso(), Ridge(), KNeighborsRegressor(), RandomForestRegressor(), DecisionTreeRegressor(), SVR(), \n",
    "       BaggingRegressor(), GradientBoostingRegressor(), AdaBoostRegressor(), SGDRegressor(), XGBRegressor()]\n",
    "\n",
    "models=['LR = LinearRegression()','LSO = Lasso()', 'RIG = Ridge()', 'KNNR = KNeighborsRegressor()',\n",
    "        'RFR = RandomForestRegressor()', 'DTR = DecisionTreeRegressor()', 'SVr = SVR()', 'BAGR = BaggingRegressor()',\n",
    "        'GRAR = GradientBoostingRegressor()', 'ADAR = AdaBoostRegressor()', 'SGDR= SGDRegressor()', 'XGBR= XGBRegressor()' ]\n",
    "\n",
    "acc_result=[]\n",
    "train_result=[]\n",
    "\n",
    "x_train,x_test,y_train,y_test=train_test_split(X,y,test_size=0.20,random_state=804)\n",
    "\n",
    "for i in range(len(model)):\n",
    "    clf=model[i]\n",
    "    clf.fit(x_train,y_train)\n",
    "    \n",
    "    x_pred=clf.predict(x_train)\n",
    "    y_pred=clf.predict(x_test)\n",
    "    \n",
    "    train_result.append(round (r2_score(y_train,x_pred)*100,2))\n",
    "    acc_result.append(round (r2_score(y_pred,y_test)*100,2))\n",
    "\n",
    "Result_df=pd.DataFrame({'Model Name':models, 'Training Score:':train_result,'Accuracy Score (without tuning)':acc_result})\n",
    "Result_df"
   ]
  },
  {
   "cell_type": "markdown",
   "id": "d9870b3b",
   "metadata": {},
   "source": [
    "## 1.1 Linear Regression:"
   ]
  },
  {
   "cell_type": "code",
   "execution_count": 55,
   "id": "e2522132",
   "metadata": {},
   "outputs": [
    {
     "name": "stdout",
     "output_type": "stream",
     "text": [
      "Index of max vaule of train's accuracy_score at random_state: 978\n",
      "Index of max vaule of test's accuracy_score at random_state: 804\n"
     ]
    }
   ],
   "source": [
    "acc_train=[]\n",
    "acc_test=[]\n",
    "\n",
    "for i in range (0,1000):\n",
    "    x_train, x_test, y_train, y_test = train_test_split(X, y, test_size=0.20, random_state=i)\n",
    "    \n",
    "    lr = LinearRegression()\n",
    "    lr.fit(x_train,y_train)\n",
    "    \n",
    "    x_lr_predict=lr.predict(x_train)\n",
    "    y_lr_predict=lr.predict(x_test)\n",
    "    \n",
    "    acc_train.append(r2_score(y_train,x_lr_predict))\n",
    "    acc_test.append(r2_score(y_test,y_lr_predict))\n",
    "    \n",
    "\n",
    "acc_train_index= acc_train.index(max(acc_train))    \n",
    "print(\"Index of max vaule of train's accuracy_score at random_state:\",acc_train_index)\n",
    "\n",
    "acc_test_index= acc_test.index(max(acc_test))\n",
    "print(\"Index of max vaule of test's accuracy_score at random_state:\",acc_test_index)"
   ]
  },
  {
   "cell_type": "markdown",
   "id": "687d3451",
   "metadata": {},
   "source": [
    "Always choose best training score for random_state, because\n",
    "\n",
    "1. if training score >= testing score ==> chance of best fit or undetfit\n",
    "2. if training score << testing score ==> overfit\n",
    "3. if training score >> testing score ==> undetfit"
   ]
  },
  {
   "cell_type": "code",
   "execution_count": 56,
   "id": "962dd9b4",
   "metadata": {},
   "outputs": [
    {
     "name": "stdout",
     "output_type": "stream",
     "text": [
      "The training accurancy @ 804 state is: 0.5028253373086645\n",
      "The testing accurancy @ 804 state is: 0.7271622615749924\n"
     ]
    }
   ],
   "source": [
    "x_train, x_test, y_train, y_test = train_test_split(X, y, test_size=0.20, random_state=804)\n",
    "    \n",
    "lr.fit(x_train,y_train)\n",
    "x_lr_predict=lr.predict(x_train)\n",
    "y_lr_predict=lr.predict(x_test)\n",
    "    \n",
    "print (\"The training accurancy @ 804 state is:\",r2_score(y_train,x_lr_predict))\n",
    "print (\"The testing accurancy @ 804 state is:\",r2_score(y_test,y_lr_predict))"
   ]
  },
  {
   "cell_type": "code",
   "execution_count": 57,
   "id": "6dc697fc",
   "metadata": {},
   "outputs": [
    {
     "name": "stdout",
     "output_type": "stream",
     "text": [
      "At Cross fold 2 the cv score is 0.5855054234542199 \n",
      "  accuracy score for training is 0.5028253373086645 \n",
      "& accuracy for testing is 0.7271622615749924\n",
      "\n",
      "\n",
      "At Cross fold 3 the cv score is 0.5855054234542199 \n",
      "  accuracy score for training is 0.5028253373086645 \n",
      "& accuracy for testing is 0.7271622615749924\n",
      "\n",
      "\n",
      "At Cross fold 4 the cv score is 0.5855054234542199 \n",
      "  accuracy score for training is 0.5028253373086645 \n",
      "& accuracy for testing is 0.7271622615749924\n",
      "\n",
      "\n",
      "At Cross fold 5 the cv score is 0.5855054234542199 \n",
      "  accuracy score for training is 0.5028253373086645 \n",
      "& accuracy for testing is 0.7271622615749924\n",
      "\n",
      "\n",
      "At Cross fold 6 the cv score is 0.5855054234542199 \n",
      "  accuracy score for training is 0.5028253373086645 \n",
      "& accuracy for testing is 0.7271622615749924\n",
      "\n",
      "\n",
      "At Cross fold 7 the cv score is 0.5855054234542199 \n",
      "  accuracy score for training is 0.5028253373086645 \n",
      "& accuracy for testing is 0.7271622615749924\n",
      "\n",
      "\n",
      "At Cross fold 8 the cv score is 0.5855054234542199 \n",
      "  accuracy score for training is 0.5028253373086645 \n",
      "& accuracy for testing is 0.7271622615749924\n",
      "\n",
      "\n",
      "At Cross fold 9 the cv score is 0.5855054234542199 \n",
      "  accuracy score for training is 0.5028253373086645 \n",
      "& accuracy for testing is 0.7271622615749924\n",
      "\n",
      "\n"
     ]
    }
   ],
   "source": [
    "#Cross-Validation of the Model\n",
    "\n",
    "kford_val=KFold(n_splits=10,shuffle=False)\n",
    "\n",
    "Train_accuracy=r2_score(y_train,x_lr_predict)\n",
    "Test_accuracy =r2_score(y_test,y_lr_predict)\n",
    "\n",
    "from sklearn.model_selection import cross_val_score\n",
    "\n",
    "for i in range (2,10):\n",
    "    cv_score = cross_val_score(lr,X,y,cv=kford_val)\n",
    "    cv_mean = cv_score.mean()\n",
    "    print(\"At Cross fold\", i, \"the cv score is\", cv_mean, \"\\n  accuracy score for training is\", Train_accuracy,\n",
    "          \"\\n& accuracy for testing is\", Test_accuracy)\n",
    "    print(\"\\n\")"
   ]
  },
  {
   "cell_type": "markdown",
   "id": "292dd8ee",
   "metadata": {},
   "source": [
    "## 1.2 Lasso Regression:"
   ]
  },
  {
   "cell_type": "code",
   "execution_count": 58,
   "id": "56210c11",
   "metadata": {},
   "outputs": [
    {
     "data": {
      "text/plain": [
       "LassoCV(max_iter=100)"
      ]
     },
     "execution_count": 58,
     "metadata": {},
     "output_type": "execute_result"
    }
   ],
   "source": [
    "lasscv = LassoCV (alphas=None, max_iter= 100)\n",
    "lasscv.fit(x_train,y_train)"
   ]
  },
  {
   "cell_type": "code",
   "execution_count": 59,
   "id": "f6de9ce2",
   "metadata": {},
   "outputs": [
    {
     "data": {
      "text/plain": [
       "0.5028125616757921"
      ]
     },
     "execution_count": 59,
     "metadata": {},
     "output_type": "execute_result"
    }
   ],
   "source": [
    "# best alpha parameter\n",
    "alpha = lasscv.alpha_\n",
    "las = Lasso(alpha)\n",
    "las.fit(x_train,y_train)\n",
    "las.score(x_train,y_train)"
   ]
  },
  {
   "cell_type": "code",
   "execution_count": 60,
   "id": "252ac4a2",
   "metadata": {},
   "outputs": [
    {
     "data": {
      "text/plain": [
       "0.7280303003156006"
      ]
     },
     "execution_count": 60,
     "metadata": {},
     "output_type": "execute_result"
    }
   ],
   "source": [
    "y_las_predict=las.predict(x_test)\n",
    "r2_score(y_test,y_las_predict)"
   ]
  },
  {
   "cell_type": "code",
   "execution_count": 61,
   "id": "677ab07f",
   "metadata": {},
   "outputs": [
    {
     "data": {
      "text/plain": [
       "0.5861112417820776"
      ]
     },
     "execution_count": 61,
     "metadata": {},
     "output_type": "execute_result"
    }
   ],
   "source": [
    "cv_score=cross_val_score(las,X,y,cv=kford_val)\n",
    "cv_score.mean()"
   ]
  },
  {
   "cell_type": "markdown",
   "id": "0936ece6",
   "metadata": {},
   "source": [
    "## 1.3 Ridge Regression:"
   ]
  },
  {
   "cell_type": "code",
   "execution_count": 62,
   "id": "83a6b526",
   "metadata": {},
   "outputs": [
    {
     "data": {
      "text/plain": [
       "0.5028253369193818"
      ]
     },
     "execution_count": 62,
     "metadata": {},
     "output_type": "execute_result"
    }
   ],
   "source": [
    "ridgecv = RidgeCV(alphas = np.arange(0.001,0.1,0.01))\n",
    "ridgecv.fit(x_train,y_train)\n",
    "alpha = ridgecv.alpha_\n",
    "\n",
    "rig = Ridge (alpha)\n",
    "rig.fit(x_train,y_train)\n",
    "rig.score(x_train,y_train)"
   ]
  },
  {
   "cell_type": "code",
   "execution_count": 63,
   "id": "2f8f2c84",
   "metadata": {},
   "outputs": [
    {
     "data": {
      "text/plain": [
       "0.7271655309062677"
      ]
     },
     "execution_count": 63,
     "metadata": {},
     "output_type": "execute_result"
    }
   ],
   "source": [
    "y_rig_predict=rig.predict(x_test)\n",
    "r2_score(y_test,y_rig_predict)"
   ]
  },
  {
   "cell_type": "code",
   "execution_count": 64,
   "id": "defe9933",
   "metadata": {},
   "outputs": [
    {
     "data": {
      "text/plain": [
       "0.5855091869258422"
      ]
     },
     "execution_count": 64,
     "metadata": {},
     "output_type": "execute_result"
    }
   ],
   "source": [
    "cv_score=cross_val_score(rig,X,y,cv=kford_val)\n",
    "cv_score.mean()"
   ]
  },
  {
   "cell_type": "markdown",
   "id": "c61be7f6",
   "metadata": {},
   "source": [
    "## 1.4 KNeighbors Regressor:"
   ]
  },
  {
   "cell_type": "code",
   "execution_count": 65,
   "id": "33bad32d",
   "metadata": {},
   "outputs": [
    {
     "name": "stdout",
     "output_type": "stream",
     "text": [
      "R2 Score: 0.45864473532358885\n",
      "Cross validation: 0.6037459432212675\n"
     ]
    }
   ],
   "source": [
    "knnr=KNeighborsRegressor(n_neighbors = 10)\n",
    "knnr.fit(x_train,y_train)\n",
    "\n",
    "y_knnr_predict=knnr.predict(x_test)\n",
    "print('R2 Score:',r2_score(y_test,y_knnr_predict))\n",
    "\n",
    "cv_score=cross_val_score(knnr,X,y,cv=kford_val)\n",
    "print ('Cross validation:',cv_score.mean())"
   ]
  },
  {
   "cell_type": "markdown",
   "id": "e0ec2417",
   "metadata": {},
   "source": [
    "## 1.5 RandomForest Regression:"
   ]
  },
  {
   "cell_type": "code",
   "execution_count": 66,
   "id": "3c2f78d8",
   "metadata": {},
   "outputs": [
    {
     "name": "stdout",
     "output_type": "stream",
     "text": [
      "R2 Score: 0.7428272487007\n",
      "Cross validation: 0.8066634189555293\n"
     ]
    }
   ],
   "source": [
    "rfr=RandomForestRegressor(criterion='mse')\n",
    "\n",
    "rfr.fit(x_train,y_train)\n",
    "\n",
    "y_rfr_predict=rfr.predict(x_test)\n",
    "print('R2 Score:',r2_score(y_test,y_rfr_predict))\n",
    "\n",
    "cv_score=cross_val_score(rfr,X,y,cv=kford_val)\n",
    "print ('Cross validation:',cv_score.mean())"
   ]
  },
  {
   "cell_type": "markdown",
   "id": "6e1e89a9",
   "metadata": {},
   "source": [
    "## 1.6 Decision Tree Regression:"
   ]
  },
  {
   "cell_type": "code",
   "execution_count": 67,
   "id": "d3a9783b",
   "metadata": {},
   "outputs": [
    {
     "name": "stdout",
     "output_type": "stream",
     "text": [
      "R2 Score: 0.12991837718157995\n",
      "Cross validation: 0.6272552763947589\n"
     ]
    }
   ],
   "source": [
    "dtr=DecisionTreeRegressor(criterion='mse')\n",
    "\n",
    "dtr.fit(x_train,y_train)\n",
    "\n",
    "y_dtr_predict=dtr.predict(x_test)\n",
    "print('R2 Score:',r2_score(y_test,y_dtr_predict))\n",
    "\n",
    "cv_score=cross_val_score(dtr,X,y,cv=kford_val)\n",
    "print ('Cross validation:',cv_score.mean())"
   ]
  },
  {
   "cell_type": "markdown",
   "id": "8300dcef",
   "metadata": {},
   "source": [
    "## 1.7 SVR:"
   ]
  },
  {
   "cell_type": "code",
   "execution_count": 68,
   "id": "2326cf61",
   "metadata": {},
   "outputs": [
    {
     "name": "stdout",
     "output_type": "stream",
     "text": [
      "R2 Score: 0.20107422925682694\n",
      "Cross validation: 0.1672112800464271\n"
     ]
    }
   ],
   "source": [
    "svr=SVR(gamma='auto')\n",
    "\n",
    "svr.fit(x_train,y_train)\n",
    "\n",
    "y_svr_predict=svr.predict(x_test)\n",
    "print('R2 Score:',r2_score(y_test,y_svr_predict))\n",
    "\n",
    "cv_score=cross_val_score(svr,X,y,cv=kford_val)\n",
    "print ('Cross validation:',cv_score.mean())"
   ]
  },
  {
   "cell_type": "markdown",
   "id": "f6d0a61a",
   "metadata": {},
   "source": [
    "## 1.8 Bagging Regression:"
   ]
  },
  {
   "cell_type": "code",
   "execution_count": 69,
   "id": "b3977a79",
   "metadata": {},
   "outputs": [
    {
     "name": "stdout",
     "output_type": "stream",
     "text": [
      "R2 Score: 0.7749145968127433\n",
      "Cross validation: 0.788517629207435\n"
     ]
    }
   ],
   "source": [
    "bagr=BaggingRegressor(base_estimator=RandomForestRegressor())\n",
    "\n",
    "bagr.fit(x_train,y_train)\n",
    "\n",
    "y_bagr_predict=bagr.predict(x_test)\n",
    "print('R2 Score:',r2_score(y_test,y_bagr_predict))\n",
    "\n",
    "cv_score=cross_val_score(bagr,X,y,cv=kford_val)\n",
    "print ('Cross validation:',cv_score.mean())"
   ]
  },
  {
   "cell_type": "markdown",
   "id": "249d0d35",
   "metadata": {},
   "source": [
    "## 1.9 Gradient Boosting Regression:"
   ]
  },
  {
   "cell_type": "code",
   "execution_count": 70,
   "id": "b76a5504",
   "metadata": {},
   "outputs": [
    {
     "name": "stdout",
     "output_type": "stream",
     "text": [
      "R2 Score: 0.561066193359735\n",
      "Cross validation: 0.6704337192179094\n"
     ]
    }
   ],
   "source": [
    "grar=GradientBoostingRegressor(criterion='mse', n_estimators=10, learning_rate=1)\n",
    "\n",
    "grar.fit(x_train,y_train)\n",
    "\n",
    "y_grar_predict=grar.predict(x_test)\n",
    "print('R2 Score:',r2_score(y_test,y_grar_predict))\n",
    "\n",
    "cv_score=cross_val_score(grar,X,y,cv=kford_val)\n",
    "print ('Cross validation:',cv_score.mean())"
   ]
  },
  {
   "cell_type": "markdown",
   "id": "959fb8c2",
   "metadata": {},
   "source": [
    "## 1.10 AdaBoost Regression:"
   ]
  },
  {
   "cell_type": "code",
   "execution_count": 71,
   "id": "51c543ce",
   "metadata": {},
   "outputs": [
    {
     "name": "stdout",
     "output_type": "stream",
     "text": [
      "R2 Score: 0.7867696646980091\n",
      "Cross validation: 0.8174007380269916\n"
     ]
    }
   ],
   "source": [
    "adar=AdaBoostRegressor(base_estimator=BaggingRegressor(),learning_rate=0.01)\n",
    "\n",
    "adar.fit(x_train,y_train)\n",
    "\n",
    "y_adar_predict=adar.predict(x_test)\n",
    "print('R2 Score:',r2_score(y_test,y_adar_predict))\n",
    "\n",
    "cv_score=cross_val_score(adar,X,y,cv=kford_val)\n",
    "print ('Cross validation:',cv_score.mean())"
   ]
  },
  {
   "cell_type": "markdown",
   "id": "bd893c58",
   "metadata": {},
   "source": [
    "## 1.11 SGDRegressor:"
   ]
  },
  {
   "cell_type": "code",
   "execution_count": 72,
   "id": "f5d137c3",
   "metadata": {},
   "outputs": [
    {
     "name": "stdout",
     "output_type": "stream",
     "text": [
      "R2 Score: 0.7227308254227065\n",
      "Cross validation: 0.5882818174717778\n"
     ]
    }
   ],
   "source": [
    "sgdr=SGDRegressor(alpha=0.1)\n",
    "\n",
    "sgdr.fit(x_train,y_train)\n",
    "\n",
    "y_sgdr_predict=sgdr.predict(x_test)\n",
    "print('R2 Score:',r2_score(y_test,y_sgdr_predict))\n",
    "\n",
    "cv_score=cross_val_score(sgdr,X,y,cv=kford_val)\n",
    "print ('Cross validation:',cv_score.mean())"
   ]
  },
  {
   "cell_type": "markdown",
   "id": "b7d6a605",
   "metadata": {},
   "source": [
    "## 1.12 XGBRegressor:"
   ]
  },
  {
   "cell_type": "code",
   "execution_count": 73,
   "id": "55de11cd",
   "metadata": {},
   "outputs": [
    {
     "name": "stdout",
     "output_type": "stream",
     "text": [
      "R2 Score: 0.7867696646980091\n",
      "Cross validation: 0.6898087721685182\n"
     ]
    }
   ],
   "source": [
    "xgbr=XGBRegressor(n_estimators = 10, learning_rate = 1)\n",
    "\n",
    "xgbr.fit(x_train,y_train)\n",
    "\n",
    "y_xgbr_predict=adar.predict(x_test)\n",
    "print('R2 Score:',r2_score(y_test,y_xgbr_predict))\n",
    "\n",
    "cv_score=cross_val_score(xgbr,X,y,cv=kford_val)\n",
    "print ('Cross validation:',cv_score.mean())"
   ]
  },
  {
   "cell_type": "code",
   "execution_count": 74,
   "id": "0bdc2852",
   "metadata": {},
   "outputs": [
    {
     "data": {
      "text/html": [
       "<div>\n",
       "<style scoped>\n",
       "    .dataframe tbody tr th:only-of-type {\n",
       "        vertical-align: middle;\n",
       "    }\n",
       "\n",
       "    .dataframe tbody tr th {\n",
       "        vertical-align: top;\n",
       "    }\n",
       "\n",
       "    .dataframe thead th {\n",
       "        text-align: right;\n",
       "    }\n",
       "</style>\n",
       "<table border=\"1\" class=\"dataframe\">\n",
       "  <thead>\n",
       "    <tr style=\"text-align: right;\">\n",
       "      <th></th>\n",
       "      <th>Regressor</th>\n",
       "      <th>Accuracy Score (with tuning)</th>\n",
       "    </tr>\n",
       "  </thead>\n",
       "  <tbody>\n",
       "    <tr>\n",
       "      <th>0</th>\n",
       "      <td>lr = LinearRegression()</td>\n",
       "      <td>72.72</td>\n",
       "    </tr>\n",
       "    <tr>\n",
       "      <th>1</th>\n",
       "      <td>las = Lasso()</td>\n",
       "      <td>72.80</td>\n",
       "    </tr>\n",
       "    <tr>\n",
       "      <th>2</th>\n",
       "      <td>rig = Ridge()</td>\n",
       "      <td>72.72</td>\n",
       "    </tr>\n",
       "    <tr>\n",
       "      <th>3</th>\n",
       "      <td>knn = KNeighborsRegressor()</td>\n",
       "      <td>45.86</td>\n",
       "    </tr>\n",
       "    <tr>\n",
       "      <th>4</th>\n",
       "      <td>rf = RandomForestRegressor()</td>\n",
       "      <td>74.28</td>\n",
       "    </tr>\n",
       "    <tr>\n",
       "      <th>5</th>\n",
       "      <td>dt = DecisionTreeRegressor()</td>\n",
       "      <td>12.99</td>\n",
       "    </tr>\n",
       "    <tr>\n",
       "      <th>6</th>\n",
       "      <td>svr = SVR()</td>\n",
       "      <td>20.11</td>\n",
       "    </tr>\n",
       "    <tr>\n",
       "      <th>7</th>\n",
       "      <td>bag = BaggingRegressor()</td>\n",
       "      <td>77.49</td>\n",
       "    </tr>\n",
       "    <tr>\n",
       "      <th>8</th>\n",
       "      <td>gra = GradientBoostingRegressor()</td>\n",
       "      <td>56.11</td>\n",
       "    </tr>\n",
       "    <tr>\n",
       "      <th>9</th>\n",
       "      <td>adar = AdaBoostRegressor()</td>\n",
       "      <td>78.68</td>\n",
       "    </tr>\n",
       "    <tr>\n",
       "      <th>10</th>\n",
       "      <td>sgdr = SGDRegressor()</td>\n",
       "      <td>72.27</td>\n",
       "    </tr>\n",
       "    <tr>\n",
       "      <th>11</th>\n",
       "      <td>xgbr = XGBRegressor()</td>\n",
       "      <td>78.68</td>\n",
       "    </tr>\n",
       "  </tbody>\n",
       "</table>\n",
       "</div>"
      ],
      "text/plain": [
       "                            Regressor  Accuracy Score (with tuning)\n",
       "0             lr = LinearRegression()                         72.72\n",
       "1                       las = Lasso()                         72.80\n",
       "2                       rig = Ridge()                         72.72\n",
       "3         knn = KNeighborsRegressor()                         45.86\n",
       "4        rf = RandomForestRegressor()                         74.28\n",
       "5        dt = DecisionTreeRegressor()                         12.99\n",
       "6                         svr = SVR()                         20.11\n",
       "7            bag = BaggingRegressor()                         77.49\n",
       "8   gra = GradientBoostingRegressor()                         56.11\n",
       "9          adar = AdaBoostRegressor()                         78.68\n",
       "10              sgdr = SGDRegressor()                         72.27\n",
       "11              xgbr = XGBRegressor()                         78.68"
      ]
     },
     "execution_count": 74,
     "metadata": {},
     "output_type": "execute_result"
    }
   ],
   "source": [
    "Acc_Score_tun =[round (r2_score(y_test,y_lr_predict)*100,2),\n",
    "                round (r2_score(y_test,y_las_predict)*100,2),\n",
    "                round (r2_score(y_test,y_rig_predict)*100,2),\n",
    "                round (r2_score(y_test,y_knnr_predict)*100,2),\n",
    "                round (r2_score(y_test,y_rfr_predict)*100,2),\n",
    "                round (r2_score(y_test,y_dtr_predict)*100,2),\n",
    "                round (r2_score(y_test,y_svr_predict)*100,2),\n",
    "                round (r2_score(y_test,y_bagr_predict)*100,2),\n",
    "                round (r2_score(y_test,y_grar_predict)*100,2),\n",
    "                round (r2_score(y_test,y_adar_predict)*100,2),\n",
    "                round (r2_score(y_test,y_sgdr_predict)*100,2),\n",
    "                round (r2_score(y_test,y_xgbr_predict)*100,2)]\n",
    "\n",
    "Zomato_Avg2Cost = pd.DataFrame({'Regressor':['lr = LinearRegression()', 'las = Lasso()','rig = Ridge()',\n",
    "                                'knn = KNeighborsRegressor()' ,'rf = RandomForestRegressor()', 'dt = DecisionTreeRegressor()',\n",
    "                                 'svr = SVR()', 'bag = BaggingRegressor()', 'gra = GradientBoostingRegressor()',\n",
    "                                 'adar = AdaBoostRegressor()','sgdr = SGDRegressor()', 'xgbr = XGBRegressor()'],\n",
    "                                 \n",
    "                                'Accuracy Score (with tuning)':Acc_Score_tun})\n",
    "Zomato_Avg2Cost"
   ]
  },
  {
   "cell_type": "code",
   "execution_count": 75,
   "id": "a66490ba",
   "metadata": {},
   "outputs": [
    {
     "data": {
      "text/html": [
       "<div>\n",
       "<style scoped>\n",
       "    .dataframe tbody tr th:only-of-type {\n",
       "        vertical-align: middle;\n",
       "    }\n",
       "\n",
       "    .dataframe tbody tr th {\n",
       "        vertical-align: top;\n",
       "    }\n",
       "\n",
       "    .dataframe thead th {\n",
       "        text-align: right;\n",
       "    }\n",
       "</style>\n",
       "<table border=\"1\" class=\"dataframe\">\n",
       "  <thead>\n",
       "    <tr style=\"text-align: right;\">\n",
       "      <th></th>\n",
       "      <th>Model Name</th>\n",
       "      <th>Training Score:</th>\n",
       "      <th>Accuracy Score (without tuning)</th>\n",
       "      <th>Regressor</th>\n",
       "      <th>Accuracy Score (with tuning)</th>\n",
       "    </tr>\n",
       "  </thead>\n",
       "  <tbody>\n",
       "    <tr>\n",
       "      <th>0</th>\n",
       "      <td>LR = LinearRegression()</td>\n",
       "      <td>50.28</td>\n",
       "      <td>69.31</td>\n",
       "      <td>lr = LinearRegression()</td>\n",
       "      <td>72.72</td>\n",
       "    </tr>\n",
       "    <tr>\n",
       "      <th>1</th>\n",
       "      <td>LSO = Lasso()</td>\n",
       "      <td>50.28</td>\n",
       "      <td>69.19</td>\n",
       "      <td>las = Lasso()</td>\n",
       "      <td>72.80</td>\n",
       "    </tr>\n",
       "    <tr>\n",
       "      <th>2</th>\n",
       "      <td>RIG = Ridge()</td>\n",
       "      <td>50.28</td>\n",
       "      <td>69.30</td>\n",
       "      <td>rig = Ridge()</td>\n",
       "      <td>72.72</td>\n",
       "    </tr>\n",
       "    <tr>\n",
       "      <th>3</th>\n",
       "      <td>KNNR = KNeighborsRegressor()</td>\n",
       "      <td>81.54</td>\n",
       "      <td>65.25</td>\n",
       "      <td>knn = KNeighborsRegressor()</td>\n",
       "      <td>45.86</td>\n",
       "    </tr>\n",
       "    <tr>\n",
       "      <th>4</th>\n",
       "      <td>RFR = RandomForestRegressor()</td>\n",
       "      <td>97.53</td>\n",
       "      <td>79.33</td>\n",
       "      <td>rf = RandomForestRegressor()</td>\n",
       "      <td>74.28</td>\n",
       "    </tr>\n",
       "    <tr>\n",
       "      <th>5</th>\n",
       "      <td>DTR = DecisionTreeRegressor()</td>\n",
       "      <td>100.00</td>\n",
       "      <td>61.63</td>\n",
       "      <td>dt = DecisionTreeRegressor()</td>\n",
       "      <td>12.99</td>\n",
       "    </tr>\n",
       "    <tr>\n",
       "      <th>6</th>\n",
       "      <td>SVr = SVR()</td>\n",
       "      <td>11.62</td>\n",
       "      <td>-1170.42</td>\n",
       "      <td>svr = SVR()</td>\n",
       "      <td>20.11</td>\n",
       "    </tr>\n",
       "    <tr>\n",
       "      <th>7</th>\n",
       "      <td>BAGR = BaggingRegressor()</td>\n",
       "      <td>96.39</td>\n",
       "      <td>78.54</td>\n",
       "      <td>bag = BaggingRegressor()</td>\n",
       "      <td>77.49</td>\n",
       "    </tr>\n",
       "    <tr>\n",
       "      <th>8</th>\n",
       "      <td>GRAR = GradientBoostingRegressor()</td>\n",
       "      <td>93.62</td>\n",
       "      <td>70.76</td>\n",
       "      <td>gra = GradientBoostingRegressor()</td>\n",
       "      <td>56.11</td>\n",
       "    </tr>\n",
       "    <tr>\n",
       "      <th>9</th>\n",
       "      <td>ADAR = AdaBoostRegressor()</td>\n",
       "      <td>2.40</td>\n",
       "      <td>-113.65</td>\n",
       "      <td>adar = AdaBoostRegressor()</td>\n",
       "      <td>78.68</td>\n",
       "    </tr>\n",
       "    <tr>\n",
       "      <th>10</th>\n",
       "      <td>SGDR= SGDRegressor()</td>\n",
       "      <td>50.01</td>\n",
       "      <td>69.10</td>\n",
       "      <td>sgdr = SGDRegressor()</td>\n",
       "      <td>72.27</td>\n",
       "    </tr>\n",
       "    <tr>\n",
       "      <th>11</th>\n",
       "      <td>XGBR= XGBRegressor()</td>\n",
       "      <td>99.49</td>\n",
       "      <td>76.99</td>\n",
       "      <td>xgbr = XGBRegressor()</td>\n",
       "      <td>78.68</td>\n",
       "    </tr>\n",
       "  </tbody>\n",
       "</table>\n",
       "</div>"
      ],
      "text/plain": [
       "                            Model Name  Training Score:  \\\n",
       "0              LR = LinearRegression()            50.28   \n",
       "1                        LSO = Lasso()            50.28   \n",
       "2                        RIG = Ridge()            50.28   \n",
       "3         KNNR = KNeighborsRegressor()            81.54   \n",
       "4        RFR = RandomForestRegressor()            97.53   \n",
       "5        DTR = DecisionTreeRegressor()           100.00   \n",
       "6                          SVr = SVR()            11.62   \n",
       "7            BAGR = BaggingRegressor()            96.39   \n",
       "8   GRAR = GradientBoostingRegressor()            93.62   \n",
       "9           ADAR = AdaBoostRegressor()             2.40   \n",
       "10                SGDR= SGDRegressor()            50.01   \n",
       "11                XGBR= XGBRegressor()            99.49   \n",
       "\n",
       "    Accuracy Score (without tuning)                          Regressor  \\\n",
       "0                             69.31            lr = LinearRegression()   \n",
       "1                             69.19                      las = Lasso()   \n",
       "2                             69.30                      rig = Ridge()   \n",
       "3                             65.25        knn = KNeighborsRegressor()   \n",
       "4                             79.33       rf = RandomForestRegressor()   \n",
       "5                             61.63       dt = DecisionTreeRegressor()   \n",
       "6                          -1170.42                        svr = SVR()   \n",
       "7                             78.54           bag = BaggingRegressor()   \n",
       "8                             70.76  gra = GradientBoostingRegressor()   \n",
       "9                           -113.65         adar = AdaBoostRegressor()   \n",
       "10                            69.10              sgdr = SGDRegressor()   \n",
       "11                            76.99              xgbr = XGBRegressor()   \n",
       "\n",
       "    Accuracy Score (with tuning)  \n",
       "0                          72.72  \n",
       "1                          72.80  \n",
       "2                          72.72  \n",
       "3                          45.86  \n",
       "4                          74.28  \n",
       "5                          12.99  \n",
       "6                          20.11  \n",
       "7                          77.49  \n",
       "8                          56.11  \n",
       "9                          78.68  \n",
       "10                         72.27  \n",
       "11                         78.68  "
      ]
     },
     "execution_count": 75,
     "metadata": {},
     "output_type": "execute_result"
    }
   ],
   "source": [
    "ZOMATO_AVG_COST_OF_TWO= pd.concat([Result_df,Zomato_Avg2Cost],axis=1)\n",
    "ZOMATO_AVG_COST_OF_TWO"
   ]
  },
  {
   "cell_type": "markdown",
   "id": "51d09519",
   "metadata": {},
   "source": [
    "# We are gettig high model accuracy: 79.33% in RandomForestRegressor model without tuning, with good cross validation, means it shows model is performing exremely well, so we can save this model.\n",
    "# Save the model using pickle"
   ]
  },
  {
   "cell_type": "code",
   "execution_count": 76,
   "id": "19403c97",
   "metadata": {},
   "outputs": [],
   "source": [
    "import pickle\n",
    "pickle.dump(RFR,open('Zomato_Avg_Cost_of_Two-RegressionModel','wb'))"
   ]
  },
  {
   "cell_type": "code",
   "execution_count": null,
   "id": "af0f797b",
   "metadata": {},
   "outputs": [],
   "source": []
  },
  {
   "cell_type": "markdown",
   "id": "6b22e868",
   "metadata": {},
   "source": [
    "# [2] Classification Problem (Target = Price range)"
   ]
  },
  {
   "cell_type": "markdown",
   "id": "c2b837f2",
   "metadata": {},
   "source": [
    "## Now Check correlation of the columns with the target column"
   ]
  },
  {
   "cell_type": "code",
   "execution_count": 35,
   "id": "6a1afa22",
   "metadata": {},
   "outputs": [
    {
     "data": {
      "text/plain": [
       "Latitude              -0.242643\n",
       "Longitude             -0.110760\n",
       "Cuisines              -0.005146\n",
       "Has Online delivery    0.077918\n",
       "Currency               0.156221\n",
       "Votes                  0.322096\n",
       "Rating text            0.489157\n",
       "Aggregate rating       0.494117\n",
       "Has Table booking      0.501925\n",
       "Avg_Cost_for_Two       0.592213\n",
       "Price_range            1.000000\n",
       "Name: Price_range, dtype: float64"
      ]
     },
     "execution_count": 35,
     "metadata": {},
     "output_type": "execute_result"
    }
   ],
   "source": [
    "df_imputed.corr()['Price_range'].sort_values()"
   ]
  },
  {
   "cell_type": "code",
   "execution_count": 36,
   "id": "37477a15",
   "metadata": {},
   "outputs": [
    {
     "data": {
      "image/png": "[encoded data removed]",
      "text/plain": [
       "<Figure size 864x576 with 1 Axes>"
      ]
     },
     "metadata": {
      "needs_background": "light"
     },
     "output_type": "display_data"
    }
   ],
   "source": [
    "plt.figure(figsize=(12,8))\n",
    "df_imputed.corr()['Price_range'].sort_values().plot(kind='bar')\n",
    "plt.xlabel('Features')\n",
    "plt.title('Correlation with target')\n",
    "plt.show()"
   ]
  },
  {
   "cell_type": "code",
   "execution_count": 37,
   "id": "b4302545",
   "metadata": {},
   "outputs": [
    {
     "data": {
      "text/plain": [
       "Latitude               -4.592841\n",
       "Longitude              -3.522052\n",
       "Cuisines               -0.304490\n",
       "Rating text            -0.095149\n",
       "Aggregate rating       -0.075526\n",
       "Has Online delivery     1.114620\n",
       "Has Table booking       2.321100\n",
       "Currency                3.615755\n",
       "Votes                   8.635862\n",
       "Avg_Cost_for_Two       11.220164\n",
       "dtype: float64"
      ]
     },
     "execution_count": 37,
     "metadata": {},
     "output_type": "execute_result"
    }
   ],
   "source": [
    "x=df_imputed.drop(columns='Price_range')\n",
    "df_imputed.Price_range.reset_index()\n",
    "y=df_imputed.Price_range\n",
    "x.skew().sort_values()"
   ]
  },
  {
   "cell_type": "markdown",
   "id": "5b1a9486",
   "metadata": {},
   "source": [
    "Dataset is very skewed, let's try to handle it or save it."
   ]
  },
  {
   "cell_type": "markdown",
   "id": "c7796c70",
   "metadata": {},
   "source": [
    "## Now use PowerTransformation method to save our skewed data"
   ]
  },
  {
   "cell_type": "code",
   "execution_count": 38,
   "id": "01df0181",
   "metadata": {},
   "outputs": [
    {
     "data": {
      "text/plain": [
       "Cuisines              -0.381775\n",
       "Rating text           -0.176398\n",
       "Currency              -0.076935\n",
       "Aggregate rating      -0.067948\n",
       "Longitude             -0.013581\n",
       "Latitude               0.856299\n",
       "Avg_Cost_for_Two       0.913253\n",
       "Has Online delivery    1.114620\n",
       "Votes                  1.936798\n",
       "Has Table booking      2.321100\n",
       "dtype: float64"
      ]
     },
     "execution_count": 38,
     "metadata": {},
     "output_type": "execute_result"
    }
   ],
   "source": [
    "from sklearn.preprocessing import PowerTransformer\n",
    "\n",
    "df_pt = PowerTransformer()\n",
    "df_pw = pd.DataFrame(df_pt.fit_transform(x),columns=x.columns)\n",
    "df_pw.skew().sort_values()"
   ]
  },
  {
   "cell_type": "markdown",
   "id": "38d81507",
   "metadata": {},
   "source": [
    "Using power transformation, most of skewness has removed"
   ]
  },
  {
   "cell_type": "markdown",
   "id": "a6799483",
   "metadata": {},
   "source": [
    "## Now remove remaining outliers using z-score technique"
   ]
  },
  {
   "cell_type": "code",
   "execution_count": 39,
   "id": "91a1bc2d",
   "metadata": {},
   "outputs": [
    {
     "data": {
      "text/plain": [
       "(array([  69,  243,  458,  463,  498,  640,  710,  803,  841, 1053, 1084,\n",
       "        1138, 1309, 1374, 1430, 1449, 1461, 1485, 1494, 1515, 1584, 1677,\n",
       "        1906, 1960, 2035, 2120, 2121, 2171, 2252, 2324, 2333, 2356, 2363,\n",
       "        2545, 2640, 2751, 2921, 2927, 2991, 3009, 3121, 3158, 3166, 3193,\n",
       "        3251, 3265, 3355, 3453, 3465, 3491, 3525, 3532, 3575, 3647, 3671,\n",
       "        3708, 3889, 4053, 4125, 4230, 4360, 4494, 4508, 4532, 4551, 4677,\n",
       "        4689, 4778, 4803, 4860, 4922, 4965, 4982, 5105, 5167, 5291, 5318,\n",
       "        5323, 5325, 5372, 5417, 5418, 5444, 5447, 5491, 5519, 5545, 5583,\n",
       "        5617, 5695, 5777, 5871, 5895, 6050, 6081, 6094, 6095, 6145, 6260,\n",
       "        6270, 6295, 6313, 6320, 6531, 6546, 6643, 6791, 6832, 6865, 6909,\n",
       "        6926, 6937, 6952, 6984, 7071, 7104, 7115, 7130, 7168, 7174, 7222,\n",
       "        7288, 7310, 7322, 7328, 7353, 7432, 7446, 7557, 7560, 7762, 7793,\n",
       "        7815, 7832, 8018, 8045, 8069, 8086, 8100, 8136, 8197, 8205, 8225,\n",
       "        8294, 8318, 8324, 8341, 8489, 8556, 8667, 8743, 9003, 9130, 9226,\n",
       "        9286, 9296, 9317, 9321, 9339, 9401, 9468, 9549], dtype=int64),\n",
       " array([0, 0, 0, 0, 0, 0, 0, 0, 0, 0, 0, 0, 0, 0, 0, 0, 0, 0, 0, 0, 0, 0,\n",
       "        0, 0, 0, 0, 0, 0, 0, 0, 0, 0, 0, 0, 0, 0, 0, 0, 0, 0, 0, 0, 0, 0,\n",
       "        0, 0, 0, 0, 0, 0, 0, 0, 0, 0, 0, 0, 0, 0, 0, 0, 0, 0, 0, 0, 0, 0,\n",
       "        0, 0, 0, 0, 0, 0, 0, 0, 0, 0, 0, 0, 0, 0, 0, 0, 0, 0, 0, 0, 0, 0,\n",
       "        0, 0, 0, 0, 0, 0, 0, 0, 0, 0, 0, 0, 0, 0, 0, 0, 0, 0, 0, 0, 0, 0,\n",
       "        0, 0, 0, 0, 0, 0, 0, 0, 0, 0, 0, 0, 0, 0, 0, 0, 0, 0, 0, 0, 0, 0,\n",
       "        0, 0, 0, 0, 0, 0, 0, 0, 0, 0, 0, 0, 0, 0, 0, 0, 0, 0, 0, 0, 0, 0,\n",
       "        0, 0, 0, 0, 0, 0, 0, 0], dtype=int64))"
      ]
     },
     "execution_count": 39,
     "metadata": {},
     "output_type": "execute_result"
    }
   ],
   "source": [
    "from scipy.stats import zscore\n",
    "z=np.abs(zscore(df_pw[['Avg_Cost_for_Two']]))\n",
    "threshold=3\n",
    "np.where(z>3)"
   ]
  },
  {
   "cell_type": "code",
   "execution_count": 40,
   "id": "4c3379fb",
   "metadata": {},
   "outputs": [
    {
     "name": "stdout",
     "output_type": "stream",
     "text": [
      "percentage of loss of data by zscore is : 1.6961574704219453\n"
     ]
    }
   ],
   "source": [
    "df_new= df_imputed[(z<3).all(axis=1)]\n",
    "\n",
    "print('percentage of loss of data by zscore is :',((df.shape[0]-df_new.shape[0])/df.shape[0])*100)"
   ]
  },
  {
   "cell_type": "markdown",
   "id": "64872a62",
   "metadata": {},
   "source": [
    "Very less data, we have loss using z-tarnsformation method, let's proceed further."
   ]
  },
  {
   "cell_type": "code",
   "execution_count": 41,
   "id": "03b49572",
   "metadata": {},
   "outputs": [],
   "source": [
    "x_new=df_new.drop(columns='Price_range')\n",
    "y_new=df_new.Price_range"
   ]
  },
  {
   "cell_type": "code",
   "execution_count": 42,
   "id": "d8541f63",
   "metadata": {},
   "outputs": [
    {
     "data": {
      "text/plain": [
       "1.0    4440\n",
       "2.0    3113\n",
       "3.0    1384\n",
       "4.0     452\n",
       "Name: Price_range, dtype: int64"
      ]
     },
     "execution_count": 42,
     "metadata": {},
     "output_type": "execute_result"
    }
   ],
   "source": [
    "df_new.Price_range.value_counts()"
   ]
  },
  {
   "cell_type": "markdown",
   "id": "c3ab32f9",
   "metadata": {},
   "source": [
    "Target is in inmbalanced form, let's handle it."
   ]
  },
  {
   "cell_type": "markdown",
   "id": "9a30c63e",
   "metadata": {},
   "source": [
    "# SMOTE smapling"
   ]
  },
  {
   "cell_type": "code",
   "execution_count": 43,
   "id": "a09689a2",
   "metadata": {},
   "outputs": [
    {
     "data": {
      "image/png": "[encoded data removed]",
      "text/plain": [
       "<Figure size 720x576 with 1 Axes>"
      ]
     },
     "metadata": {
      "needs_background": "light"
     },
     "output_type": "display_data"
    }
   ],
   "source": [
    "#Synthetic Minority Oversampling Technique (SMOTE)\n",
    "#It is a statistical technique for increasing the number of cases in your dataset in a balanced way. \n",
    "\n",
    "from imblearn.over_sampling import SMOTE\n",
    "\n",
    "sm = SMOTE(sampling_strategy = 'not majority', random_state = 29)\n",
    "x_res, y_res = sm.fit_resample(x_new, y_new)\n",
    "y_res_df = pd.DataFrame(y_res)\n",
    "\n",
    "plt.figure(figsize=(10,8))\n",
    "\n",
    "sns.set(style = 'whitegrid')\n",
    "sns.countplot(y_res_df.Price_range).set_title('After SMOTE')\n",
    "plt.xlabel('Loan_Status',fontsize=20)\n",
    "plt.show()"
   ]
  },
  {
   "cell_type": "code",
   "execution_count": 44,
   "id": "e6fcb600",
   "metadata": {},
   "outputs": [
    {
     "data": {
      "text/plain": [
       "(17760, 10)"
      ]
     },
     "execution_count": 44,
     "metadata": {},
     "output_type": "execute_result"
    }
   ],
   "source": [
    "x_res.shape"
   ]
  },
  {
   "cell_type": "code",
   "execution_count": 45,
   "id": "4fe3b1aa",
   "metadata": {},
   "outputs": [
    {
     "data": {
      "text/plain": [
       "Price_range\n",
       "1.0            4440\n",
       "2.0            4440\n",
       "3.0            4440\n",
       "4.0            4440\n",
       "dtype: int64"
      ]
     },
     "execution_count": 45,
     "metadata": {},
     "output_type": "execute_result"
    }
   ],
   "source": [
    "y_res_df.value_counts()"
   ]
  },
  {
   "cell_type": "markdown",
   "id": "c8746495",
   "metadata": {},
   "source": [
    "## Data Scaling using Standard Scaler"
   ]
  },
  {
   "cell_type": "code",
   "execution_count": 46,
   "id": "fe4eb455",
   "metadata": {},
   "outputs": [
    {
     "data": {
      "text/html": [
       "<div>\n",
       "<style scoped>\n",
       "    .dataframe tbody tr th:only-of-type {\n",
       "        vertical-align: middle;\n",
       "    }\n",
       "\n",
       "    .dataframe tbody tr th {\n",
       "        vertical-align: top;\n",
       "    }\n",
       "\n",
       "    .dataframe thead th {\n",
       "        text-align: right;\n",
       "    }\n",
       "</style>\n",
       "<table border=\"1\" class=\"dataframe\">\n",
       "  <thead>\n",
       "    <tr style=\"text-align: right;\">\n",
       "      <th></th>\n",
       "      <th>Longitude</th>\n",
       "      <th>Latitude</th>\n",
       "      <th>Cuisines</th>\n",
       "      <th>Avg_Cost_for_Two</th>\n",
       "      <th>Currency</th>\n",
       "      <th>Has Table booking</th>\n",
       "      <th>Has Online delivery</th>\n",
       "      <th>Aggregate rating</th>\n",
       "      <th>Rating text</th>\n",
       "      <th>Votes</th>\n",
       "    </tr>\n",
       "  </thead>\n",
       "  <tbody>\n",
       "    <tr>\n",
       "      <th>0</th>\n",
       "      <td>0.271564</td>\n",
       "      <td>0.291713</td>\n",
       "      <td>0.598146</td>\n",
       "      <td>1.671725</td>\n",
       "      <td>-0.274995</td>\n",
       "      <td>1.769663</td>\n",
       "      <td>-0.599216</td>\n",
       "      <td>0.193509</td>\n",
       "      <td>0.393357</td>\n",
       "      <td>-0.268214</td>\n",
       "    </tr>\n",
       "    <tr>\n",
       "      <th>1</th>\n",
       "      <td>0.271105</td>\n",
       "      <td>0.297406</td>\n",
       "      <td>-1.005587</td>\n",
       "      <td>-0.953860</td>\n",
       "      <td>-0.274995</td>\n",
       "      <td>-0.636803</td>\n",
       "      <td>-0.599216</td>\n",
       "      <td>0.058467</td>\n",
       "      <td>-0.379463</td>\n",
       "      <td>-0.363603</td>\n",
       "    </tr>\n",
       "    <tr>\n",
       "      <th>2</th>\n",
       "      <td>0.273252</td>\n",
       "      <td>0.292506</td>\n",
       "      <td>-1.044012</td>\n",
       "      <td>-0.743813</td>\n",
       "      <td>-0.274995</td>\n",
       "      <td>-0.636803</td>\n",
       "      <td>-0.599216</td>\n",
       "      <td>0.193509</td>\n",
       "      <td>0.393357</td>\n",
       "      <td>-0.336607</td>\n",
       "    </tr>\n",
       "    <tr>\n",
       "      <th>3</th>\n",
       "      <td>0.270380</td>\n",
       "      <td>0.293076</td>\n",
       "      <td>1.526410</td>\n",
       "      <td>-0.848836</td>\n",
       "      <td>-0.274995</td>\n",
       "      <td>-0.636803</td>\n",
       "      <td>-0.599216</td>\n",
       "      <td>-1.882230</td>\n",
       "      <td>-1.925103</td>\n",
       "      <td>-0.580844</td>\n",
       "    </tr>\n",
       "    <tr>\n",
       "      <th>4</th>\n",
       "      <td>0.274287</td>\n",
       "      <td>0.286451</td>\n",
       "      <td>-1.005587</td>\n",
       "      <td>0.096374</td>\n",
       "      <td>-0.274995</td>\n",
       "      <td>-0.636803</td>\n",
       "      <td>1.871030</td>\n",
       "      <td>-1.021870</td>\n",
       "      <td>-0.379463</td>\n",
       "      <td>0.167335</td>\n",
       "    </tr>\n",
       "    <tr>\n",
       "      <th>...</th>\n",
       "      <td>...</td>\n",
       "      <td>...</td>\n",
       "      <td>...</td>\n",
       "      <td>...</td>\n",
       "      <td>...</td>\n",
       "      <td>...</td>\n",
       "      <td>...</td>\n",
       "      <td>...</td>\n",
       "      <td>...</td>\n",
       "      <td>...</td>\n",
       "    </tr>\n",
       "    <tr>\n",
       "      <th>17755</th>\n",
       "      <td>0.243692</td>\n",
       "      <td>0.023925</td>\n",
       "      <td>0.935410</td>\n",
       "      <td>1.009147</td>\n",
       "      <td>-0.274995</td>\n",
       "      <td>1.769663</td>\n",
       "      <td>0.163750</td>\n",
       "      <td>0.795214</td>\n",
       "      <td>0.927482</td>\n",
       "      <td>2.723022</td>\n",
       "    </tr>\n",
       "    <tr>\n",
       "      <th>17756</th>\n",
       "      <td>0.268111</td>\n",
       "      <td>0.294944</td>\n",
       "      <td>-0.200687</td>\n",
       "      <td>1.356654</td>\n",
       "      <td>-0.274995</td>\n",
       "      <td>1.769663</td>\n",
       "      <td>-0.599216</td>\n",
       "      <td>-0.076575</td>\n",
       "      <td>-0.379463</td>\n",
       "      <td>-0.369216</td>\n",
       "    </tr>\n",
       "    <tr>\n",
       "      <th>17757</th>\n",
       "      <td>0.312585</td>\n",
       "      <td>0.227753</td>\n",
       "      <td>0.689375</td>\n",
       "      <td>0.656025</td>\n",
       "      <td>-0.274995</td>\n",
       "      <td>0.764256</td>\n",
       "      <td>0.838976</td>\n",
       "      <td>1.420902</td>\n",
       "      <td>1.489056</td>\n",
       "      <td>1.377015</td>\n",
       "    </tr>\n",
       "    <tr>\n",
       "      <th>17758</th>\n",
       "      <td>0.292272</td>\n",
       "      <td>0.169329</td>\n",
       "      <td>1.064978</td>\n",
       "      <td>1.356654</td>\n",
       "      <td>-0.274995</td>\n",
       "      <td>-0.547412</td>\n",
       "      <td>-0.599216</td>\n",
       "      <td>1.223683</td>\n",
       "      <td>1.108763</td>\n",
       "      <td>-0.202379</td>\n",
       "    </tr>\n",
       "    <tr>\n",
       "      <th>17759</th>\n",
       "      <td>0.270519</td>\n",
       "      <td>0.283417</td>\n",
       "      <td>-0.699601</td>\n",
       "      <td>1.041584</td>\n",
       "      <td>-0.274995</td>\n",
       "      <td>1.769663</td>\n",
       "      <td>-0.599216</td>\n",
       "      <td>0.232705</td>\n",
       "      <td>0.393357</td>\n",
       "      <td>-0.045620</td>\n",
       "    </tr>\n",
       "  </tbody>\n",
       "</table>\n",
       "<p>17760 rows × 10 columns</p>\n",
       "</div>"
      ],
      "text/plain": [
       "       Longitude  Latitude  Cuisines  Avg_Cost_for_Two  Currency  \\\n",
       "0       0.271564  0.291713  0.598146          1.671725 -0.274995   \n",
       "1       0.271105  0.297406 -1.005587         -0.953860 -0.274995   \n",
       "2       0.273252  0.292506 -1.044012         -0.743813 -0.274995   \n",
       "3       0.270380  0.293076  1.526410         -0.848836 -0.274995   \n",
       "4       0.274287  0.286451 -1.005587          0.096374 -0.274995   \n",
       "...          ...       ...       ...               ...       ...   \n",
       "17755   0.243692  0.023925  0.935410          1.009147 -0.274995   \n",
       "17756   0.268111  0.294944 -0.200687          1.356654 -0.274995   \n",
       "17757   0.312585  0.227753  0.689375          0.656025 -0.274995   \n",
       "17758   0.292272  0.169329  1.064978          1.356654 -0.274995   \n",
       "17759   0.270519  0.283417 -0.699601          1.041584 -0.274995   \n",
       "\n",
       "       Has Table booking  Has Online delivery  Aggregate rating  Rating text  \\\n",
       "0               1.769663            -0.599216          0.193509     0.393357   \n",
       "1              -0.636803            -0.599216          0.058467    -0.379463   \n",
       "2              -0.636803            -0.599216          0.193509     0.393357   \n",
       "3              -0.636803            -0.599216         -1.882230    -1.925103   \n",
       "4              -0.636803             1.871030         -1.021870    -0.379463   \n",
       "...                  ...                  ...               ...          ...   \n",
       "17755           1.769663             0.163750          0.795214     0.927482   \n",
       "17756           1.769663            -0.599216         -0.076575    -0.379463   \n",
       "17757           0.764256             0.838976          1.420902     1.489056   \n",
       "17758          -0.547412            -0.599216          1.223683     1.108763   \n",
       "17759           1.769663            -0.599216          0.232705     0.393357   \n",
       "\n",
       "          Votes  \n",
       "0     -0.268214  \n",
       "1     -0.363603  \n",
       "2     -0.336607  \n",
       "3     -0.580844  \n",
       "4      0.167335  \n",
       "...         ...  \n",
       "17755  2.723022  \n",
       "17756 -0.369216  \n",
       "17757  1.377015  \n",
       "17758 -0.202379  \n",
       "17759 -0.045620  \n",
       "\n",
       "[17760 rows x 10 columns]"
      ]
     },
     "execution_count": 46,
     "metadata": {},
     "output_type": "execute_result"
    }
   ],
   "source": [
    "from sklearn.preprocessing import StandardScaler\n",
    "scaler = StandardScaler()\n",
    "x_scaled = pd.DataFrame(scaler.fit_transform(x_res),columns=x_new.columns)\n",
    "x_scaled"
   ]
  },
  {
   "cell_type": "markdown",
   "id": "8f8744a4",
   "metadata": {},
   "source": [
    "## PCA : Principal Component Analysis"
   ]
  },
  {
   "cell_type": "code",
   "execution_count": 47,
   "id": "e8df0d35",
   "metadata": {},
   "outputs": [
    {
     "name": "stdout",
     "output_type": "stream",
     "text": [
      "                     PC1   PC2   PC3   PC4   PC5   PC6   PC7   PC8   PC9  PC10\n",
      "Explained_Variance  3.07  1.77  1.19  1.11  0.95  0.78  0.59  0.31  0.19  0.03\n"
     ]
    },
    {
     "data": {
      "image/png": "[encoded data removed]",
      "text/plain": [
       "<Figure size 1440x720 with 1 Axes>"
      ]
     },
     "metadata": {},
     "output_type": "display_data"
    }
   ],
   "source": [
    "# Performing PCA\n",
    "from sklearn.decomposition import PCA\n",
    "\n",
    "pca = PCA(random_state = 1)\n",
    "pca.fit(x_scaled)\n",
    "var_exp = pca.explained_variance_ratio_\n",
    "cum_var_exp = np.cumsum(var_exp)\n",
    "var_df = pd.DataFrame(pca.explained_variance_.round(2), index=[\"PC\" + str(i) for i in range(1,11)],\n",
    "                      columns=[\"Explained_Variance\"])\n",
    "print(var_df.T)\n",
    "plt.figure(figsize=(20,10))\n",
    "plt.bar(range(1,len(cum_var_exp)+1), var_exp, align= 'center', label= 'individual variance', color='teal', alpha = 0.8)\n",
    "plt.step(range(1,len(cum_var_exp)+1), cum_var_exp, where = 'mid' , label= 'cumulative variance', color='red')\n",
    "plt.ylabel('Explained variance ratio')\n",
    "plt.xlabel('Principal components')\n",
    "plt.xticks(np.arange(1,len(var_exp)+1,1))\n",
    "plt.legend(loc='center right')\n",
    "plt.show()"
   ]
  },
  {
   "cell_type": "code",
   "execution_count": 48,
   "id": "22319f0b",
   "metadata": {},
   "outputs": [],
   "source": [
    "pca_red = PCA(n_components=9)\n",
    "X_reduced = pca_red.fit_transform(x_scaled)"
   ]
  },
  {
   "cell_type": "markdown",
   "id": "a6c03ab4",
   "metadata": {},
   "source": [
    "As per PCA observation the first 9 components account for about 99% of the total explained variance. The dataset can reduced with 9 components and proceed further."
   ]
  },
  {
   "cell_type": "code",
   "execution_count": 49,
   "id": "79342a33",
   "metadata": {},
   "outputs": [],
   "source": [
    "XC=X_reduced\n",
    "yc=y_res_df"
   ]
  },
  {
   "cell_type": "code",
   "execution_count": 50,
   "id": "eb160eca",
   "metadata": {},
   "outputs": [
    {
     "data": {
      "text/plain": [
       "(17760, 9)"
      ]
     },
     "execution_count": 50,
     "metadata": {},
     "output_type": "execute_result"
    }
   ],
   "source": [
    "XC.shape"
   ]
  },
  {
   "cell_type": "code",
   "execution_count": 51,
   "id": "741f6fdb",
   "metadata": {},
   "outputs": [
    {
     "data": {
      "text/plain": [
       "(17760, 1)"
      ]
     },
     "execution_count": 51,
     "metadata": {},
     "output_type": "execute_result"
    }
   ],
   "source": [
    "yc.shape"
   ]
  },
  {
   "cell_type": "markdown",
   "id": "3642d97f",
   "metadata": {},
   "source": [
    "## Classification Model Development"
   ]
  },
  {
   "cell_type": "code",
   "execution_count": 69,
   "id": "056383ce",
   "metadata": {},
   "outputs": [],
   "source": [
    "#import the necessary model algos.\n",
    "\n",
    "#classifiaction\n",
    "from sklearn.linear_model import LogisticRegression, SGDClassifier\n",
    "from sklearn.tree import DecisionTreeClassifier\n",
    "from sklearn.neighbors import KNeighborsClassifier\n",
    "from sklearn.ensemble import RandomForestClassifier\n",
    "from sklearn.svm import SVC\n",
    "from sklearn.ensemble import GradientBoostingClassifier,AdaBoostClassifier\n",
    "from xgboost import XGBClassifier\n",
    "from sklearn.naive_bayes import GaussianNB\n",
    "\n",
    "#model selection\n",
    "from sklearn.model_selection import train_test_split,cross_validate,cross_val_score\n",
    "from sklearn.model_selection import KFold\n",
    "from sklearn.model_selection import GridSearchCV\n",
    "\n",
    "#evaluation metrics\n",
    "from sklearn.metrics import accuracy_score, classification_report, confusion_matrix\n",
    "from sklearn.metrics import roc_auc_score, roc_curve, plot_roc_curve"
   ]
  },
  {
   "cell_type": "code",
   "execution_count": 70,
   "id": "7a07bcac",
   "metadata": {},
   "outputs": [],
   "source": [
    "LC = LogisticRegression()\n",
    "DTC = DecisionTreeClassifier()\n",
    "KNNC= KNeighborsClassifier()\n",
    "RFC = RandomForestClassifier()\n",
    "SVc = SVC()\n",
    "GRAC= GradientBoostingClassifier()\n",
    "ADAC= AdaBoostClassifier()\n",
    "GNBC= GaussianNB()\n",
    "SGDC= SGDClassifier()\n",
    "XGBC= XGBClassifier()"
   ]
  },
  {
   "cell_type": "code",
   "execution_count": 54,
   "id": "fff90191",
   "metadata": {},
   "outputs": [
    {
     "data": {
      "text/html": [
       "<div>\n",
       "<style scoped>\n",
       "    .dataframe tbody tr th:only-of-type {\n",
       "        vertical-align: middle;\n",
       "    }\n",
       "\n",
       "    .dataframe tbody tr th {\n",
       "        vertical-align: top;\n",
       "    }\n",
       "\n",
       "    .dataframe thead th {\n",
       "        text-align: right;\n",
       "    }\n",
       "</style>\n",
       "<table border=\"1\" class=\"dataframe\">\n",
       "  <thead>\n",
       "    <tr style=\"text-align: right;\">\n",
       "      <th></th>\n",
       "      <th>Model Name</th>\n",
       "      <th>Training Score:</th>\n",
       "      <th>Accuracy Score (without tuning)</th>\n",
       "    </tr>\n",
       "  </thead>\n",
       "  <tbody>\n",
       "    <tr>\n",
       "      <th>0</th>\n",
       "      <td>LC=LogisticRegression</td>\n",
       "      <td>91.49</td>\n",
       "      <td>91.55</td>\n",
       "    </tr>\n",
       "    <tr>\n",
       "      <th>1</th>\n",
       "      <td>DTC=DecisionTreeClassifier</td>\n",
       "      <td>100.00</td>\n",
       "      <td>92.31</td>\n",
       "    </tr>\n",
       "    <tr>\n",
       "      <th>2</th>\n",
       "      <td>KNNC=KNeighborsClassifier</td>\n",
       "      <td>95.85</td>\n",
       "      <td>92.74</td>\n",
       "    </tr>\n",
       "    <tr>\n",
       "      <th>3</th>\n",
       "      <td>RFC=RandomForestClassifier</td>\n",
       "      <td>100.00</td>\n",
       "      <td>96.34</td>\n",
       "    </tr>\n",
       "    <tr>\n",
       "      <th>4</th>\n",
       "      <td>SVc=SVC()</td>\n",
       "      <td>94.80</td>\n",
       "      <td>94.20</td>\n",
       "    </tr>\n",
       "    <tr>\n",
       "      <th>5</th>\n",
       "      <td>GRAC=GradientBoostingClassifier</td>\n",
       "      <td>94.42</td>\n",
       "      <td>91.84</td>\n",
       "    </tr>\n",
       "    <tr>\n",
       "      <th>6</th>\n",
       "      <td>ADAC=AdaBoostClassifier</td>\n",
       "      <td>74.27</td>\n",
       "      <td>73.65</td>\n",
       "    </tr>\n",
       "    <tr>\n",
       "      <th>7</th>\n",
       "      <td>GNBC=GaussianNB</td>\n",
       "      <td>64.20</td>\n",
       "      <td>63.32</td>\n",
       "    </tr>\n",
       "    <tr>\n",
       "      <th>8</th>\n",
       "      <td>SGDC=SGDClassifier()</td>\n",
       "      <td>78.65</td>\n",
       "      <td>77.53</td>\n",
       "    </tr>\n",
       "  </tbody>\n",
       "</table>\n",
       "</div>"
      ],
      "text/plain": [
       "                        Model Name  Training Score:  \\\n",
       "0            LC=LogisticRegression            91.49   \n",
       "1       DTC=DecisionTreeClassifier           100.00   \n",
       "2        KNNC=KNeighborsClassifier            95.85   \n",
       "3       RFC=RandomForestClassifier           100.00   \n",
       "4                        SVc=SVC()            94.80   \n",
       "5  GRAC=GradientBoostingClassifier            94.42   \n",
       "6          ADAC=AdaBoostClassifier            74.27   \n",
       "7                  GNBC=GaussianNB            64.20   \n",
       "8             SGDC=SGDClassifier()            78.65   \n",
       "\n",
       "   Accuracy Score (without tuning)  \n",
       "0                            91.55  \n",
       "1                            92.31  \n",
       "2                            92.74  \n",
       "3                            96.34  \n",
       "4                            94.20  \n",
       "5                            91.84  \n",
       "6                            73.65  \n",
       "7                            63.32  \n",
       "8                            77.53  "
      ]
     },
     "execution_count": 54,
     "metadata": {},
     "output_type": "execute_result"
    }
   ],
   "source": [
    "model=[LogisticRegression(),DecisionTreeClassifier(),KNeighborsClassifier(),RandomForestClassifier(), SVC(),\n",
    "       GradientBoostingClassifier(),AdaBoostClassifier(),GaussianNB(),SGDClassifier()]\n",
    "\n",
    "models=['LC=LogisticRegression','DTC=DecisionTreeClassifier','KNNC=KNeighborsClassifier','RFC=RandomForestClassifier',\n",
    "        'SVc=SVC()','GRAC=GradientBoostingClassifier','ADAC=AdaBoostClassifier','GNBC=GaussianNB', 'SGDC=SGDClassifier()']\n",
    "\n",
    "acc_result=[]\n",
    "train_result=[]\n",
    "\n",
    "x_train,x_test,y_train,y_test=train_test_split(XC,yc,test_size=0.20,random_state=11)\n",
    "\n",
    "for i in range(len(model)):\n",
    "    clf=model[i]\n",
    "    clf.fit(x_train,y_train)\n",
    "    x_pred=clf.predict(x_train)\n",
    "    y_pred=clf.predict(x_test)\n",
    "    train_result.append(round (accuracy_score(y_train,x_pred)*100,2))\n",
    "    acc_result.append(round (accuracy_score(y_pred,y_test)*100,2))\n",
    "\n",
    "Result_df=pd.DataFrame({'Model Name':models, 'Training Score:':train_result ,'Accuracy Score (without tuning)':acc_result})\n",
    "Result_df"
   ]
  },
  {
   "cell_type": "markdown",
   "id": "808749ae",
   "metadata": {},
   "source": [
    "## 1.1 Logistic Regression:"
   ]
  },
  {
   "cell_type": "code",
   "execution_count": 71,
   "id": "267fd828",
   "metadata": {},
   "outputs": [
    {
     "name": "stdout",
     "output_type": "stream",
     "text": [
      "Index of max vaule of train's accuracy_score at random_state: 939\n",
      "Index of max vaule of test's accuracy_score at random_state: 224\n"
     ]
    }
   ],
   "source": [
    "acc_train=[]\n",
    "acc_test=[]\n",
    "\n",
    "for i in range (0,1000):\n",
    "    x_train, x_test, y_train, y_test = train_test_split(XC, yc, test_size=0.20, random_state=i)\n",
    "    \n",
    "    lc = LogisticRegression()\n",
    "    lc.fit(x_train,y_train)\n",
    "    \n",
    "    x_lc_predict=lc.predict(x_train)\n",
    "    y_lc_predict=lc.predict(x_test)\n",
    "    \n",
    "    acc_train.append(accuracy_score(y_train,x_lc_predict))\n",
    "    acc_test.append(accuracy_score(y_test,y_lc_predict))\n",
    "    \n",
    "\n",
    "acc_train_index= acc_train.index(max(acc_train))    \n",
    "print(\"Index of max vaule of train's accuracy_score at random_state:\",acc_train_index)\n",
    "\n",
    "acc_test_index= acc_test.index(max(acc_test))\n",
    "print(\"Index of max vaule of test's accuracy_score at random_state:\",acc_test_index)\n"
   ]
  },
  {
   "cell_type": "markdown",
   "id": "d1624a0d",
   "metadata": {},
   "source": [
    "Always choose best training score for random_state, because\n",
    "\n",
    "1. if training score >= testing score ==> chance of best fit or undetfit\n",
    "2. if training score << testing score ==> overfit\n",
    "3. if training score >> testing score ==> undetfit"
   ]
  },
  {
   "cell_type": "code",
   "execution_count": 72,
   "id": "bf3c4ddc",
   "metadata": {},
   "outputs": [
    {
     "name": "stdout",
     "output_type": "stream",
     "text": [
      "The training accurancy @ 224 random_state is: 0.9136402027027027\n",
      "The testing accurancy @ 224 ranom_state is: 0.9318693693693694\n",
      "Cross Validation:  0.8974662162162164\n",
      "\n",
      "  \n",
      " Test Classification Report \n",
      "               precision    recall  f1-score   support\n",
      "\n",
      "         1.0       0.97      0.97      0.97       875\n",
      "         2.0       0.91      0.95      0.93       882\n",
      "         3.0       0.92      0.86      0.89       913\n",
      "         4.0       0.92      0.95      0.94       882\n",
      "\n",
      "    accuracy                           0.93      3552\n",
      "   macro avg       0.93      0.93      0.93      3552\n",
      "weighted avg       0.93      0.93      0.93      3552\n",
      "\n",
      "\n",
      " Conconfusion_matrix:\n",
      " [[850  25   0   0]\n",
      " [ 17 837  28   0]\n",
      " [  8  53 783  69]\n",
      " [  0   2  40 840]]\n"
     ]
    }
   ],
   "source": [
    "kford_cv=KFold(n_splits=10,shuffle=False)\n",
    "x_train, x_test, y_train, y_test = train_test_split(XC, yc, test_size=0.20, random_state=224)\n",
    "    \n",
    "lc.fit(x_train,y_train)\n",
    "x_lc_predict=lc.predict(x_train)\n",
    "y_lc_predict=lc.predict(x_test)\n",
    "lc_cv = cross_val_score(lc,XC,yc,cv=kford_cv, scoring='accuracy')\n",
    "    \n",
    "print (\"The training accurancy @ 224 random_state is:\",accuracy_score(y_train,x_lc_predict))\n",
    "print (\"The testing accurancy @ 224 ranom_state is:\",accuracy_score(y_test,y_lc_predict))\n",
    "print (\"Cross Validation: \", lc_cv.mean())\n",
    "print ('\\n  \\n Test Classification Report \\n', classification_report(y_test,y_lc_predict,digits=2))\n",
    "print (\"\\n Conconfusion_matrix:\\n\",confusion_matrix(y_test,y_lc_predict))"
   ]
  },
  {
   "cell_type": "markdown",
   "id": "e58a9082",
   "metadata": {},
   "source": [
    "## 2.2 Decision Tree:"
   ]
  },
  {
   "cell_type": "code",
   "execution_count": 56,
   "id": "888d7e80",
   "metadata": {},
   "outputs": [
    {
     "data": {
      "text/plain": [
       "GridSearchCV(cv=KFold(n_splits=10, random_state=None, shuffle=False),\n",
       "             estimator=DecisionTreeClassifier(), n_jobs=-1,\n",
       "             param_grid={'criterion': ['gini', 'entropy'],\n",
       "                         'max_depth': range(10, 15),\n",
       "                         'max_features': ['auto', 'sqrt', 'log2'],\n",
       "                         'max_leaf_nodes': range(5, 10),\n",
       "                         'min_samples_leaf': range(2, 6),\n",
       "                         'min_samples_split': range(3, 8),\n",
       "                         'splitter': ['best', 'random']})"
      ]
     },
     "execution_count": 56,
     "metadata": {},
     "output_type": "execute_result"
    }
   ],
   "source": [
    "kfld=KFold(n_splits=10)\n",
    "\n",
    "\n",
    "grid_param = {\n",
    "            'criterion':['gini','entropy'],\n",
    "            'splitter':['best','random'],\n",
    "            'max_features':['auto','sqrt','log2'],\n",
    "            'max_depth': range(10,15), # the max depth of the tree.\n",
    "            'min_samples_leaf': range (2,6), # the max no of samples required to be at a leaf node.\n",
    "            'min_samples_split': range (3,8), # the max no of samples required to split on interval node.\n",
    "            'max_leaf_nodes': range (5,10) # Best nodes are defined as a realtive in impurity. If none then nunlimited no of leaf nodes.\n",
    "}\n",
    "grid_search = GridSearchCV (DTC, param_grid = grid_param, cv=kfld, n_jobs = -1)\n",
    "# n_jobs : Use all the cores in your system. For performance improvement.\n",
    "grid_search.fit(x_train,y_train)"
   ]
  },
  {
   "cell_type": "code",
   "execution_count": 57,
   "id": "8effbae0",
   "metadata": {},
   "outputs": [
    {
     "name": "stdout",
     "output_type": "stream",
     "text": [
      "The training accurancy is: 0.6837697072072072\n",
      "The testing accurancy is: 0.6708896396396397\n",
      "\n",
      "  \n",
      " Test Classification Report \n",
      "               precision    recall  f1-score   support\n",
      "\n",
      "         1.0       0.76      0.83      0.80       922\n",
      "         2.0       0.65      0.43      0.52       852\n",
      "         3.0       0.59      0.56      0.58       892\n",
      "         4.0       0.66      0.84      0.74       886\n",
      "\n",
      "    accuracy                           0.67      3552\n",
      "   macro avg       0.67      0.67      0.66      3552\n",
      "weighted avg       0.67      0.67      0.66      3552\n",
      "\n",
      "\n",
      " Conconfusion_matrix:\n",
      " [[769  89  57   7]\n",
      " [204 370 182  96]\n",
      " [ 32  72 501 287]\n",
      " [  1  35 107 743]]\n"
     ]
    }
   ],
   "source": [
    "#Initiate DecisitionTreeClassifier with new parametes and train\n",
    "dtc=grid_search.best_estimator_\n",
    "\n",
    "# Train the model\n",
    "dtc.fit(x_train,y_train)\n",
    "\n",
    "x_dtc_predict=dtc.predict(x_train)\n",
    "y_dtc_predict=dtc.predict(x_test)\n",
    "\n",
    "print (\"The training accurancy is:\",accuracy_score(y_train,x_dtc_predict))\n",
    "print (\"The testing accurancy is:\",accuracy_score(y_test,y_dtc_predict))\n",
    "print ('\\n  \\n Test Classification Report \\n', classification_report(y_test,y_dtc_predict,digits=2))\n",
    "print (\"\\n Conconfusion_matrix:\\n\",confusion_matrix(y_test,y_dtc_predict))"
   ]
  },
  {
   "cell_type": "markdown",
   "id": "4213571b",
   "metadata": {},
   "source": [
    "## 2.3 K-Nearest Neighbour:"
   ]
  },
  {
   "cell_type": "code",
   "execution_count": 58,
   "id": "a03259b1",
   "metadata": {},
   "outputs": [
    {
     "data": {
      "text/plain": [
       "GridSearchCV(estimator=KNeighborsClassifier(),\n",
       "             param_grid={'algorithm': ['kd_tree', 'brute'],\n",
       "                         'leaf_size': [3, 5, 6, 7, 8, 10],\n",
       "                         'n_neighbors': [1, 2, 3, 4, 5, 6, 7, 8, 9],\n",
       "                         'weights': ['uniform', 'distance']})"
      ]
     },
     "execution_count": 58,
     "metadata": {},
     "output_type": "execute_result"
    }
   ],
   "source": [
    "neighbors = [i for i in range(1,10)]\n",
    "parameter_grid = { 'algorithm' : ['kd_tree', 'brute'],\n",
    "                   'weights':['uniform', 'distance'],\n",
    "                   'leaf_size' : [3,5,6,7,8,10],\n",
    "                   'n_neighbors': neighbors}\n",
    "gridsearch = GridSearchCV(KNNC, param_grid=parameter_grid)\n",
    "gridsearch.fit(x_train, y_train)"
   ]
  },
  {
   "cell_type": "code",
   "execution_count": 59,
   "id": "5a4dcd07",
   "metadata": {},
   "outputs": [
    {
     "name": "stdout",
     "output_type": "stream",
     "text": [
      "The training accurancy is: 1.0\n",
      "The testing accurancy is: 0.9521396396396397\n",
      "\n",
      "  \n",
      " Test Classification Report \n",
      "               precision    recall  f1-score   support\n",
      "\n",
      "         1.0       0.97      0.97      0.97       922\n",
      "         2.0       0.92      0.92      0.92       852\n",
      "         3.0       0.94      0.93      0.93       892\n",
      "         4.0       0.97      0.99      0.98       886\n",
      "\n",
      "    accuracy                           0.95      3552\n",
      "   macro avg       0.95      0.95      0.95      3552\n",
      "weighted avg       0.95      0.95      0.95      3552\n",
      "\n",
      "\n",
      " Conconfusion_matrix:\n",
      " [[892  29   1   0]\n",
      " [ 24 785  43   0]\n",
      " [  1  39 829  23]\n",
      " [  0   0  10 876]]\n"
     ]
    }
   ],
   "source": [
    "#Initiate KNN with new parametes and train\n",
    "knnc=gridsearch.best_estimator_\n",
    "\n",
    "# Train the model\n",
    "knnc.fit(x_train,y_train)\n",
    "\n",
    "x_knnc_predict=knnc.predict(x_train)\n",
    "y_knnc_predict=knnc.predict(x_test)\n",
    "\n",
    "print (\"The training accurancy is:\",accuracy_score(y_train,x_knnc_predict))\n",
    "print (\"The testing accurancy is:\",accuracy_score(y_test,y_knnc_predict))\n",
    "print ('\\n  \\n Test Classification Report \\n', classification_report(y_test,y_knnc_predict,digits=2))\n",
    "print (\"\\n Conconfusion_matrix:\\n\",confusion_matrix(y_test,y_knnc_predict))"
   ]
  },
  {
   "cell_type": "markdown",
   "id": "3556ae56",
   "metadata": {},
   "source": [
    "## 2.4 Random forest:"
   ]
  },
  {
   "cell_type": "code",
   "execution_count": 60,
   "id": "746c1164",
   "metadata": {},
   "outputs": [
    {
     "data": {
      "text/plain": [
       "GridSearchCV(cv=10, estimator=RandomForestClassifier(), n_jobs=-1,\n",
       "             param_grid={'criterion': ['gini', 'entropy'],\n",
       "                         'max_depth': [10, 15, 40], 'min_samples_leaf': [5, 6],\n",
       "                         'min_samples_split': [10, 11],\n",
       "                         'n_estimators': [10, 15, 30, 40, 50]})"
      ]
     },
     "execution_count": 60,
     "metadata": {},
     "output_type": "execute_result"
    }
   ],
   "source": [
    "params = {  'n_estimators' : [10,15,30,40,50],\n",
    "            'criterion':['gini','entropy'],\n",
    "            'max_depth': [10,15,40], # the max depth of the tree.\n",
    "            'min_samples_leaf': [5,6], # the max no of samples required to be at a leaf node.\n",
    "            'min_samples_split': [10,11] # the max no of samples required to split on interval node.\n",
    "            #'max_leaf_nodes': range (5,10) # Best nodes are defined as a realtive in impurity. If none then nunlimited no of leaf nodes.\n",
    "}\n",
    "\n",
    "gridsearch_rf = GridSearchCV(RFC, param_grid=params,cv=10, n_jobs = -1)\n",
    "gridsearch_rf.fit(x_train,y_train)"
   ]
  },
  {
   "cell_type": "code",
   "execution_count": 61,
   "id": "821021ed",
   "metadata": {},
   "outputs": [
    {
     "name": "stdout",
     "output_type": "stream",
     "text": [
      "The training accurancy is: 0.9847972972972973\n",
      "The testing accurancy is: 0.9507319819819819\n",
      "\n",
      "  \n",
      " Test Classification Report \n",
      "               precision    recall  f1-score   support\n",
      "\n",
      "         1.0       1.00      0.97      0.98       922\n",
      "         2.0       0.93      0.94      0.94       852\n",
      "         3.0       0.91      0.92      0.92       892\n",
      "         4.0       0.96      0.97      0.97       886\n",
      "\n",
      "    accuracy                           0.95      3552\n",
      "   macro avg       0.95      0.95      0.95      3552\n",
      "weighted avg       0.95      0.95      0.95      3552\n",
      "\n",
      "\n",
      " Conconfusion_matrix:\n",
      " [[897  20   5   0]\n",
      " [  4 800  48   0]\n",
      " [  0  36 821  35]\n",
      " [  0   0  27 859]]\n"
     ]
    }
   ],
   "source": [
    "#Initiate RandomForestClassifier with new parametes and train\n",
    "rfc=gridsearch_rf.best_estimator_\n",
    "\n",
    "# Train the model\n",
    "rfc.fit(x_train,y_train)\n",
    "\n",
    "x_rfc_predict=rfc.predict(x_train)\n",
    "y_rfc_predict=rfc.predict(x_test)\n",
    "\n",
    "print (\"The training accurancy is:\",accuracy_score(y_train,x_rfc_predict))\n",
    "print (\"The testing accurancy is:\",accuracy_score(y_test,y_rfc_predict))\n",
    "print ('\\n  \\n Test Classification Report \\n', classification_report(y_test,y_rfc_predict,digits=2))\n",
    "print (\"\\n Conconfusion_matrix:\\n\",confusion_matrix(y_test,y_rfc_predict))"
   ]
  },
  {
   "cell_type": "markdown",
   "id": "d8e211cb",
   "metadata": {},
   "source": [
    "## 2.5 SVC"
   ]
  },
  {
   "cell_type": "code",
   "execution_count": 62,
   "id": "ee27236f",
   "metadata": {},
   "outputs": [
    {
     "name": "stdout",
     "output_type": "stream",
     "text": [
      "The training accurancy is: 0.9478462837837838\n",
      "The testing accurancy is: 0.9403153153153153\n",
      "\n",
      "  \n",
      " Test Classification Report \n",
      "               precision    recall  f1-score   support\n",
      "\n",
      "         1.0       0.99      0.97      0.98       922\n",
      "         2.0       0.93      0.96      0.94       852\n",
      "         3.0       0.91      0.89      0.90       892\n",
      "         4.0       0.93      0.95      0.94       886\n",
      "\n",
      "    accuracy                           0.94      3552\n",
      "   macro avg       0.94      0.94      0.94      3552\n",
      "weighted avg       0.94      0.94      0.94      3552\n",
      "\n",
      "\n",
      " Conconfusion_matrix:\n",
      " [[895  25   2   0]\n",
      " [  5 814  33   0]\n",
      " [  0  40 793  59]\n",
      " [  0   0  48 838]]\n"
     ]
    }
   ],
   "source": [
    "#Initiate RandomForestClassifier with new parametes and train\n",
    "svc=SVC(gamma='auto')\n",
    "\n",
    "# Train the model\n",
    "svc.fit(x_train,y_train)\n",
    "\n",
    "x_svc_predict=svc.predict(x_train)\n",
    "y_svc_predict=svc.predict(x_test)\n",
    "\n",
    "print (\"The training accurancy is:\",accuracy_score(y_train,x_svc_predict))\n",
    "print (\"The testing accurancy is:\",accuracy_score(y_test,y_svc_predict))\n",
    "print ('\\n  \\n Test Classification Report \\n', classification_report(y_test,y_svc_predict,digits=2))\n",
    "print (\"\\n Conconfusion_matrix:\\n\",confusion_matrix(y_test,y_svc_predict))"
   ]
  },
  {
   "cell_type": "markdown",
   "id": "b5b428ac",
   "metadata": {},
   "source": [
    "## 2.6 Gradient Boosting Classifier:"
   ]
  },
  {
   "cell_type": "code",
   "execution_count": 63,
   "id": "75795940",
   "metadata": {},
   "outputs": [
    {
     "name": "stdout",
     "output_type": "stream",
     "text": [
      "The training accurancy is: 0.9418637387387387\n",
      "The testing accurancy is: 0.9144144144144144\n",
      "\n",
      "  \n",
      " Test Classification Report \n",
      "               precision    recall  f1-score   support\n",
      "\n",
      "         1.0       0.98      0.95      0.96       922\n",
      "         2.0       0.89      0.89      0.89       852\n",
      "         3.0       0.85      0.87      0.86       892\n",
      "         4.0       0.94      0.95      0.94       886\n",
      "\n",
      "    accuracy                           0.91      3552\n",
      "   macro avg       0.91      0.91      0.91      3552\n",
      "weighted avg       0.91      0.91      0.91      3552\n",
      "\n",
      "\n",
      " Conconfusion_matrix:\n",
      " [[878  33  11   0]\n",
      " [ 20 756  76   0]\n",
      " [  1  62 773  56]\n",
      " [  0   0  45 841]]\n"
     ]
    }
   ],
   "source": [
    "#Initiate RandomForestClassifier with new parametes and train\n",
    "grac=GradientBoostingClassifier(learning_rate= 0.1)\n",
    "\n",
    "# Train the model\n",
    "grac.fit(x_train,y_train)\n",
    "\n",
    "x_grac_predict=grac.predict(x_train)\n",
    "y_grac_predict=grac.predict(x_test)\n",
    "\n",
    "print (\"The training accurancy is:\",accuracy_score(y_train,x_grac_predict))\n",
    "print (\"The testing accurancy is:\",accuracy_score(y_test,y_grac_predict))\n",
    "print ('\\n  \\n Test Classification Report \\n', classification_report(y_test,y_grac_predict,digits=2))\n",
    "print (\"\\n Conconfusion_matrix:\\n\",confusion_matrix(y_test,y_grac_predict))"
   ]
  },
  {
   "cell_type": "markdown",
   "id": "814cc7c5",
   "metadata": {},
   "source": [
    "## 2.7 AdaBoost Classifier:"
   ]
  },
  {
   "cell_type": "code",
   "execution_count": 64,
   "id": "134b0128",
   "metadata": {},
   "outputs": [
    {
     "name": "stdout",
     "output_type": "stream",
     "text": [
      "The training accurancy is: 1.0\n",
      "The testing accurancy is: 0.9614301801801802\n",
      "\n",
      "  \n",
      " Test Classification Report \n",
      "               precision    recall  f1-score   support\n",
      "\n",
      "         1.0       0.99      0.97      0.98       922\n",
      "         2.0       0.94      0.95      0.94       852\n",
      "         3.0       0.95      0.94      0.94       892\n",
      "         4.0       0.97      0.99      0.98       886\n",
      "\n",
      "    accuracy                           0.96      3552\n",
      "   macro avg       0.96      0.96      0.96      3552\n",
      "weighted avg       0.96      0.96      0.96      3552\n",
      "\n",
      "\n",
      " Conconfusion_matrix:\n",
      " [[896  26   0   0]\n",
      " [  8 808  36   0]\n",
      " [  0  28 837  27]\n",
      " [  0   0  12 874]]\n"
     ]
    }
   ],
   "source": [
    "#Initiate RandomForestClassifier with new parametes and train\n",
    "adac=AdaBoostClassifier(learning_rate= 0.01, base_estimator=RandomForestClassifier())\n",
    "\n",
    "# Train the model\n",
    "adac.fit(x_train,y_train)\n",
    "\n",
    "x_adac_predict=adac.predict(x_train)\n",
    "y_adac_predict=adac.predict(x_test)\n",
    "\n",
    "print (\"The training accurancy is:\",accuracy_score(y_train,x_adac_predict))\n",
    "print (\"The testing accurancy is:\",accuracy_score(y_test,y_adac_predict))\n",
    "print ('\\n  \\n Test Classification Report \\n', classification_report(y_test,y_adac_predict,digits=2))\n",
    "print (\"\\n Conconfusion_matrix:\\n\",confusion_matrix(y_test,y_adac_predict))"
   ]
  },
  {
   "cell_type": "markdown",
   "id": "dbe63994",
   "metadata": {},
   "source": [
    "## 2.8 GaussianNB:"
   ]
  },
  {
   "cell_type": "code",
   "execution_count": 65,
   "id": "e961a90e",
   "metadata": {},
   "outputs": [
    {
     "name": "stdout",
     "output_type": "stream",
     "text": [
      "The training accurancy is: 0.6347128378378378\n",
      "The testing accurancy is: 0.6247184684684685\n",
      "\n",
      "  \n",
      " Test Classification Report \n",
      "               precision    recall  f1-score   support\n",
      "\n",
      "         1.0       0.56      0.81      0.66       922\n",
      "         2.0       0.50      0.37      0.42       852\n",
      "         3.0       0.61      0.52      0.56       892\n",
      "         4.0       0.84      0.79      0.81       886\n",
      "\n",
      "    accuracy                           0.62      3552\n",
      "   macro avg       0.63      0.62      0.61      3552\n",
      "weighted avg       0.63      0.62      0.62      3552\n",
      "\n",
      "\n",
      " Conconfusion_matrix:\n",
      " [[744 142  35   1]\n",
      " [397 311 135   9]\n",
      " [162 141 460 129]\n",
      " [ 32  23 127 704]]\n"
     ]
    }
   ],
   "source": [
    "#Initiate RandomForestClassifier with new parametes and train\n",
    "gnbc=GaussianNB()\n",
    "\n",
    "# Train the model\n",
    "gnbc.fit(x_train,y_train)\n",
    "\n",
    "x_gnbc_predict=gnbc.predict(x_train)\n",
    "y_gnbc_predict=gnbc.predict(x_test)\n",
    "\n",
    "print (\"The training accurancy is:\",accuracy_score(y_train,x_gnbc_predict))\n",
    "print (\"The testing accurancy is:\",accuracy_score(y_test,y_gnbc_predict))\n",
    "print ('\\n  \\n Test Classification Report \\n', classification_report(y_test,y_gnbc_predict,digits=2))\n",
    "print (\"\\n Conconfusion_matrix:\\n\",confusion_matrix(y_test,y_gnbc_predict))"
   ]
  },
  {
   "cell_type": "markdown",
   "id": "343a0910",
   "metadata": {},
   "source": [
    "## 2.9 SGDClassifier:"
   ]
  },
  {
   "cell_type": "code",
   "execution_count": 66,
   "id": "58f5c4d1",
   "metadata": {},
   "outputs": [
    {
     "name": "stdout",
     "output_type": "stream",
     "text": [
      "The training accurancy is: 0.7749155405405406\n",
      "The testing accurancy is: 0.7739301801801802\n",
      "\n",
      "  \n",
      " Test Classification Report \n",
      "               precision    recall  f1-score   support\n",
      "\n",
      "         1.0       0.83      0.90      0.86       922\n",
      "         2.0       0.65      0.64      0.65       852\n",
      "         3.0       0.73      0.61      0.67       892\n",
      "         4.0       0.85      0.94      0.89       886\n",
      "\n",
      "    accuracy                           0.77      3552\n",
      "   macro avg       0.77      0.77      0.77      3552\n",
      "weighted avg       0.77      0.77      0.77      3552\n",
      "\n",
      "\n",
      " Conconfusion_matrix:\n",
      " [[830  89   3   0]\n",
      " [151 545 156   0]\n",
      " [ 18 184 544 146]\n",
      " [  0  15  41 830]]\n"
     ]
    }
   ],
   "source": [
    "#Initiate RandomForestClassifier with new parametes and train\n",
    "sgdc=SGDClassifier(alpha=0.001)\n",
    "\n",
    "# Train the model\n",
    "sgdc.fit(x_train,y_train)\n",
    "\n",
    "x_sgdc_predict=sgdc.predict(x_train)\n",
    "y_sgdc_predict=sgdc.predict(x_test)\n",
    "\n",
    "print (\"The training accurancy is:\",accuracy_score(y_train,x_sgdc_predict))\n",
    "print (\"The testing accurancy is:\",accuracy_score(y_test,y_sgdc_predict))\n",
    "print ('\\n  \\n Test Classification Report \\n', classification_report(y_test,y_sgdc_predict,digits=2))\n",
    "print (\"\\n Conconfusion_matrix:\\n\",confusion_matrix(y_test,y_sgdc_predict))"
   ]
  },
  {
   "cell_type": "code",
   "execution_count": 73,
   "id": "c75454a5",
   "metadata": {},
   "outputs": [
    {
     "data": {
      "text/html": [
       "<div>\n",
       "<style scoped>\n",
       "    .dataframe tbody tr th:only-of-type {\n",
       "        vertical-align: middle;\n",
       "    }\n",
       "\n",
       "    .dataframe tbody tr th {\n",
       "        vertical-align: top;\n",
       "    }\n",
       "\n",
       "    .dataframe thead th {\n",
       "        text-align: right;\n",
       "    }\n",
       "</style>\n",
       "<table border=\"1\" class=\"dataframe\">\n",
       "  <thead>\n",
       "    <tr style=\"text-align: right;\">\n",
       "      <th></th>\n",
       "      <th>Classifier</th>\n",
       "      <th>Accuracy Score (with tuning)</th>\n",
       "    </tr>\n",
       "  </thead>\n",
       "  <tbody>\n",
       "    <tr>\n",
       "      <th>0</th>\n",
       "      <td>lc= LogisticRegression()</td>\n",
       "      <td>93.19</td>\n",
       "    </tr>\n",
       "    <tr>\n",
       "      <th>1</th>\n",
       "      <td>dtc = DecisionTreeClassifier()</td>\n",
       "      <td>25.08</td>\n",
       "    </tr>\n",
       "    <tr>\n",
       "      <th>2</th>\n",
       "      <td>knnc = KNeighborsClassifier()</td>\n",
       "      <td>25.00</td>\n",
       "    </tr>\n",
       "    <tr>\n",
       "      <th>3</th>\n",
       "      <td>rfc = RandomForestClassifier()</td>\n",
       "      <td>25.06</td>\n",
       "    </tr>\n",
       "    <tr>\n",
       "      <th>4</th>\n",
       "      <td>svc=SVC()</td>\n",
       "      <td>25.51</td>\n",
       "    </tr>\n",
       "    <tr>\n",
       "      <th>5</th>\n",
       "      <td>grac = GradientBoostingClassifier()</td>\n",
       "      <td>25.31</td>\n",
       "    </tr>\n",
       "    <tr>\n",
       "      <th>6</th>\n",
       "      <td>adac=AdaBoostClassifier</td>\n",
       "      <td>24.94</td>\n",
       "    </tr>\n",
       "    <tr>\n",
       "      <th>7</th>\n",
       "      <td>gnbc=GaussianNB</td>\n",
       "      <td>24.63</td>\n",
       "    </tr>\n",
       "    <tr>\n",
       "      <th>8</th>\n",
       "      <td>sgdc=SGDClassifier()</td>\n",
       "      <td>24.80</td>\n",
       "    </tr>\n",
       "  </tbody>\n",
       "</table>\n",
       "</div>"
      ],
      "text/plain": [
       "                            Classifier  Accuracy Score (with tuning)\n",
       "0             lc= LogisticRegression()                         93.19\n",
       "1       dtc = DecisionTreeClassifier()                         25.08\n",
       "2        knnc = KNeighborsClassifier()                         25.00\n",
       "3       rfc = RandomForestClassifier()                         25.06\n",
       "4                            svc=SVC()                         25.51\n",
       "5  grac = GradientBoostingClassifier()                         25.31\n",
       "6              adac=AdaBoostClassifier                         24.94\n",
       "7                      gnbc=GaussianNB                         24.63\n",
       "8                 sgdc=SGDClassifier()                         24.80"
      ]
     },
     "execution_count": 73,
     "metadata": {},
     "output_type": "execute_result"
    }
   ],
   "source": [
    "Acc_Score_tun =[round (accuracy_score(y_test,y_lc_predict)*100,2),\n",
    "                round (accuracy_score(y_test,y_dtc_predict)*100,2),\n",
    "                round (accuracy_score(y_test,y_knnc_predict)*100,2),\n",
    "                round (accuracy_score(y_test,y_rfc_predict)*100,2),\n",
    "                round (accuracy_score(y_test,y_svc_predict)*100,2),\n",
    "                round (accuracy_score(y_test,y_grac_predict)*100,2),\n",
    "                round (accuracy_score(y_test,y_adac_predict)*100,2),\n",
    "                round (accuracy_score(y_test,y_gnbc_predict)*100,2),\n",
    "                round (accuracy_score(y_test,y_sgdc_predict)*100,2)]\n",
    "ZOMATO_Price_Range = pd.DataFrame({'Classifier':['lc= LogisticRegression()', 'dtc = DecisionTreeClassifier()',\n",
    "                                 'knnc = KNeighborsClassifier()','rfc = RandomForestClassifier()','svc=SVC()',\n",
    "                                 'grac = GradientBoostingClassifier()', 'adac=AdaBoostClassifier','gnbc=GaussianNB', \n",
    "                                  'sgdc=SGDClassifier()'], \n",
    "                                 \n",
    "                                'Accuracy Score (with tuning)':Acc_Score_tun})\n",
    "ZOMATO_Price_Range"
   ]
  },
  {
   "cell_type": "code",
   "execution_count": 74,
   "id": "ae115f38",
   "metadata": {},
   "outputs": [
    {
     "data": {
      "text/html": [
       "<div>\n",
       "<style scoped>\n",
       "    .dataframe tbody tr th:only-of-type {\n",
       "        vertical-align: middle;\n",
       "    }\n",
       "\n",
       "    .dataframe tbody tr th {\n",
       "        vertical-align: top;\n",
       "    }\n",
       "\n",
       "    .dataframe thead th {\n",
       "        text-align: right;\n",
       "    }\n",
       "</style>\n",
       "<table border=\"1\" class=\"dataframe\">\n",
       "  <thead>\n",
       "    <tr style=\"text-align: right;\">\n",
       "      <th></th>\n",
       "      <th>Model Name</th>\n",
       "      <th>Training Score:</th>\n",
       "      <th>Accuracy Score (without tuning)</th>\n",
       "      <th>Classifier</th>\n",
       "      <th>Accuracy Score (with tuning)</th>\n",
       "    </tr>\n",
       "  </thead>\n",
       "  <tbody>\n",
       "    <tr>\n",
       "      <th>0</th>\n",
       "      <td>LC=LogisticRegression</td>\n",
       "      <td>91.49</td>\n",
       "      <td>91.55</td>\n",
       "      <td>lc= LogisticRegression()</td>\n",
       "      <td>93.19</td>\n",
       "    </tr>\n",
       "    <tr>\n",
       "      <th>1</th>\n",
       "      <td>DTC=DecisionTreeClassifier</td>\n",
       "      <td>100.00</td>\n",
       "      <td>92.31</td>\n",
       "      <td>dtc = DecisionTreeClassifier()</td>\n",
       "      <td>25.08</td>\n",
       "    </tr>\n",
       "    <tr>\n",
       "      <th>2</th>\n",
       "      <td>KNNC=KNeighborsClassifier</td>\n",
       "      <td>95.85</td>\n",
       "      <td>92.74</td>\n",
       "      <td>knnc = KNeighborsClassifier()</td>\n",
       "      <td>25.00</td>\n",
       "    </tr>\n",
       "    <tr>\n",
       "      <th>3</th>\n",
       "      <td>RFC=RandomForestClassifier</td>\n",
       "      <td>100.00</td>\n",
       "      <td>96.34</td>\n",
       "      <td>rfc = RandomForestClassifier()</td>\n",
       "      <td>25.06</td>\n",
       "    </tr>\n",
       "    <tr>\n",
       "      <th>4</th>\n",
       "      <td>SVc=SVC()</td>\n",
       "      <td>94.80</td>\n",
       "      <td>94.20</td>\n",
       "      <td>svc=SVC()</td>\n",
       "      <td>25.51</td>\n",
       "    </tr>\n",
       "    <tr>\n",
       "      <th>5</th>\n",
       "      <td>GRAC=GradientBoostingClassifier</td>\n",
       "      <td>94.42</td>\n",
       "      <td>91.84</td>\n",
       "      <td>grac = GradientBoostingClassifier()</td>\n",
       "      <td>25.31</td>\n",
       "    </tr>\n",
       "    <tr>\n",
       "      <th>6</th>\n",
       "      <td>ADAC=AdaBoostClassifier</td>\n",
       "      <td>74.27</td>\n",
       "      <td>73.65</td>\n",
       "      <td>adac=AdaBoostClassifier</td>\n",
       "      <td>24.94</td>\n",
       "    </tr>\n",
       "    <tr>\n",
       "      <th>7</th>\n",
       "      <td>GNBC=GaussianNB</td>\n",
       "      <td>64.20</td>\n",
       "      <td>63.32</td>\n",
       "      <td>gnbc=GaussianNB</td>\n",
       "      <td>24.63</td>\n",
       "    </tr>\n",
       "    <tr>\n",
       "      <th>8</th>\n",
       "      <td>SGDC=SGDClassifier()</td>\n",
       "      <td>78.65</td>\n",
       "      <td>77.53</td>\n",
       "      <td>sgdc=SGDClassifier()</td>\n",
       "      <td>24.80</td>\n",
       "    </tr>\n",
       "  </tbody>\n",
       "</table>\n",
       "</div>"
      ],
      "text/plain": [
       "                        Model Name  Training Score:  \\\n",
       "0            LC=LogisticRegression            91.49   \n",
       "1       DTC=DecisionTreeClassifier           100.00   \n",
       "2        KNNC=KNeighborsClassifier            95.85   \n",
       "3       RFC=RandomForestClassifier           100.00   \n",
       "4                        SVc=SVC()            94.80   \n",
       "5  GRAC=GradientBoostingClassifier            94.42   \n",
       "6          ADAC=AdaBoostClassifier            74.27   \n",
       "7                  GNBC=GaussianNB            64.20   \n",
       "8             SGDC=SGDClassifier()            78.65   \n",
       "\n",
       "   Accuracy Score (without tuning)                           Classifier  \\\n",
       "0                            91.55             lc= LogisticRegression()   \n",
       "1                            92.31       dtc = DecisionTreeClassifier()   \n",
       "2                            92.74        knnc = KNeighborsClassifier()   \n",
       "3                            96.34       rfc = RandomForestClassifier()   \n",
       "4                            94.20                            svc=SVC()   \n",
       "5                            91.84  grac = GradientBoostingClassifier()   \n",
       "6                            73.65              adac=AdaBoostClassifier   \n",
       "7                            63.32                      gnbc=GaussianNB   \n",
       "8                            77.53                 sgdc=SGDClassifier()   \n",
       "\n",
       "   Accuracy Score (with tuning)  \n",
       "0                         93.19  \n",
       "1                         25.08  \n",
       "2                         25.00  \n",
       "3                         25.06  \n",
       "4                         25.51  \n",
       "5                         25.31  \n",
       "6                         24.94  \n",
       "7                         24.63  \n",
       "8                         24.80  "
      ]
     },
     "execution_count": 74,
     "metadata": {},
     "output_type": "execute_result"
    }
   ],
   "source": [
    "ZOMATO_PRICE_RANGE= pd.concat([Result_df[0:9],ZOMATO_Price_Range],axis=1)\n",
    "ZOMATO_PRICE_RANGE"
   ]
  },
  {
   "cell_type": "markdown",
   "id": "ae822a2c",
   "metadata": {},
   "source": [
    "# We are gettig high model accuracy: 96.34% with RandomForestClassifier model without tuning, which shows model is performing exremely well, so we can save this model.\n",
    "# Save the model using pickle"
   ]
  },
  {
   "cell_type": "code",
   "execution_count": 76,
   "id": "df52c18d",
   "metadata": {},
   "outputs": [],
   "source": [
    "import pickle\n",
    "pickle.dump(RFC,open('Zomato_Price_Range-ClassificationModel','wb'))"
   ]
  },
  {
   "cell_type": "code",
   "execution_count": null,
   "id": "32b0f629",
   "metadata": {},
   "outputs": [],
   "source": []
  }
 ],
 "metadata": {
  "kernelspec": {
   "display_name": "Python 3 (ipykernel)",
   "language": "python",
   "name": "python3"
  },
  "language_info": {
   "codemirror_mode": {
    "name": "ipython",
    "version": 3
   },
   "file_extension": ".py",
   "mimetype": "text/x-python",
   "name": "python",
   "nbconvert_exporter": "python",
   "pygments_lexer": "ipython3",
   "version": "3.9.12"
  }
 },
 "nbformat": 4,
 "nbformat_minor": 5
}
